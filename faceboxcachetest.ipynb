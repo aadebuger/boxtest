{
 "cells": [
  {
   "cell_type": "code",
   "execution_count": 1,
   "id": "deluxe-rebecca",
   "metadata": {},
   "outputs": [
    {
     "name": "stdout",
     "output_type": "stream",
     "text": [
      "leancloud init success with app_id: rGngnUit9fqERRVjQMfzQhWg-gzGzoHsz, app_key: xWQ3c4CoLPXIlRd6UxLRGndX, region: CN\n"
     ]
    }
   ],
   "source": [
    "import os\n",
    "import json\n",
    "import leancloud\n",
    "from leancloud.utils import encode\n",
    "import arrow\n",
    "def init_leancloud_client():\n",
    "    import os\n",
    "\n",
    "    LEANCLOUD_APP_ID = os.environ.get(\"LEANCLOUD_APP_ID\", \"rGngnUit9fqERRVjQMfzQhWg-gzGzoHsz\")\n",
    "    LEANCLOUD_APP_KEY = os.environ.get(\"LEANCLOUD_APP_KEY\", \"xWQ3c4CoLPXIlRd6UxLRGndX\")\n",
    "    LEANCLOUD_MASTER_KEY = os.environ.get(\"LEANCLOUD_MASTER_KEY\", \"x3cl6OYR2mC6dDQsW0dMeceJ\")\n",
    "    LEANCLOUD_REGION = os.environ.get(\"LEANCLOUD_REGION\", \"CN\")\n",
    "    leancloud.init(app_id=LEANCLOUD_APP_ID, app_key=LEANCLOUD_APP_KEY, master_key=LEANCLOUD_MASTER_KEY)\n",
    "    leancloud.use_region(LEANCLOUD_REGION)\n",
    "    print(\"leancloud init success with app_id: {}, app_key: {}, region: {}\".format(LEANCLOUD_APP_ID, LEANCLOUD_APP_KEY,\n",
    "                                                                                   LEANCLOUD_REGION))\n",
    "\n",
    "    \n",
    "os.environ['LEANCLOUD_API_SERVER'] = os.environ.get('LEANCLOUD_API_SERVER',\"http://192.168.124.48:7000\")\n",
    "\n",
    "init_leancloud_client()"
   ]
  },
  {
   "cell_type": "code",
   "execution_count": 2,
   "id": "wound-ozone",
   "metadata": {},
   "outputs": [],
   "source": [
    "def lessonlist():\n",
    "    Student = leancloud.Object.extend('Lesson')\n",
    "    query = Student.query\n",
    "    query.descending('createdAt')\n",
    "    student_list = query.find()\n",
    "    return student_list\n",
    "def lessonliststart():\n",
    "    Student = leancloud.Object.extend('Lesson')\n",
    "    query = Student.query\n",
    "    query.descending('startTime')\n",
    "    student_list = query.find()\n",
    "    return student_list\n",
    "def lessonlistend():\n",
    "    Student = leancloud.Object.extend('Lesson')\n",
    "    query = Student.query\n",
    "    query.descending('endTime')\n",
    "    student_list = query.find()\n",
    "    return student_list\n",
    "def isTodaylesson(lesson1):\n",
    "    lm = arrow.get(lesson1.get('lm'))\n",
    "    print(\"lm=\",lm)\n",
    "    ret= isToday(lm)\n",
    "    return ret\n",
    "def isToday(datadate):\n",
    "    today1 = arrow.utcnow()\n",
    "    today=today1.to('Asia/Shanghai')\n",
    "    if datadate.day==today.day and datadate.month == today.month and datadate.year == today.year:\n",
    "        return True\n",
    "    else:\n",
    "        return False\n",
    "def beforeWorktime(todaydate,starttime,endtime):\n",
    "    todaydate=todaydate.to('Asia/Shanghai')\n",
    "    nowstr = todaydate.format(\"HH:mm\")\n",
    "\n",
    "    print(\"nowstr\",nowstr)\n",
    "    print(\"starttime\",starttime)\n",
    "    if nowstr <starttime:\n",
    "        return True\n",
    "\n",
    "    return False\n",
    "def afterWorktime(todaydate,starttime,endtime):\n",
    "    todaydate=todaydate.to('Asia/Shanghai')\n",
    "    nowstr = todaydate.format(\"HH:mm\")\n",
    "\n",
    "    print(\"nowstr\",nowstr)\n",
    "    print(\"endtime\",endtime)\n",
    "    if nowstr >endtime:\n",
    "        print(\"true\")\n",
    "        return True\n",
    "\n",
    "    return False\n",
    "\n",
    "def beforeLessonworktime(lesson1,boxtime):\n",
    "    starttime= lesson1.get('startTime')\n",
    "    if starttime is None:\n",
    "        return False\n",
    "    endtime = lesson1.get('endTime')\n",
    "    if endtime is None:\n",
    "        return False\n",
    "    ret =beforeWorktime(boxtime,starttime,endtime)\n",
    "    return ret\n",
    "def afterLessonworktime(lesson1,boxtime):\n",
    "    starttime= lesson1.get('startTime')\n",
    "    if starttime is None:\n",
    "        return False\n",
    "    endtime = lesson1.get('endTime')\n",
    "    if endtime is None:\n",
    "        return False\n",
    "    ret =afterWorktime(boxtime,starttime,endtime)\n",
    "    return ret\n",
    "        \n",
    "def shangkeqian(boxtime):\n",
    "        student_list= lessonliststart()\n",
    "        todaylesson=filter(lambda lesson:isTodaylesson(lesson),student_list)\n",
    "        todaylessonv= list(todaylesson)\n",
    "        print(\"todaylessoonv\",todaylessonv)\n",
    "        workinglesson = filter(lambda lesson: beforeLessonworktime(lesson,boxtime),todaylessonv)\n",
    "        lv=list(workinglesson)\n",
    "        for item in lv:\n",
    "            value=encode(item,dump_objects=True)\n",
    "            print(value)\n",
    "            processlessonbyuserLevel(item)\n",
    "        if len(lv)>=1:\n",
    "            return lv[0]\n",
    "        else:\n",
    "            return None\n",
    "def shangkehou(boxtime):\n",
    "        student_list= lessonliststart()\n",
    "        todaylesson=filter(lambda lesson:isTodaylesson(lesson),student_list)\n",
    "        todaylessonv= list(todaylesson)\n",
    "        print(\"todaylessoonv\",todaylessonv)\n",
    "        workinglesson = filter(lambda lesson: afterLessonworktime(lesson,boxtime),todaylessonv)\n",
    "        lv=list(workinglesson)\n",
    "        for item in lv:\n",
    "            value=encode(item,dump_objects=True)\n",
    "            print(value)\n",
    "        print(\"len=\",len(lv))\n",
    "        if len(lv)>=1:\n",
    "            return lv[0]\n",
    "        else:\n",
    "            return None"
   ]
  },
  {
   "cell_type": "code",
   "execution_count": 16,
   "id": "south-auckland",
   "metadata": {},
   "outputs": [],
   "source": [
    "lessonv=lessonliststart()"
   ]
  },
  {
   "cell_type": "code",
   "execution_count": 17,
   "id": "formed-perry",
   "metadata": {},
   "outputs": [
    {
     "name": "stdout",
     "output_type": "stream",
     "text": [
      "{'name': '晚课', 'group': '122连', 'dates': ['2021-10-01', '2021-10-02', '2021-10-03', '2021-10-04', '2021-10-05', '2021-10-07', '2021-10-06', '2021-10-08', '2021-10-09', '2021-10-10'], 'startTime': '17:30', 'endTime': '18:00', 'createdAt': {'__type': 'Date', 'iso': '2021-10-08T05:20:15.692Z'}, 'updatedAt': {'__type': 'Date', 'iso': '2021-10-10T09:30:55.878Z'}, '20211008checked': 1, '20211010checked': 1, 'objectId': '615fd50f01043ccf2a72d09d', '__type': 'Object', 'className': 'Lesson'}\n",
      "{'name': '午课4', 'group': '122连', 'dates': ['2021-10-01', '2021-10-02', '2021-10-03', '2021-10-04', '2021-10-05', '2021-10-06', '2021-10-07', '2021-10-08', '2021-10-09', '2021-10-10'], 'startTime': '16:30', 'endTime': '17:00', 'createdAt': {'__type': 'Date', 'iso': '2021-10-08T05:18:11.924Z'}, 'updatedAt': {'__type': 'Date', 'iso': '2021-10-10T08:30:55.886Z'}, '20211008checked': 1, '20211010checked': 1, 'objectId': '615fd49301043ccf2a72cfc8', '__type': 'Object', 'className': 'Lesson'}\n",
      "{'name': '午课3', 'group': '122连', 'dates': ['2021-10-01', '2021-10-02', '2021-10-03', '2021-10-04', '2021-10-05', '2021-10-06', '2021-10-07', '2021-10-08', '2021-10-09', '2021-10-10'], 'startTime': '15:30', 'endTime': '16:00', 'createdAt': {'__type': 'Date', 'iso': '2021-10-08T05:16:44.915Z'}, 'updatedAt': {'__type': 'Date', 'iso': '2021-10-10T07:43:56.037Z'}, '20211008checked': 1, '20211010checked': 1, 'objectId': '615fd43c01043ccf2a72cf5d', '__type': 'Object', 'className': 'Lesson'}\n",
      "{'name': '午课2', 'group': '122连', 'dates': ['2021-10-01', '2021-10-02', '2021-10-03', '2021-10-04', '2021-10-05', '2021-10-06', '2021-10-07', '2021-10-08', '2021-10-09', '2021-10-10'], 'startTime': '14:30', 'endTime': '15:00', 'createdAt': {'__type': 'Date', 'iso': '2021-10-08T05:16:12.275Z'}, 'updatedAt': {'__type': 'Date', 'iso': '2021-10-08T06:30:47.426Z'}, '20211008checked': 1, 'objectId': '615fd41c01043ccf2a72cef2', '__type': 'Object', 'className': 'Lesson'}\n",
      "{'name': '午课1', 'group': '122连', 'dates': ['2021-10-01', '2021-10-10', '2021-10-03', '2021-10-04', '2021-10-05', '2021-10-06', '2021-10-08', '2021-10-09', '2021-10-02', '2021-10-07'], 'startTime': '13:30', 'endTime': '14:00', 'createdAt': {'__type': 'Date', 'iso': '2021-10-08T05:14:42.069Z'}, 'updatedAt': {'__type': 'Date', 'iso': '2021-10-09T05:30:55.876Z'}, '20211008checked': 1, '20211009checked': 1, 'objectId': '615fd3c201043ccf2a72ce21', '__type': 'Object', 'className': 'Lesson'}\n",
      "{'name': '午课', 'group': '122连', 'dates': ['2021-09-27', '2021-09-28', '2021-09-29', '2021-09-30', '2021-10-01', '2021-10-02', '2021-10-03', '2021-10-04', '2021-10-05', '2021-10-06', '2021-10-07', '2021-10-08', '2021-10-09', '2021-10-10'], 'startTime': '12:30', 'endTime': '13:00', 'createdAt': {'__type': 'Date', 'iso': '2021-03-02T18:25:11.731Z'}, 'updatedAt': {'__type': 'Date', 'iso': '2021-10-09T04:30:55.884Z'}, '20210819checked': 1, '20210820checked': 1, '20210821checked': 1, '20210823checked': 1, '20210824checked': 1, '20210825checked': 1, '20210826checked': 1, '20210927checked': 1, '20210928checked': 1, '20210929checked': 1, '20210930checked': 1, '20211009checked': 1, 'objectId': '603e83078fb9e9d3280d95e3', '__type': 'Object', 'className': 'Lesson'}\n",
      "{'name': '早课3', 'group': '122连', 'dates': ['2021-10-01', '2021-10-10', '2021-10-03', '2021-10-04', '2021-10-05', '2021-10-06', '2021-10-07', '2021-10-08', '2021-10-09', '2021-10-02'], 'startTime': '11:30', 'endTime': '12:00', 'createdAt': {'__type': 'Date', 'iso': '2021-10-08T05:10:43.990Z'}, 'updatedAt': {'__type': 'Date', 'iso': '2021-10-09T03:30:47.418Z'}, '20211009checked': 1, 'objectId': '615fd2d301043ccf2a72ccc9', '__type': 'Object', 'className': 'Lesson'}\n",
      "{'name': '早课2', 'group': '122连', 'dates': ['2021-10-01', '2021-10-02', '2021-10-03', '2021-10-04', '2021-10-05', '2021-10-06', '2021-10-07', '2021-10-08', '2021-10-09', '2021-10-10'], 'startTime': '10:30', 'endTime': '11:00', 'createdAt': {'__type': 'Date', 'iso': '2021-10-08T05:08:56.207Z'}, 'updatedAt': {'__type': 'Date', 'iso': '2021-10-09T02:30:47.423Z'}, '20211009checked': 1, 'objectId': '615fd26801043ccf2a72cc09', '__type': 'Object', 'className': 'Lesson'}\n",
      "{'name': '早课1', 'group': '122连', 'dates': ['2021-10-04', '2021-10-05', '2021-10-06', '2021-10-07', '2021-10-08', '2021-10-09', '2021-10-10', '2021-10-03', '2021-10-01', '2021-10-02'], 'startTime': '09:30', 'endTime': '10:00', 'createdAt': {'__type': 'Date', 'iso': '2021-10-08T05:07:23.268Z'}, 'updatedAt': {'__type': 'Date', 'iso': '2021-10-09T01:30:47.431Z'}, '20211009checked': 1, 'objectId': '615fd20b01043ccf2a72cb34', '__type': 'Object', 'className': 'Lesson'}\n",
      "{'name': '早课', 'group': '122连', 'dates': ['2021-09-27', '2021-09-28', '2021-09-29', '2021-09-30', '2021-10-08', '2021-10-09', '2021-10-07', '2021-10-10', '2021-10-03', '2021-10-04', '2021-10-05', '2021-10-06', '2021-10-01', '2021-10-02'], 'startTime': '08:30', 'endTime': '09:00', 'createdAt': {'__type': 'Date', 'iso': '2021-03-02T17:02:42.859Z'}, 'updatedAt': {'__type': 'Date', 'iso': '2021-10-09T00:30:47.429Z'}, '20210820checked': 1, '20210823checked': 1, '20210824checked': 1, '20210825checked': 1, '20210826checked': 1, '20210908checked': 1, '20210909checked': 1, '20210910checked': 1, '20210911checked': 1, '20210912checked': 1, '20210928checked': 1, '20210929checked': 1, '20210930checked': 1, '20211009checked': 1, 'objectId': '603e6fb28fb9e9d3280d95e0', '__type': 'Object', 'className': 'Lesson'}\n"
     ]
    }
   ],
   "source": [
    "for item in list(lessonv):\n",
    "            value=encode(item,dump_objects=True)\n",
    "            print(value)\n"
   ]
  },
  {
   "cell_type": "code",
   "execution_count": 37,
   "id": "confidential-luther",
   "metadata": {},
   "outputs": [
    {
     "name": "stdout",
     "output_type": "stream",
     "text": [
      "lm= 2021-10-10T14:45:20.385864+00:00\n",
      "lm= 2021-10-10T14:45:20.387392+00:00\n",
      "lm= 2021-10-10T14:45:20.388234+00:00\n",
      "lm= 2021-10-10T14:45:20.389389+00:00\n",
      "lm= 2021-10-10T14:45:20.390471+00:00\n",
      "lm= 2021-10-10T14:45:20.391551+00:00\n",
      "lm= 2021-10-10T14:45:20.392666+00:00\n",
      "lm= 2021-10-10T14:45:20.393468+00:00\n",
      "lm= 2021-10-10T14:45:20.394380+00:00\n",
      "lm= 2021-10-10T14:45:20.395278+00:00\n",
      "todaylessoonv [<leancloud.object_.Lesson object at 0xffffb00b5790>, <leancloud.object_.Lesson object at 0xffffb00b5df0>, <leancloud.object_.Lesson object at 0xffffb00b5370>, <leancloud.object_.Lesson object at 0xffffb00b59a0>, <leancloud.object_.Lesson object at 0xffffb00b5490>, <leancloud.object_.Lesson object at 0xffffb00b52e0>, <leancloud.object_.Lesson object at 0xffffb00b5730>, <leancloud.object_.Lesson object at 0xffffb00b54f0>, <leancloud.object_.Lesson object at 0xffffb00b5550>, <leancloud.object_.Lesson object at 0xffffb00d3b50>]\n",
      "nowstr 22:45\n",
      "starttime 17:30\n",
      "nowstr 22:45\n",
      "starttime 16:30\n",
      "nowstr 22:45\n",
      "starttime 15:30\n",
      "nowstr 22:45\n",
      "starttime 14:30\n",
      "nowstr 22:45\n",
      "starttime 13:30\n",
      "nowstr 22:45\n",
      "starttime 12:30\n",
      "nowstr 22:45\n",
      "starttime 11:30\n",
      "nowstr 22:45\n",
      "starttime 10:30\n",
      "nowstr 22:45\n",
      "starttime 09:30\n",
      "nowstr 22:45\n",
      "starttime 08:30\n"
     ]
    }
   ],
   "source": [
    "shangkeqian(arrow.utcnow())"
   ]
  },
  {
   "cell_type": "code",
   "execution_count": 57,
   "id": "strong-death",
   "metadata": {},
   "outputs": [
    {
     "name": "stdout",
     "output_type": "stream",
     "text": [
      "lm= 2021-10-11T15:00:47.160402+00:00\n",
      "lm= 2021-10-11T15:00:47.161634+00:00\n",
      "lm= 2021-10-11T15:00:47.162918+00:00\n",
      "lm= 2021-10-11T15:00:47.163839+00:00\n",
      "lm= 2021-10-11T15:00:47.164653+00:00\n",
      "lm= 2021-10-11T15:00:47.165687+00:00\n",
      "lm= 2021-10-11T15:00:47.166587+00:00\n",
      "lm= 2021-10-11T15:00:47.167479+00:00\n",
      "lm= 2021-10-11T15:00:47.168437+00:00\n",
      "lm= 2021-10-11T15:00:47.169254+00:00\n",
      "todaylessoonv [<leancloud.object_.Lesson object at 0xffffb00d1520>, <leancloud.object_.Lesson object at 0xffffb00d1f10>, <leancloud.object_.Lesson object at 0xffffb00d1910>, <leancloud.object_.Lesson object at 0xffffb00d7eb0>, <leancloud.object_.Lesson object at 0xffffb00d7580>, <leancloud.object_.Lesson object at 0xffffb00d7b80>, <leancloud.object_.Lesson object at 0xffffb00d3e20>, <leancloud.object_.Lesson object at 0xffffb00d3af0>, <leancloud.object_.Lesson object at 0xffffb00d3eb0>, <leancloud.object_.Lesson object at 0xffffb00d3f10>]\n",
      "nowstr 23:00\n",
      "endtime 18:00\n",
      "true\n",
      "nowstr 23:00\n",
      "endtime 17:00\n",
      "true\n",
      "nowstr 23:00\n",
      "endtime 16:00\n",
      "true\n",
      "nowstr 23:00\n",
      "endtime 15:00\n",
      "true\n",
      "nowstr 23:00\n",
      "endtime 14:00\n",
      "true\n",
      "nowstr 23:00\n",
      "endtime 13:00\n",
      "true\n",
      "nowstr 23:00\n",
      "endtime 12:00\n",
      "true\n",
      "nowstr 23:00\n",
      "endtime 11:00\n",
      "true\n",
      "nowstr 23:00\n",
      "endtime 10:00\n",
      "true\n",
      "nowstr 23:00\n",
      "endtime 09:00\n",
      "true\n",
      "{'name': '晚课', 'group': '122连', 'dates': ['2021-10-01', '2021-10-02', '2021-10-03', '2021-10-04', '2021-10-05', '2021-10-07', '2021-10-06', '2021-10-08', '2021-10-09', '2021-10-10'], 'startTime': '17:30', 'endTime': '18:00', 'createdAt': {'__type': 'Date', 'iso': '2021-10-08T05:20:15.692Z'}, 'updatedAt': {'__type': 'Date', 'iso': '2021-10-10T09:30:55.878Z'}, '20211008checked': 1, '20211010checked': 1, 'objectId': '615fd50f01043ccf2a72d09d', '__type': 'Object', 'className': 'Lesson'}\n",
      "{'name': '午课4', 'group': '122连', 'dates': ['2021-10-01', '2021-10-02', '2021-10-03', '2021-10-04', '2021-10-05', '2021-10-06', '2021-10-07', '2021-10-08', '2021-10-09', '2021-10-10'], 'startTime': '16:30', 'endTime': '17:00', 'createdAt': {'__type': 'Date', 'iso': '2021-10-08T05:18:11.924Z'}, 'updatedAt': {'__type': 'Date', 'iso': '2021-10-10T08:30:55.886Z'}, '20211008checked': 1, '20211010checked': 1, 'objectId': '615fd49301043ccf2a72cfc8', '__type': 'Object', 'className': 'Lesson'}\n",
      "{'name': '午课3', 'group': '122连', 'dates': ['2021-10-01', '2021-10-02', '2021-10-03', '2021-10-04', '2021-10-05', '2021-10-06', '2021-10-07', '2021-10-08', '2021-10-09', '2021-10-10'], 'startTime': '15:30', 'endTime': '16:00', 'createdAt': {'__type': 'Date', 'iso': '2021-10-08T05:16:44.915Z'}, 'updatedAt': {'__type': 'Date', 'iso': '2021-10-10T07:43:56.037Z'}, '20211008checked': 1, '20211010checked': 1, 'objectId': '615fd43c01043ccf2a72cf5d', '__type': 'Object', 'className': 'Lesson'}\n",
      "{'name': '午课2', 'group': '122连', 'dates': ['2021-10-01', '2021-10-02', '2021-10-03', '2021-10-04', '2021-10-05', '2021-10-06', '2021-10-07', '2021-10-08', '2021-10-09', '2021-10-10'], 'startTime': '14:30', 'endTime': '15:00', 'createdAt': {'__type': 'Date', 'iso': '2021-10-08T05:16:12.275Z'}, 'updatedAt': {'__type': 'Date', 'iso': '2021-10-08T06:30:47.426Z'}, '20211008checked': 1, 'objectId': '615fd41c01043ccf2a72cef2', '__type': 'Object', 'className': 'Lesson'}\n",
      "{'name': '午课1', 'group': '122连', 'dates': ['2021-10-01', '2021-10-10', '2021-10-03', '2021-10-04', '2021-10-05', '2021-10-06', '2021-10-08', '2021-10-09', '2021-10-02', '2021-10-07'], 'startTime': '13:30', 'endTime': '14:00', 'createdAt': {'__type': 'Date', 'iso': '2021-10-08T05:14:42.069Z'}, 'updatedAt': {'__type': 'Date', 'iso': '2021-10-09T05:30:55.876Z'}, '20211008checked': 1, '20211009checked': 1, 'objectId': '615fd3c201043ccf2a72ce21', '__type': 'Object', 'className': 'Lesson'}\n",
      "{'name': '午课', 'group': '122连', 'dates': ['2021-09-27', '2021-09-28', '2021-09-29', '2021-09-30', '2021-10-01', '2021-10-02', '2021-10-03', '2021-10-04', '2021-10-05', '2021-10-06', '2021-10-07', '2021-10-08', '2021-10-09', '2021-10-10'], 'startTime': '12:30', 'endTime': '13:00', 'createdAt': {'__type': 'Date', 'iso': '2021-03-02T18:25:11.731Z'}, 'updatedAt': {'__type': 'Date', 'iso': '2021-10-09T04:30:55.884Z'}, '20210819checked': 1, '20210820checked': 1, '20210821checked': 1, '20210823checked': 1, '20210824checked': 1, '20210825checked': 1, '20210826checked': 1, '20210927checked': 1, '20210928checked': 1, '20210929checked': 1, '20210930checked': 1, '20211009checked': 1, 'objectId': '603e83078fb9e9d3280d95e3', '__type': 'Object', 'className': 'Lesson'}\n",
      "{'name': '早课3', 'group': '122连', 'dates': ['2021-10-01', '2021-10-10', '2021-10-03', '2021-10-04', '2021-10-05', '2021-10-06', '2021-10-07', '2021-10-08', '2021-10-09', '2021-10-02'], 'startTime': '11:30', 'endTime': '12:00', 'createdAt': {'__type': 'Date', 'iso': '2021-10-08T05:10:43.990Z'}, 'updatedAt': {'__type': 'Date', 'iso': '2021-10-09T03:30:47.418Z'}, '20211009checked': 1, 'objectId': '615fd2d301043ccf2a72ccc9', '__type': 'Object', 'className': 'Lesson'}\n",
      "{'name': '早课2', 'group': '122连', 'dates': ['2021-10-01', '2021-10-02', '2021-10-03', '2021-10-04', '2021-10-05', '2021-10-06', '2021-10-07', '2021-10-08', '2021-10-09', '2021-10-10'], 'startTime': '10:30', 'endTime': '11:00', 'createdAt': {'__type': 'Date', 'iso': '2021-10-08T05:08:56.207Z'}, 'updatedAt': {'__type': 'Date', 'iso': '2021-10-09T02:30:47.423Z'}, '20211009checked': 1, 'objectId': '615fd26801043ccf2a72cc09', '__type': 'Object', 'className': 'Lesson'}\n",
      "{'name': '早课1', 'group': '122连', 'dates': ['2021-10-04', '2021-10-05', '2021-10-06', '2021-10-07', '2021-10-08', '2021-10-09', '2021-10-10', '2021-10-03', '2021-10-01', '2021-10-02'], 'startTime': '09:30', 'endTime': '10:00', 'createdAt': {'__type': 'Date', 'iso': '2021-10-08T05:07:23.268Z'}, 'updatedAt': {'__type': 'Date', 'iso': '2021-10-09T01:30:47.431Z'}, '20211009checked': 1, 'objectId': '615fd20b01043ccf2a72cb34', '__type': 'Object', 'className': 'Lesson'}\n",
      "{'name': '早课', 'group': '122连', 'dates': ['2021-09-27', '2021-09-28', '2021-09-29', '2021-09-30', '2021-10-08', '2021-10-09', '2021-10-07', '2021-10-10', '2021-10-03', '2021-10-04', '2021-10-05', '2021-10-06', '2021-10-01', '2021-10-02'], 'startTime': '08:30', 'endTime': '09:00', 'createdAt': {'__type': 'Date', 'iso': '2021-03-02T17:02:42.859Z'}, 'updatedAt': {'__type': 'Date', 'iso': '2021-10-09T00:30:47.429Z'}, '20210820checked': 1, '20210823checked': 1, '20210824checked': 1, '20210825checked': 1, '20210826checked': 1, '20210908checked': 1, '20210909checked': 1, '20210910checked': 1, '20210911checked': 1, '20210912checked': 1, '20210928checked': 1, '20210929checked': 1, '20210930checked': 1, '20211009checked': 1, 'objectId': '603e6fb28fb9e9d3280d95e0', '__type': 'Object', 'className': 'Lesson'}\n",
      "len= 10\n"
     ]
    }
   ],
   "source": [
    "lesson1=shangkehou(arrow.utcnow())"
   ]
  },
  {
   "cell_type": "code",
   "execution_count": 45,
   "id": "healthy-jerusalem",
   "metadata": {},
   "outputs": [
    {
     "data": {
      "text/plain": [
       "False"
      ]
     },
     "execution_count": 45,
     "metadata": {},
     "output_type": "execute_result"
    }
   ],
   "source": [
    "\"22:51\">\"23:00\""
   ]
  },
  {
   "cell_type": "code",
   "execution_count": 64,
   "id": "external-sustainability",
   "metadata": {},
   "outputs": [],
   "source": [
    "userlevel = lesson1.get(\"group\")"
   ]
  },
  {
   "cell_type": "code",
   "execution_count": 65,
   "id": "humanitarian-bench",
   "metadata": {},
   "outputs": [
    {
     "name": "stdout",
     "output_type": "stream",
     "text": [
      "122连\n"
     ]
    }
   ],
   "source": [
    "print(userlevel)"
   ]
  },
  {
   "cell_type": "code",
   "execution_count": 62,
   "id": "analyzed-compensation",
   "metadata": {},
   "outputs": [],
   "source": [
    "def studentlist():\n",
    "    Todo = leancloud.Object.extend('Student')\n",
    "    query = Todo.query\n",
    "    query_result = query.find()\n",
    "    conv=[]\n",
    "    for item in query_result:\n",
    "        print(item)\n",
    "        value=encode(item,dump_objects=True)\n",
    "        print(value)\n",
    "        conv.append(item)\n",
    "    return list(conv)"
   ]
  },
  {
   "cell_type": "code",
   "execution_count": 63,
   "id": "upper-patio",
   "metadata": {},
   "outputs": [
    {
     "name": "stdout",
     "output_type": "stream",
     "text": [
      "<leancloud.object_.Student object at 0xffffb00d7610>\n",
      "{'name': '韩', 'realname': '韩', 'group': '122连', 'androidid': 'R58MA0PDHXR', 'model': 'SM-M3070', 'phone': '12343572332', 'imageurl': 'http://192.168.124.48:9000/boxhr/han.png', 'boxNumber': '7', 'createdAt': {'__type': 'Date', 'iso': '2021-03-04T17:00:48.106Z'}, 'updatedAt': {'__type': 'Date', 'iso': '2021-08-19T15:50:26.417Z'}, 'syncing': 0, 'code': 0, 'msg': '该箱号已经被占用5', 'userid': 8, 'objectId': '60411240caaac5adbe78c01d', '__type': 'Object', 'className': 'Student'}\n",
      "<leancloud.object_.Student object at 0xffffb00d75b0>\n",
      "{'name': '蔡', 'realname': '蔡', 'group': '122连', 'androidid': 'PNXGAM5891406481', 'model': 'Nokia X7', 'phone': '15324632542', 'imageurl': 'http://192.168.124.48:9000/boxhr/mi.png', 'boxNumber': '9', 'createdAt': {'__type': 'Date', 'iso': '2021-03-04T19:00:46.203Z'}, 'updatedAt': {'__type': 'Date', 'iso': '2021-08-19T15:19:01.740Z'}, 'syncing': 0, 'code': 1, 'msg': '下发人员成功', 'userid': 7, 'objectId': '60412e5ea3518d8eee5802c1', '__type': 'Object', 'className': 'Student'}\n",
      "<leancloud.object_.Student object at 0xffffb00d7d60>\n",
      "{'name': '张荣', 'realname': '张荣', 'group': '122连', 'androidid': 'A7QDU18825002314', 'model': 'BKL-AL20', 'phone': '15324322343', 'imageurl': 'http://192.168.124.48:9000/boxhr/2821631064364_.pic.jpg', 'boxNumber': '11', 'createdAt': {'__type': 'Date', 'iso': '2021-09-08T02:17:21.650Z'}, 'updatedAt': {'__type': 'Date', 'iso': '2021-09-10T02:12:08.112Z'}, 'syncing': 0, 'code': 0, 'msg': '该箱号已经被占用5', 'userid': 9, 'IMEI1': '235468754321143', 'IMEI2': '123513245643754', 'ranks': '中尉', 'soldier': '', 'title': '联络官', 'objectId': '61381d318b9cd2da27e0819b', '__type': 'Object', 'className': 'Student'}\n"
     ]
    },
    {
     "data": {
      "text/plain": [
       "[<leancloud.object_.Student at 0xffffb00d7610>,\n",
       " <leancloud.object_.Student at 0xffffb00d75b0>,\n",
       " <leancloud.object_.Student at 0xffffb00d7d60>]"
      ]
     },
     "execution_count": 63,
     "metadata": {},
     "output_type": "execute_result"
    }
   ],
   "source": [
    "studentlist()"
   ]
  },
  {
   "cell_type": "code",
   "execution_count": 75,
   "id": "editorial-wrapping",
   "metadata": {},
   "outputs": [],
   "source": [
    "def startTimetoDate(starttime):\n",
    "    hour1=starttime[0:2]\n",
    "    min1 = starttime[3:5]\n",
    "    print(hour1)\n",
    "    print(min1)\n",
    "    datestr=arrow.utcnow().format('YYYY-MM-DD')\n",
    "    newdatestr=datestr+\" \"+ starttime\n",
    "    print(newdatestr)\n",
    "    querydate= arrow.get(newdatestr, 'YYYY-MM-DD HH:mm')\n",
    "    print(querydate)"
   ]
  },
  {
   "cell_type": "code",
   "execution_count": 76,
   "id": "handed-denial",
   "metadata": {},
   "outputs": [
    {
     "name": "stdout",
     "output_type": "stream",
     "text": [
      "12\n",
      "30\n",
      "2021-10-11 12:30\n",
      "2021-10-11T12:30:00+00:00\n"
     ]
    }
   ],
   "source": [
    "startTimetoDate(\"12:30\")"
   ]
  },
  {
   "cell_type": "code",
   "execution_count": 1,
   "id": "incorporated-township",
   "metadata": {},
   "outputs": [],
   "source": [
    "def faceboxcachelist():\n",
    "    Todo = leancloud.Object.extend('Faceboxcache')\n",
    "    query = Todo.query\n",
    "    query.descending('boxtime')\n",
    "#mytest\n",
    "#    query.ascending('boxtime')\n",
    "\n",
    "    query_result = query.find()\n",
    "    conv=[]\n",
    "    for item in query_result:\n",
    "        print(item)\n",
    "        value=encode(item,dump_objects=True)\n",
    "        print(value)\n",
    "        conv.append(item)\n",
    "    return list(conv)"
   ]
  },
  {
   "cell_type": "code",
   "execution_count": 4,
   "id": "devoted-label",
   "metadata": {},
   "outputs": [
    {
     "name": "stdout",
     "output_type": "stream",
     "text": [
      "<leancloud.object_.Faceboxcache object at 0xffff9c73f1c0>\n",
      "{'name': '张荣荣', 'boxresult': '取箱11', 'boxtime': 1633858061695, 'type': 1, 'createdAt': {'__type': 'Date', 'iso': '2021-10-12T02:23:08.349Z'}, 'updatedAt': {'__type': 'Date', 'iso': '2021-10-12T02:23:08.349Z'}, 'objectId': '6164f18c21cb229d32d178bf', '__type': 'Object', 'className': 'Faceboxcache'}\n",
      "<leancloud.object_.Faceboxcache object at 0xffff9c758d60>\n",
      "{'name': '张荣荣', 'boxresult': '取箱11', 'boxtime': 1633858055259, 'type': 1, 'createdAt': {'__type': 'Date', 'iso': '2021-10-12T02:23:08.454Z'}, 'updatedAt': {'__type': 'Date', 'iso': '2021-10-12T02:23:08.454Z'}, 'objectId': '6164f18c21cb229d32d178c0', '__type': 'Object', 'className': 'Faceboxcache'}\n",
      "<leancloud.object_.Faceboxcache object at 0xffff9c758b20>\n",
      "{'name': '张荣荣', 'boxresult': '取箱11', 'boxtime': 1632886130124, 'type': 1, 'createdAt': {'__type': 'Date', 'iso': '2021-10-12T02:23:08.473Z'}, 'updatedAt': {'__type': 'Date', 'iso': '2021-10-12T02:23:08.473Z'}, 'objectId': '6164f18c21cb229d32d178c1', '__type': 'Object', 'className': 'Faceboxcache'}\n",
      "<leancloud.object_.Faceboxcache object at 0xffff9c758220>\n",
      "{'name': '张荣荣', 'boxresult': '取箱11', 'boxtime': 1632886126037, 'type': 1, 'createdAt': {'__type': 'Date', 'iso': '2021-10-12T02:23:08.491Z'}, 'updatedAt': {'__type': 'Date', 'iso': '2021-10-12T02:23:08.491Z'}, 'objectId': '6164f18c21cb229d32d178c2', '__type': 'Object', 'className': 'Faceboxcache'}\n",
      "<leancloud.object_.Faceboxcache object at 0xffff9c72ca30>\n",
      "{'name': '危', 'boxresult': '取箱6', 'boxtime': 1632709613165, 'type': 1, 'createdAt': {'__type': 'Date', 'iso': '2021-10-12T02:23:08.509Z'}, 'updatedAt': {'__type': 'Date', 'iso': '2021-10-12T02:23:08.509Z'}, 'objectId': '6164f18c21cb229d32d178c3', '__type': 'Object', 'className': 'Faceboxcache'}\n",
      "<leancloud.object_.Faceboxcache object at 0xffff9c67f4c0>\n",
      "{'name': '危', 'boxresult': '取箱6', 'boxtime': 1632709607912, 'type': 1, 'createdAt': {'__type': 'Date', 'iso': '2021-10-12T02:23:08.527Z'}, 'updatedAt': {'__type': 'Date', 'iso': '2021-10-12T02:23:08.527Z'}, 'objectId': '6164f18c21cb229d32d178c4', '__type': 'Object', 'className': 'Faceboxcache'}\n",
      "<leancloud.object_.Faceboxcache object at 0xffff9c67f5e0>\n",
      "{'name': '张荣荣', 'boxresult': '取箱11', 'boxtime': 1632708930523, 'type': 1, 'createdAt': {'__type': 'Date', 'iso': '2021-10-12T02:23:08.546Z'}, 'updatedAt': {'__type': 'Date', 'iso': '2021-10-12T02:23:08.546Z'}, 'objectId': '6164f18c21cb229d32d178c5', '__type': 'Object', 'className': 'Faceboxcache'}\n",
      "<leancloud.object_.Faceboxcache object at 0xffff9c67fbe0>\n",
      "{'name': '张荣荣', 'boxresult': '取箱11', 'boxtime': 1632551192952, 'type': 1, 'createdAt': {'__type': 'Date', 'iso': '2021-10-12T02:23:08.564Z'}, 'updatedAt': {'__type': 'Date', 'iso': '2021-10-12T02:23:08.564Z'}, 'objectId': '6164f18c21cb229d32d178c6', '__type': 'Object', 'className': 'Faceboxcache'}\n",
      "<leancloud.object_.Faceboxcache object at 0xffff9c67f550>\n",
      "{'name': '危', 'boxresult': '取箱6', 'boxtime': 1632457177159, 'type': 1, 'createdAt': {'__type': 'Date', 'iso': '2021-10-12T02:23:08.582Z'}, 'updatedAt': {'__type': 'Date', 'iso': '2021-10-12T02:23:08.582Z'}, 'objectId': '6164f18c21cb229d32d178c7', '__type': 'Object', 'className': 'Faceboxcache'}\n",
      "<leancloud.object_.Faceboxcache object at 0xffff9c12ad00>\n",
      "{'name': '危', 'boxresult': '取箱6', 'boxtime': 1631955351825, 'type': 1, 'createdAt': {'__type': 'Date', 'iso': '2021-10-12T02:23:08.601Z'}, 'updatedAt': {'__type': 'Date', 'iso': '2021-10-12T02:23:08.601Z'}, 'objectId': '6164f18c21cb229d32d178c8', '__type': 'Object', 'className': 'Faceboxcache'}\n",
      "<leancloud.object_.Faceboxcache object at 0xffff9c12af40>\n",
      "{'name': '危', 'boxresult': '取箱6', 'boxtime': 1631955022397, 'type': 1, 'createdAt': {'__type': 'Date', 'iso': '2021-10-12T02:23:08.619Z'}, 'updatedAt': {'__type': 'Date', 'iso': '2021-10-12T02:23:08.619Z'}, 'objectId': '6164f18c21cb229d32d178c9', '__type': 'Object', 'className': 'Faceboxcache'}\n",
      "<leancloud.object_.Faceboxcache object at 0xffff9c12aca0>\n",
      "{'name': '张荣荣', 'boxresult': '取箱11', 'boxtime': 1631948487419, 'type': 1, 'createdAt': {'__type': 'Date', 'iso': '2021-10-12T02:23:08.637Z'}, 'updatedAt': {'__type': 'Date', 'iso': '2021-10-12T02:23:08.637Z'}, 'objectId': '6164f18c21cb229d32d178ca', '__type': 'Object', 'className': 'Faceboxcache'}\n",
      "<leancloud.object_.Faceboxcache object at 0xffff9c0ea340>\n",
      "{'name': '张荣荣', 'boxresult': '取箱11', 'boxtime': 1631938628372, 'type': 1, 'createdAt': {'__type': 'Date', 'iso': '2021-10-12T02:23:08.656Z'}, 'updatedAt': {'__type': 'Date', 'iso': '2021-10-12T02:23:08.656Z'}, 'objectId': '6164f18c21cb229d32d178cb', '__type': 'Object', 'className': 'Faceboxcache'}\n",
      "<leancloud.object_.Faceboxcache object at 0xffff9c0ea550>\n",
      "{'name': '危', 'boxresult': '取箱6', 'boxtime': 1631938011264, 'type': 1, 'createdAt': {'__type': 'Date', 'iso': '2021-10-12T02:23:08.674Z'}, 'updatedAt': {'__type': 'Date', 'iso': '2021-10-12T02:23:08.674Z'}, 'objectId': '6164f18c21cb229d32d178cc', '__type': 'Object', 'className': 'Faceboxcache'}\n",
      "<leancloud.object_.Faceboxcache object at 0xffff9c0ea760>\n",
      "{'name': '危', 'boxresult': '取箱6', 'boxtime': 1631872152241, 'type': 1, 'createdAt': {'__type': 'Date', 'iso': '2021-10-12T02:23:08.693Z'}, 'updatedAt': {'__type': 'Date', 'iso': '2021-10-12T02:23:08.693Z'}, 'objectId': '6164f18c21cb229d32d178cd', '__type': 'Object', 'className': 'Faceboxcache'}\n",
      "<leancloud.object_.Faceboxcache object at 0xffff9c0ea970>\n",
      "{'name': '危', 'boxresult': '取箱6', 'boxtime': 1631777310932, 'type': 1, 'createdAt': {'__type': 'Date', 'iso': '2021-10-12T02:23:08.711Z'}, 'updatedAt': {'__type': 'Date', 'iso': '2021-10-12T02:23:08.711Z'}, 'objectId': '6164f18c21cb229d32d178ce', '__type': 'Object', 'className': 'Faceboxcache'}\n",
      "<leancloud.object_.Faceboxcache object at 0xffff9c0eab80>\n",
      "{'name': '危', 'boxresult': '取箱6', 'boxtime': 1631777302653, 'type': 1, 'createdAt': {'__type': 'Date', 'iso': '2021-10-12T02:23:08.730Z'}, 'updatedAt': {'__type': 'Date', 'iso': '2021-10-12T02:23:08.730Z'}, 'objectId': '6164f18c21cb229d32d178cf', '__type': 'Object', 'className': 'Faceboxcache'}\n",
      "<leancloud.object_.Faceboxcache object at 0xffff9c0ead90>\n",
      "{'name': '张荣荣', 'boxresult': '取箱11', 'boxtime': 1631694422491, 'type': 1, 'createdAt': {'__type': 'Date', 'iso': '2021-10-12T02:23:08.748Z'}, 'updatedAt': {'__type': 'Date', 'iso': '2021-10-12T02:23:08.748Z'}, 'objectId': '6164f18c21cb229d32d178d0', '__type': 'Object', 'className': 'Faceboxcache'}\n",
      "<leancloud.object_.Faceboxcache object at 0xffff9c0eafa0>\n",
      "{'name': '张荣荣', 'boxresult': '取箱11', 'boxtime': 1631694417827, 'type': 1, 'createdAt': {'__type': 'Date', 'iso': '2021-10-12T02:23:08.770Z'}, 'updatedAt': {'__type': 'Date', 'iso': '2021-10-12T02:23:08.770Z'}, 'objectId': '6164f18c21cb229d32d178d1', '__type': 'Object', 'className': 'Faceboxcache'}\n",
      "<leancloud.object_.Faceboxcache object at 0xffff9c0eab20>\n",
      "{'name': '危', 'boxresult': '取箱6', 'boxtime': 1631607369711, 'type': 1, 'createdAt': {'__type': 'Date', 'iso': '2021-10-12T02:23:08.790Z'}, 'updatedAt': {'__type': 'Date', 'iso': '2021-10-12T02:23:08.790Z'}, 'objectId': '6164f18c21cb229d32d178d2', '__type': 'Object', 'className': 'Faceboxcache'}\n",
      "<leancloud.object_.Faceboxcache object at 0xffff9c0ec400>\n",
      "{'name': '张荣荣', 'boxresult': '取箱11', 'boxtime': 1631600200602, 'type': 1, 'createdAt': {'__type': 'Date', 'iso': '2021-10-12T02:23:08.989Z'}, 'updatedAt': {'__type': 'Date', 'iso': '2021-10-12T02:23:08.989Z'}, 'objectId': '6164f18c21cb229d32d178d3', '__type': 'Object', 'className': 'Faceboxcache'}\n",
      "<leancloud.object_.Faceboxcache object at 0xffff9c0ec610>\n",
      "{'name': '张荣荣', 'boxresult': '取箱11', 'boxtime': 1631600194743, 'type': 1, 'createdAt': {'__type': 'Date', 'iso': '2021-10-12T02:23:09.009Z'}, 'updatedAt': {'__type': 'Date', 'iso': '2021-10-12T02:23:09.009Z'}, 'objectId': '6164f18d21cb229d32d178d4', '__type': 'Object', 'className': 'Faceboxcache'}\n",
      "<leancloud.object_.Faceboxcache object at 0xffff9c0ec820>\n",
      "{'name': '危', 'boxresult': '取箱6', 'boxtime': 1631593498154, 'type': 1, 'createdAt': {'__type': 'Date', 'iso': '2021-10-12T02:23:09.027Z'}, 'updatedAt': {'__type': 'Date', 'iso': '2021-10-12T02:23:09.027Z'}, 'objectId': '6164f18d21cb229d32d178d5', '__type': 'Object', 'className': 'Faceboxcache'}\n",
      "<leancloud.object_.Faceboxcache object at 0xffff9c0eca30>\n",
      "{'name': '危', 'boxresult': '取箱6', 'boxtime': 1631593492898, 'type': 1, 'createdAt': {'__type': 'Date', 'iso': '2021-10-12T02:23:09.045Z'}, 'updatedAt': {'__type': 'Date', 'iso': '2021-10-12T02:23:09.045Z'}, 'objectId': '6164f18d21cb229d32d178d6', '__type': 'Object', 'className': 'Faceboxcache'}\n",
      "<leancloud.object_.Faceboxcache object at 0xffff9c0ecc40>\n",
      "{'name': '危', 'boxresult': '取箱6', 'boxtime': 1631593477485, 'type': 1, 'createdAt': {'__type': 'Date', 'iso': '2021-10-12T02:23:09.063Z'}, 'updatedAt': {'__type': 'Date', 'iso': '2021-10-12T02:23:09.063Z'}, 'objectId': '6164f18d21cb229d32d178d7', '__type': 'Object', 'className': 'Faceboxcache'}\n",
      "<leancloud.object_.Faceboxcache object at 0xffff9c0ece50>\n",
      "{'name': '韩', 'boxresult': '取箱7', 'boxtime': 1631593455127, 'type': 1, 'createdAt': {'__type': 'Date', 'iso': '2021-10-12T02:23:09.082Z'}, 'updatedAt': {'__type': 'Date', 'iso': '2021-10-12T02:23:09.082Z'}, 'objectId': '6164f18d21cb229d32d178d8', '__type': 'Object', 'className': 'Faceboxcache'}\n",
      "<leancloud.object_.Faceboxcache object at 0xffff9c0ecfa0>\n",
      "{'name': '韩', 'boxresult': '取箱7', 'boxtime': 1631593446791, 'type': 1, 'createdAt': {'__type': 'Date', 'iso': '2021-10-12T02:23:09.100Z'}, 'updatedAt': {'__type': 'Date', 'iso': '2021-10-12T02:23:09.100Z'}, 'objectId': '6164f18d21cb229d32d178d9', '__type': 'Object', 'className': 'Faceboxcache'}\n",
      "<leancloud.object_.Faceboxcache object at 0xffff9c0ee2b0>\n",
      "{'name': '危', 'boxresult': '取箱6', 'boxtime': 1631526156164, 'type': 1, 'createdAt': {'__type': 'Date', 'iso': '2021-10-12T02:23:09.119Z'}, 'updatedAt': {'__type': 'Date', 'iso': '2021-10-12T02:23:09.119Z'}, 'objectId': '6164f18d21cb229d32d178da', '__type': 'Object', 'className': 'Faceboxcache'}\n",
      "<leancloud.object_.Faceboxcache object at 0xffff9c0ee4c0>\n",
      "{'name': '张荣荣', 'boxresult': '取箱11', 'boxtime': 1631526143159, 'type': 1, 'createdAt': {'__type': 'Date', 'iso': '2021-10-12T02:23:09.137Z'}, 'updatedAt': {'__type': 'Date', 'iso': '2021-10-12T02:23:09.137Z'}, 'objectId': '6164f18d21cb229d32d178db', '__type': 'Object', 'className': 'Faceboxcache'}\n",
      "<leancloud.object_.Faceboxcache object at 0xffff9c0ee6d0>\n",
      "{'name': '危', 'boxresult': '取箱6', 'boxtime': 1631522845455, 'type': 1, 'createdAt': {'__type': 'Date', 'iso': '2021-10-12T02:23:09.155Z'}, 'updatedAt': {'__type': 'Date', 'iso': '2021-10-12T02:23:09.155Z'}, 'objectId': '6164f18d21cb229d32d178dc', '__type': 'Object', 'className': 'Faceboxcache'}\n",
      "<leancloud.object_.Faceboxcache object at 0xffff9c0ee8e0>\n",
      "{'name': '危', 'boxresult': '取箱6', 'boxtime': 1631522839148, 'type': 1, 'createdAt': {'__type': 'Date', 'iso': '2021-10-12T02:23:09.174Z'}, 'updatedAt': {'__type': 'Date', 'iso': '2021-10-12T02:23:09.174Z'}, 'objectId': '6164f18d21cb229d32d178dd', '__type': 'Object', 'className': 'Faceboxcache'}\n",
      "<leancloud.object_.Faceboxcache object at 0xffff9c0eeaf0>\n",
      "{'name': '危', 'boxresult': '取箱6', 'boxtime': 1631522831524, 'type': 1, 'createdAt': {'__type': 'Date', 'iso': '2021-10-12T02:23:09.192Z'}, 'updatedAt': {'__type': 'Date', 'iso': '2021-10-12T02:23:09.192Z'}, 'objectId': '6164f18d21cb229d32d178de', '__type': 'Object', 'className': 'Faceboxcache'}\n",
      "<leancloud.object_.Faceboxcache object at 0xffff9c0eed00>\n",
      "{'name': '危', 'boxresult': '取箱6', 'boxtime': 1631522825912, 'type': 1, 'createdAt': {'__type': 'Date', 'iso': '2021-10-12T02:23:09.211Z'}, 'updatedAt': {'__type': 'Date', 'iso': '2021-10-12T02:23:09.211Z'}, 'objectId': '6164f18d21cb229d32d178df', '__type': 'Object', 'className': 'Faceboxcache'}\n",
      "<leancloud.object_.Faceboxcache object at 0xffff9c0eef10>\n",
      "{'name': '危', 'boxresult': '取箱6', 'boxtime': 1631522820581, 'type': 1, 'createdAt': {'__type': 'Date', 'iso': '2021-10-12T02:23:09.229Z'}, 'updatedAt': {'__type': 'Date', 'iso': '2021-10-12T02:23:09.229Z'}, 'objectId': '6164f18d21cb229d32d178e0', '__type': 'Object', 'className': 'Faceboxcache'}\n",
      "<leancloud.object_.Faceboxcache object at 0xffff9c0eeca0>\n",
      "{'name': '张荣荣', 'boxresult': '取箱11', 'boxtime': 1631522808099, 'type': 1, 'createdAt': {'__type': 'Date', 'iso': '2021-10-12T02:23:09.248Z'}, 'updatedAt': {'__type': 'Date', 'iso': '2021-10-12T02:23:09.248Z'}, 'objectId': '6164f18d21cb229d32d178e1', '__type': 'Object', 'className': 'Faceboxcache'}\n",
      "<leancloud.object_.Faceboxcache object at 0xffff9c0f1370>\n",
      "{'name': '张荣荣', 'boxresult': '取箱11', 'boxtime': 1631522803873, 'type': 1, 'createdAt': {'__type': 'Date', 'iso': '2021-10-12T02:23:09.266Z'}, 'updatedAt': {'__type': 'Date', 'iso': '2021-10-12T02:23:09.266Z'}, 'objectId': '6164f18d21cb229d32d178e2', '__type': 'Object', 'className': 'Faceboxcache'}\n",
      "<leancloud.object_.Faceboxcache object at 0xffff9c0f1580>\n",
      "{'name': '危', 'boxresult': '取箱6', 'boxtime': 1631517173158, 'type': 1, 'createdAt': {'__type': 'Date', 'iso': '2021-10-12T02:23:09.284Z'}, 'updatedAt': {'__type': 'Date', 'iso': '2021-10-12T02:23:09.284Z'}, 'objectId': '6164f18d21cb229d32d178e3', '__type': 'Object', 'className': 'Faceboxcache'}\n",
      "<leancloud.object_.Faceboxcache object at 0xffff9c0f1790>\n",
      "{'name': '危', 'boxresult': '取箱6', 'boxtime': 1631517154241, 'type': 1, 'createdAt': {'__type': 'Date', 'iso': '2021-10-12T02:23:09.302Z'}, 'updatedAt': {'__type': 'Date', 'iso': '2021-10-12T02:23:09.302Z'}, 'objectId': '6164f18d21cb229d32d178e4', '__type': 'Object', 'className': 'Faceboxcache'}\n",
      "<leancloud.object_.Faceboxcache object at 0xffff9c0f19a0>\n",
      "{'name': '危', 'boxresult': '取箱6', 'boxtime': 1631517144628, 'type': 1, 'createdAt': {'__type': 'Date', 'iso': '2021-10-12T02:23:09.321Z'}, 'updatedAt': {'__type': 'Date', 'iso': '2021-10-12T02:23:09.321Z'}, 'objectId': '6164f18d21cb229d32d178e5', '__type': 'Object', 'className': 'Faceboxcache'}\n",
      "<leancloud.object_.Faceboxcache object at 0xffff9c0f1bb0>\n",
      "{'name': '张荣荣', 'boxresult': '取箱11', 'boxtime': 1631516794804, 'type': 1, 'createdAt': {'__type': 'Date', 'iso': '2021-10-12T02:23:09.339Z'}, 'updatedAt': {'__type': 'Date', 'iso': '2021-10-12T02:23:09.339Z'}, 'objectId': '6164f18d21cb229d32d178e6', '__type': 'Object', 'className': 'Faceboxcache'}\n",
      "<leancloud.object_.Faceboxcache object at 0xffff9c0f1dc0>\n",
      "{'name': '张荣荣', 'boxresult': '取箱11', 'boxtime': 1631516789763, 'type': 1, 'createdAt': {'__type': 'Date', 'iso': '2021-10-12T02:23:09.357Z'}, 'updatedAt': {'__type': 'Date', 'iso': '2021-10-12T02:23:09.357Z'}, 'objectId': '6164f18d21cb229d32d178e7', '__type': 'Object', 'className': 'Faceboxcache'}\n",
      "<leancloud.object_.Faceboxcache object at 0xffff9c0f1fd0>\n",
      "{'name': '张荣荣', 'boxresult': '取箱11', 'boxtime': 1631516789763, 'type': 1, 'createdAt': {'__type': 'Date', 'iso': '2021-10-12T02:23:09.956Z'}, 'updatedAt': {'__type': 'Date', 'iso': '2021-10-12T02:23:09.956Z'}, 'objectId': '6164f18d21cb229d32d178fb', '__type': 'Object', 'className': 'Faceboxcache'}\n",
      "<leancloud.object_.Faceboxcache object at 0xffff9c0f1b50>\n",
      "{'name': '张荣荣', 'boxresult': '取箱11', 'boxtime': 1631503653117, 'type': 1, 'createdAt': {'__type': 'Date', 'iso': '2021-10-12T02:23:09.376Z'}, 'updatedAt': {'__type': 'Date', 'iso': '2021-10-12T02:23:09.376Z'}, 'objectId': '6164f18d21cb229d32d178e8', '__type': 'Object', 'className': 'Faceboxcache'}\n",
      "<leancloud.object_.Faceboxcache object at 0xffff9c0f3430>\n",
      "{'name': '张荣荣', 'boxresult': '取箱11', 'boxtime': 1631503653117, 'type': 1, 'createdAt': {'__type': 'Date', 'iso': '2021-10-12T02:23:09.975Z'}, 'updatedAt': {'__type': 'Date', 'iso': '2021-10-12T02:23:09.975Z'}, 'objectId': '6164f18d21cb229d32d178fc', '__type': 'Object', 'className': 'Faceboxcache'}\n",
      "<leancloud.object_.Faceboxcache object at 0xffff9c0f3640>\n",
      "{'name': '张荣荣', 'boxresult': '取箱11', 'boxtime': 1631503648485, 'type': 1, 'createdAt': {'__type': 'Date', 'iso': '2021-10-12T02:23:09.394Z'}, 'updatedAt': {'__type': 'Date', 'iso': '2021-10-12T02:23:09.394Z'}, 'objectId': '6164f18d21cb229d32d178e9', '__type': 'Object', 'className': 'Faceboxcache'}\n",
      "<leancloud.object_.Faceboxcache object at 0xffff9c0f3850>\n",
      "{'name': '张荣荣', 'boxresult': '取箱11', 'boxtime': 1631503648485, 'type': 1, 'createdAt': {'__type': 'Date', 'iso': '2021-10-12T02:23:09.993Z'}, 'updatedAt': {'__type': 'Date', 'iso': '2021-10-12T02:23:09.993Z'}, 'objectId': '6164f18d21cb229d32d178fd', '__type': 'Object', 'className': 'Faceboxcache'}\n",
      "<leancloud.object_.Faceboxcache object at 0xffff9c0f3a60>\n",
      "{'name': '张荣荣', 'boxresult': '取箱11', 'boxtime': 1631499223800, 'type': 1, 'createdAt': {'__type': 'Date', 'iso': '2021-10-12T02:23:09.412Z'}, 'updatedAt': {'__type': 'Date', 'iso': '2021-10-12T02:23:09.412Z'}, 'objectId': '6164f18d21cb229d32d178ea', '__type': 'Object', 'className': 'Faceboxcache'}\n",
      "<leancloud.object_.Faceboxcache object at 0xffff9c0f3c70>\n",
      "{'name': '张荣荣', 'boxresult': '取箱11', 'boxtime': 1631499223800, 'type': 1, 'createdAt': {'__type': 'Date', 'iso': '2021-10-12T02:23:10.012Z'}, 'updatedAt': {'__type': 'Date', 'iso': '2021-10-12T02:23:10.012Z'}, 'objectId': '6164f18e21cb229d32d178fe', '__type': 'Object', 'className': 'Faceboxcache'}\n",
      "<leancloud.object_.Faceboxcache object at 0xffff9c0f3e80>\n",
      "{'name': '张荣荣', 'boxresult': '取箱11', 'boxtime': 1631499219120, 'type': 1, 'createdAt': {'__type': 'Date', 'iso': '2021-10-12T02:23:09.431Z'}, 'updatedAt': {'__type': 'Date', 'iso': '2021-10-12T02:23:09.431Z'}, 'objectId': '6164f18d21cb229d32d178eb', '__type': 'Object', 'className': 'Faceboxcache'}\n",
      "<leancloud.object_.Faceboxcache object at 0xffff9c0f3e20>\n",
      "{'name': '张荣荣', 'boxresult': '取箱11', 'boxtime': 1631499219120, 'type': 1, 'createdAt': {'__type': 'Date', 'iso': '2021-10-12T02:23:10.030Z'}, 'updatedAt': {'__type': 'Date', 'iso': '2021-10-12T02:23:10.030Z'}, 'objectId': '6164f18e21cb229d32d178ff', '__type': 'Object', 'className': 'Faceboxcache'}\n",
      "<leancloud.object_.Faceboxcache object at 0xffff9c0f52e0>\n",
      "{'name': '蔡', 'boxresult': '取箱9', 'boxtime': 1631280118846, 'type': 1, 'createdAt': {'__type': 'Date', 'iso': '2021-10-12T02:23:09.449Z'}, 'updatedAt': {'__type': 'Date', 'iso': '2021-10-12T02:23:09.449Z'}, 'objectId': '6164f18d21cb229d32d178ec', '__type': 'Object', 'className': 'Faceboxcache'}\n",
      "<leancloud.object_.Faceboxcache object at 0xffff9c0f54f0>\n",
      "{'name': '蔡', 'boxresult': '取箱9', 'boxtime': 1631280118846, 'type': 1, 'createdAt': {'__type': 'Date', 'iso': '2021-10-12T02:23:10.048Z'}, 'updatedAt': {'__type': 'Date', 'iso': '2021-10-12T02:23:10.048Z'}, 'objectId': '6164f18e21cb229d32d17900', '__type': 'Object', 'className': 'Faceboxcache'}\n",
      "<leancloud.object_.Faceboxcache object at 0xffff9c0f5700>\n",
      "{'name': '蔡', 'boxresult': '取箱9', 'boxtime': 1631280105050, 'type': 1, 'createdAt': {'__type': 'Date', 'iso': '2021-10-12T02:23:09.467Z'}, 'updatedAt': {'__type': 'Date', 'iso': '2021-10-12T02:23:09.467Z'}, 'objectId': '6164f18d21cb229d32d178ed', '__type': 'Object', 'className': 'Faceboxcache'}\n",
      "<leancloud.object_.Faceboxcache object at 0xffff9c0f5910>\n",
      "{'name': '蔡', 'boxresult': '取箱9', 'boxtime': 1631280105050, 'type': 1, 'createdAt': {'__type': 'Date', 'iso': '2021-10-12T02:23:10.066Z'}, 'updatedAt': {'__type': 'Date', 'iso': '2021-10-12T02:23:10.066Z'}, 'objectId': '6164f18e21cb229d32d17901', '__type': 'Object', 'className': 'Faceboxcache'}\n",
      "<leancloud.object_.Faceboxcache object at 0xffff9c0f5b20>\n",
      "{'name': '张荣荣', 'boxresult': '取箱11', 'boxtime': 1631239956876, 'type': 1, 'createdAt': {'__type': 'Date', 'iso': '2021-10-12T02:23:09.485Z'}, 'updatedAt': {'__type': 'Date', 'iso': '2021-10-12T02:23:09.485Z'}, 'objectId': '6164f18d21cb229d32d178ee', '__type': 'Object', 'className': 'Faceboxcache'}\n",
      "<leancloud.object_.Faceboxcache object at 0xffff9c0f5d30>\n",
      "{'name': '张荣荣', 'boxresult': '取箱11', 'boxtime': 1631239956876, 'type': 1, 'createdAt': {'__type': 'Date', 'iso': '2021-10-12T02:23:10.084Z'}, 'updatedAt': {'__type': 'Date', 'iso': '2021-10-12T02:23:10.084Z'}, 'objectId': '6164f18e21cb229d32d17902', '__type': 'Object', 'className': 'Faceboxcache'}\n",
      "<leancloud.object_.Faceboxcache object at 0xffff9c0f5f40>\n",
      "{'name': '张荣荣', 'boxresult': '取箱11', 'boxtime': 1631239950526, 'type': 1, 'createdAt': {'__type': 'Date', 'iso': '2021-10-12T02:23:09.503Z'}, 'updatedAt': {'__type': 'Date', 'iso': '2021-10-12T02:23:09.503Z'}, 'objectId': '6164f18d21cb229d32d178ef', '__type': 'Object', 'className': 'Faceboxcache'}\n",
      "<leancloud.object_.Faceboxcache object at 0xffff9c0f5cd0>\n",
      "{'name': '张荣荣', 'boxresult': '取箱11', 'boxtime': 1631239950526, 'type': 1, 'createdAt': {'__type': 'Date', 'iso': '2021-10-12T02:23:10.102Z'}, 'updatedAt': {'__type': 'Date', 'iso': '2021-10-12T02:23:10.102Z'}, 'objectId': '6164f18e21cb229d32d17903', '__type': 'Object', 'className': 'Faceboxcache'}\n",
      "<leancloud.object_.Faceboxcache object at 0xffff9c0f73a0>\n",
      "{'name': '蔡', 'boxresult': '取箱9', 'boxtime': 1631069086847, 'type': 1, 'createdAt': {'__type': 'Date', 'iso': '2021-10-12T02:23:09.521Z'}, 'updatedAt': {'__type': 'Date', 'iso': '2021-10-12T02:23:09.521Z'}, 'objectId': '6164f18d21cb229d32d178f0', '__type': 'Object', 'className': 'Faceboxcache'}\n",
      "<leancloud.object_.Faceboxcache object at 0xffff9c0f75b0>\n",
      "{'name': '蔡', 'boxresult': '取箱9', 'boxtime': 1631069086847, 'type': 1, 'createdAt': {'__type': 'Date', 'iso': '2021-10-12T02:23:10.121Z'}, 'updatedAt': {'__type': 'Date', 'iso': '2021-10-12T02:23:10.121Z'}, 'objectId': '6164f18e21cb229d32d17904', '__type': 'Object', 'className': 'Faceboxcache'}\n",
      "<leancloud.object_.Faceboxcache object at 0xffff9c0f77c0>\n",
      "{'name': '蔡', 'boxresult': '取箱9', 'boxtime': 1631069082758, 'type': 1, 'createdAt': {'__type': 'Date', 'iso': '2021-10-12T02:23:09.540Z'}, 'updatedAt': {'__type': 'Date', 'iso': '2021-10-12T02:23:09.540Z'}, 'objectId': '6164f18d21cb229d32d178f1', '__type': 'Object', 'className': 'Faceboxcache'}\n",
      "<leancloud.object_.Faceboxcache object at 0xffff9c0f79d0>\n",
      "{'name': '蔡', 'boxresult': '取箱9', 'boxtime': 1631069082758, 'type': 1, 'createdAt': {'__type': 'Date', 'iso': '2021-10-12T02:23:10.140Z'}, 'updatedAt': {'__type': 'Date', 'iso': '2021-10-12T02:23:10.140Z'}, 'objectId': '6164f18e21cb229d32d17905', '__type': 'Object', 'className': 'Faceboxcache'}\n",
      "<leancloud.object_.Faceboxcache object at 0xffff9c0f7be0>\n",
      "{'name': '蔡', 'boxresult': '取箱9', 'boxtime': 1631069067861, 'type': 1, 'createdAt': {'__type': 'Date', 'iso': '2021-10-12T02:23:09.558Z'}, 'updatedAt': {'__type': 'Date', 'iso': '2021-10-12T02:23:09.558Z'}, 'objectId': '6164f18d21cb229d32d178f2', '__type': 'Object', 'className': 'Faceboxcache'}\n",
      "<leancloud.object_.Faceboxcache object at 0xffff9c0f7df0>\n",
      "{'name': '蔡', 'boxresult': '取箱9', 'boxtime': 1631069067861, 'type': 1, 'createdAt': {'__type': 'Date', 'iso': '2021-10-12T02:23:10.158Z'}, 'updatedAt': {'__type': 'Date', 'iso': '2021-10-12T02:23:10.158Z'}, 'objectId': '6164f18e21cb229d32d17906', '__type': 'Object', 'className': 'Faceboxcache'}\n",
      "<leancloud.object_.Faceboxcache object at 0xffff9c0f7fa0>\n",
      "{'name': '蔡', 'boxresult': '取箱9', 'boxtime': 1631069061947, 'type': 1, 'createdAt': {'__type': 'Date', 'iso': '2021-10-12T02:23:09.576Z'}, 'updatedAt': {'__type': 'Date', 'iso': '2021-10-12T02:23:09.576Z'}, 'objectId': '6164f18d21cb229d32d178f3', '__type': 'Object', 'className': 'Faceboxcache'}\n",
      "<leancloud.object_.Faceboxcache object at 0xffff9c07a250>\n",
      "{'name': '蔡', 'boxresult': '取箱9', 'boxtime': 1631069061947, 'type': 1, 'createdAt': {'__type': 'Date', 'iso': '2021-10-12T02:23:10.177Z'}, 'updatedAt': {'__type': 'Date', 'iso': '2021-10-12T02:23:10.177Z'}, 'objectId': '6164f18e21cb229d32d17907', '__type': 'Object', 'className': 'Faceboxcache'}\n",
      "<leancloud.object_.Faceboxcache object at 0xffff9c07a490>\n",
      "{'name': '蔡', 'boxresult': '取箱9', 'boxtime': 1631069033673, 'type': 1, 'createdAt': {'__type': 'Date', 'iso': '2021-10-12T02:23:09.594Z'}, 'updatedAt': {'__type': 'Date', 'iso': '2021-10-12T02:23:09.594Z'}, 'objectId': '6164f18d21cb229d32d178f4', '__type': 'Object', 'className': 'Faceboxcache'}\n",
      "<leancloud.object_.Faceboxcache object at 0xffff9c07a6a0>\n",
      "{'name': '蔡', 'boxresult': '取箱9', 'boxtime': 1631069033673, 'type': 1, 'createdAt': {'__type': 'Date', 'iso': '2021-10-12T02:23:10.195Z'}, 'updatedAt': {'__type': 'Date', 'iso': '2021-10-12T02:23:10.195Z'}, 'objectId': '6164f18e21cb229d32d17908', '__type': 'Object', 'className': 'Faceboxcache'}\n",
      "<leancloud.object_.Faceboxcache object at 0xffff9c07a8b0>\n",
      "{'name': '张荣荣', 'boxresult': '取箱11', 'boxtime': 1631067681442, 'type': 1, 'createdAt': {'__type': 'Date', 'iso': '2021-10-12T02:23:09.613Z'}, 'updatedAt': {'__type': 'Date', 'iso': '2021-10-12T02:23:09.613Z'}, 'objectId': '6164f18d21cb229d32d178f5', '__type': 'Object', 'className': 'Faceboxcache'}\n",
      "<leancloud.object_.Faceboxcache object at 0xffff9c07aac0>\n",
      "{'name': '张荣荣', 'boxresult': '取箱11', 'boxtime': 1631067681442, 'type': 1, 'createdAt': {'__type': 'Date', 'iso': '2021-10-12T02:23:10.214Z'}, 'updatedAt': {'__type': 'Date', 'iso': '2021-10-12T02:23:10.214Z'}, 'objectId': '6164f18e21cb229d32d17909', '__type': 'Object', 'className': 'Faceboxcache'}\n",
      "<leancloud.object_.Faceboxcache object at 0xffff9c07acd0>\n",
      "{'name': '大众型', 'boxresult': '取箱8', 'boxtime': 1631007565786, 'type': 1, 'createdAt': {'__type': 'Date', 'iso': '2021-10-12T02:23:09.632Z'}, 'updatedAt': {'__type': 'Date', 'iso': '2021-10-12T02:23:09.632Z'}, 'objectId': '6164f18d21cb229d32d178f6', '__type': 'Object', 'className': 'Faceboxcache'}\n",
      "<leancloud.object_.Faceboxcache object at 0xffff9c07aee0>\n",
      "{'name': '大众型', 'boxresult': '取箱8', 'boxtime': 1631007565786, 'type': 1, 'createdAt': {'__type': 'Date', 'iso': '2021-10-12T02:23:10.233Z'}, 'updatedAt': {'__type': 'Date', 'iso': '2021-10-12T02:23:10.233Z'}, 'objectId': '6164f18e21cb229d32d1790a', '__type': 'Object', 'className': 'Faceboxcache'}\n",
      "<leancloud.object_.Faceboxcache object at 0xffff9c07ac70>\n",
      "{'name': '蔡', 'boxresult': '取箱9', 'boxtime': 1630920072117, 'type': 1, 'createdAt': {'__type': 'Date', 'iso': '2021-10-12T02:23:09.650Z'}, 'updatedAt': {'__type': 'Date', 'iso': '2021-10-12T02:23:09.650Z'}, 'objectId': '6164f18d21cb229d32d178f7', '__type': 'Object', 'className': 'Faceboxcache'}\n",
      "<leancloud.object_.Faceboxcache object at 0xffff9c07d340>\n",
      "{'name': '蔡', 'boxresult': '取箱9', 'boxtime': 1630920072117, 'type': 1, 'createdAt': {'__type': 'Date', 'iso': '2021-10-12T02:23:10.250Z'}, 'updatedAt': {'__type': 'Date', 'iso': '2021-10-12T02:23:10.250Z'}, 'objectId': '6164f18e21cb229d32d1790b', '__type': 'Object', 'className': 'Faceboxcache'}\n",
      "<leancloud.object_.Faceboxcache object at 0xffff9c07d550>\n",
      "{'name': '蔡', 'boxresult': '取箱9', 'boxtime': 1630919905527, 'type': 1, 'createdAt': {'__type': 'Date', 'iso': '2021-10-12T02:23:09.668Z'}, 'updatedAt': {'__type': 'Date', 'iso': '2021-10-12T02:23:09.668Z'}, 'objectId': '6164f18d21cb229d32d178f8', '__type': 'Object', 'className': 'Faceboxcache'}\n",
      "<leancloud.object_.Faceboxcache object at 0xffff9c07d760>\n",
      "{'name': '蔡', 'boxresult': '取箱9', 'boxtime': 1630919905527, 'type': 1, 'createdAt': {'__type': 'Date', 'iso': '2021-10-12T02:23:10.269Z'}, 'updatedAt': {'__type': 'Date', 'iso': '2021-10-12T02:23:10.269Z'}, 'objectId': '6164f18e21cb229d32d1790c', '__type': 'Object', 'className': 'Faceboxcache'}\n",
      "<leancloud.object_.Faceboxcache object at 0xffff9c07d970>\n",
      "{'name': '蔡', 'boxresult': '取箱9', 'boxtime': 1629388575680, 'type': 1, 'createdAt': {'__type': 'Date', 'iso': '2021-10-12T02:23:09.686Z'}, 'updatedAt': {'__type': 'Date', 'iso': '2021-10-12T02:23:09.686Z'}, 'objectId': '6164f18d21cb229d32d178f9', '__type': 'Object', 'className': 'Faceboxcache'}\n",
      "<leancloud.object_.Faceboxcache object at 0xffff9c07db80>\n",
      "{'name': '蔡', 'boxresult': '取箱9', 'boxtime': 1629388575680, 'type': 1, 'createdAt': {'__type': 'Date', 'iso': '2021-10-12T02:23:10.287Z'}, 'updatedAt': {'__type': 'Date', 'iso': '2021-10-12T02:23:10.287Z'}, 'objectId': '6164f18e21cb229d32d1790d', '__type': 'Object', 'className': 'Faceboxcache'}\n",
      "<leancloud.object_.Faceboxcache object at 0xffff9c07ddc0>\n",
      "{'name': '蔡', 'boxresult': '取箱9', 'boxtime': 1629388544326, 'type': 1, 'createdAt': {'__type': 'Date', 'iso': '2021-10-12T02:23:09.705Z'}, 'updatedAt': {'__type': 'Date', 'iso': '2021-10-12T02:23:09.705Z'}, 'objectId': '6164f18d21cb229d32d178fa', '__type': 'Object', 'className': 'Faceboxcache'}\n",
      "<leancloud.object_.Faceboxcache object at 0xffff9c07dfd0>\n",
      "{'name': '蔡', 'boxresult': '取箱9', 'boxtime': 1629388544326, 'type': 1, 'createdAt': {'__type': 'Date', 'iso': '2021-10-12T02:23:10.305Z'}, 'updatedAt': {'__type': 'Date', 'iso': '2021-10-12T02:23:10.305Z'}, 'objectId': '6164f18e21cb229d32d1790e', '__type': 'Object', 'className': 'Faceboxcache'}\n",
      "<leancloud.object_.Faceboxcache object at 0xffff9c07d910>\n",
      "{'name': '蔡', 'boxresult': '取箱9', 'boxtime': 1629388535388, 'type': 1, 'createdAt': {'__type': 'Date', 'iso': '2021-10-12T02:23:10.324Z'}, 'updatedAt': {'__type': 'Date', 'iso': '2021-10-12T02:23:10.324Z'}, 'objectId': '6164f18e21cb229d32d1790f', '__type': 'Object', 'className': 'Faceboxcache'}\n",
      "<leancloud.object_.Faceboxcache object at 0xffff9c07e430>\n",
      "{'name': '蔡', 'boxresult': '取箱9', 'boxtime': 1629388535388, 'type': 1, 'createdAt': {'__type': 'Date', 'iso': '2021-10-12T02:23:10.681Z'}, 'updatedAt': {'__type': 'Date', 'iso': '2021-10-12T02:23:10.681Z'}, 'objectId': '6164f18e21cb229d32d1791e', '__type': 'Object', 'className': 'Faceboxcache'}\n",
      "<leancloud.object_.Faceboxcache object at 0xffff9c07e640>\n",
      "{'name': '蔡', 'boxresult': '取箱9', 'boxtime': 1629388498911, 'type': 1, 'createdAt': {'__type': 'Date', 'iso': '2021-10-12T02:23:10.342Z'}, 'updatedAt': {'__type': 'Date', 'iso': '2021-10-12T02:23:10.342Z'}, 'objectId': '6164f18e21cb229d32d17910', '__type': 'Object', 'className': 'Faceboxcache'}\n",
      "<leancloud.object_.Faceboxcache object at 0xffff9c07e850>\n",
      "{'name': '蔡', 'boxresult': '取箱9', 'boxtime': 1629388498911, 'type': 1, 'createdAt': {'__type': 'Date', 'iso': '2021-10-12T02:23:10.700Z'}, 'updatedAt': {'__type': 'Date', 'iso': '2021-10-12T02:23:10.700Z'}, 'objectId': '6164f18e21cb229d32d1791f', '__type': 'Object', 'className': 'Faceboxcache'}\n",
      "<leancloud.object_.Faceboxcache object at 0xffff9c07ea60>\n",
      "{'name': '蔡', 'boxresult': '取箱9', 'boxtime': 1629388492537, 'type': 1, 'createdAt': {'__type': 'Date', 'iso': '2021-10-12T02:23:10.360Z'}, 'updatedAt': {'__type': 'Date', 'iso': '2021-10-12T02:23:10.360Z'}, 'objectId': '6164f18e21cb229d32d17911', '__type': 'Object', 'className': 'Faceboxcache'}\n",
      "<leancloud.object_.Faceboxcache object at 0xffff9c07ec70>\n",
      "{'name': '蔡', 'boxresult': '取箱9', 'boxtime': 1629388492537, 'type': 1, 'createdAt': {'__type': 'Date', 'iso': '2021-10-12T02:23:10.718Z'}, 'updatedAt': {'__type': 'Date', 'iso': '2021-10-12T02:23:10.718Z'}, 'objectId': '6164f18e21cb229d32d17920', '__type': 'Object', 'className': 'Faceboxcache'}\n",
      "<leancloud.object_.Faceboxcache object at 0xffff9c07ee80>\n",
      "{'name': '蔡', 'boxresult': '取箱9', 'boxtime': 1629388442703, 'type': 1, 'createdAt': {'__type': 'Date', 'iso': '2021-10-12T02:23:10.378Z'}, 'updatedAt': {'__type': 'Date', 'iso': '2021-10-12T02:23:10.378Z'}, 'objectId': '6164f18e21cb229d32d17912', '__type': 'Object', 'className': 'Faceboxcache'}\n",
      "<leancloud.object_.Faceboxcache object at 0xffff9c07ee20>\n",
      "{'name': '蔡', 'boxresult': '取箱9', 'boxtime': 1629388442703, 'type': 1, 'createdAt': {'__type': 'Date', 'iso': '2021-10-12T02:23:10.736Z'}, 'updatedAt': {'__type': 'Date', 'iso': '2021-10-12T02:23:10.736Z'}, 'objectId': '6164f18e21cb229d32d17921', '__type': 'Object', 'className': 'Faceboxcache'}\n",
      "<leancloud.object_.Faceboxcache object at 0xffff9c0812e0>\n",
      "{'name': '蔡', 'boxresult': '中途取件9', 'boxtime': 1629388384206, 'type': 1, 'createdAt': {'__type': 'Date', 'iso': '2021-10-12T02:23:10.396Z'}, 'updatedAt': {'__type': 'Date', 'iso': '2021-10-12T02:23:10.396Z'}, 'objectId': '6164f18e21cb229d32d17913', '__type': 'Object', 'className': 'Faceboxcache'}\n",
      "<leancloud.object_.Faceboxcache object at 0xffff9c0814f0>\n",
      "{'name': '蔡', 'boxresult': '中途取件9', 'boxtime': 1629388384206, 'type': 1, 'createdAt': {'__type': 'Date', 'iso': '2021-10-12T02:23:10.755Z'}, 'updatedAt': {'__type': 'Date', 'iso': '2021-10-12T02:23:10.755Z'}, 'objectId': '6164f18e21cb229d32d17922', '__type': 'Object', 'className': 'Faceboxcache'}\n",
      "<leancloud.object_.Faceboxcache object at 0xffff9c081700>\n",
      "{'name': '蔡', 'boxresult': '取箱9', 'boxtime': 1629388312751, 'type': 1, 'createdAt': {'__type': 'Date', 'iso': '2021-10-12T02:23:10.414Z'}, 'updatedAt': {'__type': 'Date', 'iso': '2021-10-12T02:23:10.414Z'}, 'objectId': '6164f18e21cb229d32d17914', '__type': 'Object', 'className': 'Faceboxcache'}\n",
      "<leancloud.object_.Faceboxcache object at 0xffff9c081910>\n",
      "{'name': '蔡', 'boxresult': '取箱9', 'boxtime': 1629388312751, 'type': 1, 'createdAt': {'__type': 'Date', 'iso': '2021-10-12T02:23:10.773Z'}, 'updatedAt': {'__type': 'Date', 'iso': '2021-10-12T02:23:10.773Z'}, 'objectId': '6164f18e21cb229d32d17923', '__type': 'Object', 'className': 'Faceboxcache'}\n",
      "<leancloud.object_.Faceboxcache object at 0xffff9c081b20>\n",
      "{'name': '蔡', 'boxresult': '取箱9', 'boxtime': 1629388295729, 'type': 1, 'createdAt': {'__type': 'Date', 'iso': '2021-10-12T02:23:10.434Z'}, 'updatedAt': {'__type': 'Date', 'iso': '2021-10-12T02:23:10.434Z'}, 'objectId': '6164f18e21cb229d32d17915', '__type': 'Object', 'className': 'Faceboxcache'}\n",
      "<leancloud.object_.Faceboxcache object at 0xffff9c081d30>\n",
      "{'name': '蔡', 'boxresult': '取箱9', 'boxtime': 1629388295729, 'type': 1, 'createdAt': {'__type': 'Date', 'iso': '2021-10-12T02:23:10.792Z'}, 'updatedAt': {'__type': 'Date', 'iso': '2021-10-12T02:23:10.792Z'}, 'objectId': '6164f18e21cb229d32d17924', '__type': 'Object', 'className': 'Faceboxcache'}\n",
      "<leancloud.object_.Faceboxcache object at 0xffff9c081f40>\n",
      "{'name': '蔡', 'boxresult': '取箱9', 'boxtime': 1629388276746, 'type': 1, 'createdAt': {'__type': 'Date', 'iso': '2021-10-12T02:23:10.452Z'}, 'updatedAt': {'__type': 'Date', 'iso': '2021-10-12T02:23:10.452Z'}, 'objectId': '6164f18e21cb229d32d17916', '__type': 'Object', 'className': 'Faceboxcache'}\n",
      "<leancloud.object_.Faceboxcache object at 0xffff9c081cd0>\n",
      "{'name': '蔡', 'boxresult': '取箱9', 'boxtime': 1629388276746, 'type': 1, 'createdAt': {'__type': 'Date', 'iso': '2021-10-12T02:23:10.810Z'}, 'updatedAt': {'__type': 'Date', 'iso': '2021-10-12T02:23:10.810Z'}, 'objectId': '6164f18e21cb229d32d17925', '__type': 'Object', 'className': 'Faceboxcache'}\n",
      "<leancloud.object_.Faceboxcache object at 0xffff9c0833a0>\n",
      "{'name': '大众型', 'boxresult': '取箱18', 'boxtime': 1624523638559, 'type': 1, 'createdAt': {'__type': 'Date', 'iso': '2021-10-12T02:23:10.470Z'}, 'updatedAt': {'__type': 'Date', 'iso': '2021-10-12T02:23:10.470Z'}, 'objectId': '6164f18e21cb229d32d17917', '__type': 'Object', 'className': 'Faceboxcache'}\n",
      "<leancloud.object_.Faceboxcache object at 0xffff9c0835b0>\n",
      "{'name': '大众型', 'boxresult': '取箱18', 'boxtime': 1624523638559, 'type': 1, 'createdAt': {'__type': 'Date', 'iso': '2021-10-12T02:23:10.829Z'}, 'updatedAt': {'__type': 'Date', 'iso': '2021-10-12T02:23:10.829Z'}, 'objectId': '6164f18e21cb229d32d17926', '__type': 'Object', 'className': 'Faceboxcache'}\n",
      "<leancloud.object_.Faceboxcache object at 0xffff9c0837c0>\n",
      "{'name': '大众型', 'boxresult': '存箱18', 'boxtime': 1624523622653, 'type': 0, 'createdAt': {'__type': 'Date', 'iso': '2021-10-12T02:23:10.488Z'}, 'updatedAt': {'__type': 'Date', 'iso': '2021-10-12T02:23:10.488Z'}, 'objectId': '6164f18e21cb229d32d17918', '__type': 'Object', 'className': 'Faceboxcache'}\n",
      "<leancloud.object_.Faceboxcache object at 0xffff9c0839d0>\n",
      "{'name': '大众型', 'boxresult': '存箱18', 'boxtime': 1624523622653, 'type': 0, 'createdAt': {'__type': 'Date', 'iso': '2021-10-12T02:23:10.847Z'}, 'updatedAt': {'__type': 'Date', 'iso': '2021-10-12T02:23:10.847Z'}, 'objectId': '6164f18e21cb229d32d17927', '__type': 'Object', 'className': 'Faceboxcache'}\n",
      "<leancloud.object_.Faceboxcache object at 0xffff9c083be0>\n",
      "{'name': '大众型', 'boxresult': '存箱8', 'boxtime': 1624523609074, 'type': 0, 'createdAt': {'__type': 'Date', 'iso': '2021-10-12T02:23:10.507Z'}, 'updatedAt': {'__type': 'Date', 'iso': '2021-10-12T02:23:10.507Z'}, 'objectId': '6164f18e21cb229d32d17919', '__type': 'Object', 'className': 'Faceboxcache'}\n",
      "<leancloud.object_.Faceboxcache object at 0xffff9c083df0>\n",
      "{'name': '大众型', 'boxresult': '存箱8', 'boxtime': 1624523609074, 'type': 0, 'createdAt': {'__type': 'Date', 'iso': '2021-10-12T02:23:10.865Z'}, 'updatedAt': {'__type': 'Date', 'iso': '2021-10-12T02:23:10.865Z'}, 'objectId': '6164f18e21cb229d32d17928', '__type': 'Object', 'className': 'Faceboxcache'}\n",
      "<leancloud.object_.Faceboxcache object at 0xffff9c083fa0>\n",
      "{'name': '大众型', 'boxresult': '取箱18', 'boxtime': 1624523566463, 'type': 1, 'createdAt': {'__type': 'Date', 'iso': '2021-10-12T02:23:10.526Z'}, 'updatedAt': {'__type': 'Date', 'iso': '2021-10-12T02:23:10.526Z'}, 'objectId': '6164f18e21cb229d32d1791a', '__type': 'Object', 'className': 'Faceboxcache'}\n",
      "<leancloud.object_.Faceboxcache object at 0xffff9c085250>\n",
      "{'name': '大众型', 'boxresult': '取箱18', 'boxtime': 1624523566463, 'type': 1, 'createdAt': {'__type': 'Date', 'iso': '2021-10-12T02:23:10.884Z'}, 'updatedAt': {'__type': 'Date', 'iso': '2021-10-12T02:23:10.884Z'}, 'objectId': '6164f18e21cb229d32d17929', '__type': 'Object', 'className': 'Faceboxcache'}\n",
      "<leancloud.object_.Faceboxcache object at 0xffff9c085460>\n",
      "{'name': '大众型', 'boxresult': '存箱18', 'boxtime': 1624523552012, 'type': 0, 'createdAt': {'__type': 'Date', 'iso': '2021-10-12T02:23:10.544Z'}, 'updatedAt': {'__type': 'Date', 'iso': '2021-10-12T02:23:10.544Z'}, 'objectId': '6164f18e21cb229d32d1791b', '__type': 'Object', 'className': 'Faceboxcache'}\n",
      "<leancloud.object_.Faceboxcache object at 0xffff9c085670>\n",
      "{'name': '大众型', 'boxresult': '存箱18', 'boxtime': 1624523552012, 'type': 0, 'createdAt': {'__type': 'Date', 'iso': '2021-10-12T02:23:10.902Z'}, 'updatedAt': {'__type': 'Date', 'iso': '2021-10-12T02:23:10.902Z'}, 'objectId': '6164f18e21cb229d32d1792a', '__type': 'Object', 'className': 'Faceboxcache'}\n",
      "<leancloud.object_.Faceboxcache object at 0xffff9c085880>\n",
      "{'name': '大众型', 'boxresult': '取箱6', 'boxtime': 1622600497056, 'type': 1, 'createdAt': {'__type': 'Date', 'iso': '2021-10-12T02:23:10.563Z'}, 'updatedAt': {'__type': 'Date', 'iso': '2021-10-12T02:23:10.563Z'}, 'objectId': '6164f18e21cb229d32d1791c', '__type': 'Object', 'className': 'Faceboxcache'}\n",
      "<leancloud.object_.Faceboxcache object at 0xffff9c085a90>\n",
      "{'name': '大众型', 'boxresult': '取箱6', 'boxtime': 1622600497056, 'type': 1, 'createdAt': {'__type': 'Date', 'iso': '2021-10-12T02:23:10.921Z'}, 'updatedAt': {'__type': 'Date', 'iso': '2021-10-12T02:23:10.921Z'}, 'objectId': '6164f18e21cb229d32d1792b', '__type': 'Object', 'className': 'Faceboxcache'}\n",
      "<leancloud.object_.Faceboxcache object at 0xffff9c085ca0>\n",
      "{'name': '大众型', 'boxresult': '存箱6', 'boxtime': 1622600487345, 'type': 0, 'createdAt': {'__type': 'Date', 'iso': '2021-10-12T02:23:10.582Z'}, 'updatedAt': {'__type': 'Date', 'iso': '2021-10-12T02:23:10.582Z'}, 'objectId': '6164f18e21cb229d32d1791d', '__type': 'Object', 'className': 'Faceboxcache'}\n",
      "<leancloud.object_.Faceboxcache object at 0xffff9c085eb0>\n",
      "{'name': '大众型', 'boxresult': '存箱6', 'boxtime': 1622600487345, 'type': 0, 'createdAt': {'__type': 'Date', 'iso': '2021-10-12T02:23:10.939Z'}, 'updatedAt': {'__type': 'Date', 'iso': '2021-10-12T02:23:10.939Z'}, 'objectId': '6164f18e21cb229d32d1792c', '__type': 'Object', 'className': 'Faceboxcache'}\n"
     ]
    },
    {
     "data": {
      "text/plain": [
       "[<leancloud.object_.Faceboxcache at 0xffff9c73f1c0>,\n",
       " <leancloud.object_.Faceboxcache at 0xffff9c758d60>,\n",
       " <leancloud.object_.Faceboxcache at 0xffff9c758b20>,\n",
       " <leancloud.object_.Faceboxcache at 0xffff9c758220>,\n",
       " <leancloud.object_.Faceboxcache at 0xffff9c72ca30>,\n",
       " <leancloud.object_.Faceboxcache at 0xffff9c67f4c0>,\n",
       " <leancloud.object_.Faceboxcache at 0xffff9c67f5e0>,\n",
       " <leancloud.object_.Faceboxcache at 0xffff9c67fbe0>,\n",
       " <leancloud.object_.Faceboxcache at 0xffff9c67f550>,\n",
       " <leancloud.object_.Faceboxcache at 0xffff9c12ad00>,\n",
       " <leancloud.object_.Faceboxcache at 0xffff9c12af40>,\n",
       " <leancloud.object_.Faceboxcache at 0xffff9c12aca0>,\n",
       " <leancloud.object_.Faceboxcache at 0xffff9c0ea340>,\n",
       " <leancloud.object_.Faceboxcache at 0xffff9c0ea550>,\n",
       " <leancloud.object_.Faceboxcache at 0xffff9c0ea760>,\n",
       " <leancloud.object_.Faceboxcache at 0xffff9c0ea970>,\n",
       " <leancloud.object_.Faceboxcache at 0xffff9c0eab80>,\n",
       " <leancloud.object_.Faceboxcache at 0xffff9c0ead90>,\n",
       " <leancloud.object_.Faceboxcache at 0xffff9c0eafa0>,\n",
       " <leancloud.object_.Faceboxcache at 0xffff9c0eab20>,\n",
       " <leancloud.object_.Faceboxcache at 0xffff9c0ec400>,\n",
       " <leancloud.object_.Faceboxcache at 0xffff9c0ec610>,\n",
       " <leancloud.object_.Faceboxcache at 0xffff9c0ec820>,\n",
       " <leancloud.object_.Faceboxcache at 0xffff9c0eca30>,\n",
       " <leancloud.object_.Faceboxcache at 0xffff9c0ecc40>,\n",
       " <leancloud.object_.Faceboxcache at 0xffff9c0ece50>,\n",
       " <leancloud.object_.Faceboxcache at 0xffff9c0ecfa0>,\n",
       " <leancloud.object_.Faceboxcache at 0xffff9c0ee2b0>,\n",
       " <leancloud.object_.Faceboxcache at 0xffff9c0ee4c0>,\n",
       " <leancloud.object_.Faceboxcache at 0xffff9c0ee6d0>,\n",
       " <leancloud.object_.Faceboxcache at 0xffff9c0ee8e0>,\n",
       " <leancloud.object_.Faceboxcache at 0xffff9c0eeaf0>,\n",
       " <leancloud.object_.Faceboxcache at 0xffff9c0eed00>,\n",
       " <leancloud.object_.Faceboxcache at 0xffff9c0eef10>,\n",
       " <leancloud.object_.Faceboxcache at 0xffff9c0eeca0>,\n",
       " <leancloud.object_.Faceboxcache at 0xffff9c0f1370>,\n",
       " <leancloud.object_.Faceboxcache at 0xffff9c0f1580>,\n",
       " <leancloud.object_.Faceboxcache at 0xffff9c0f1790>,\n",
       " <leancloud.object_.Faceboxcache at 0xffff9c0f19a0>,\n",
       " <leancloud.object_.Faceboxcache at 0xffff9c0f1bb0>,\n",
       " <leancloud.object_.Faceboxcache at 0xffff9c0f1dc0>,\n",
       " <leancloud.object_.Faceboxcache at 0xffff9c0f1fd0>,\n",
       " <leancloud.object_.Faceboxcache at 0xffff9c0f1b50>,\n",
       " <leancloud.object_.Faceboxcache at 0xffff9c0f3430>,\n",
       " <leancloud.object_.Faceboxcache at 0xffff9c0f3640>,\n",
       " <leancloud.object_.Faceboxcache at 0xffff9c0f3850>,\n",
       " <leancloud.object_.Faceboxcache at 0xffff9c0f3a60>,\n",
       " <leancloud.object_.Faceboxcache at 0xffff9c0f3c70>,\n",
       " <leancloud.object_.Faceboxcache at 0xffff9c0f3e80>,\n",
       " <leancloud.object_.Faceboxcache at 0xffff9c0f3e20>,\n",
       " <leancloud.object_.Faceboxcache at 0xffff9c0f52e0>,\n",
       " <leancloud.object_.Faceboxcache at 0xffff9c0f54f0>,\n",
       " <leancloud.object_.Faceboxcache at 0xffff9c0f5700>,\n",
       " <leancloud.object_.Faceboxcache at 0xffff9c0f5910>,\n",
       " <leancloud.object_.Faceboxcache at 0xffff9c0f5b20>,\n",
       " <leancloud.object_.Faceboxcache at 0xffff9c0f5d30>,\n",
       " <leancloud.object_.Faceboxcache at 0xffff9c0f5f40>,\n",
       " <leancloud.object_.Faceboxcache at 0xffff9c0f5cd0>,\n",
       " <leancloud.object_.Faceboxcache at 0xffff9c0f73a0>,\n",
       " <leancloud.object_.Faceboxcache at 0xffff9c0f75b0>,\n",
       " <leancloud.object_.Faceboxcache at 0xffff9c0f77c0>,\n",
       " <leancloud.object_.Faceboxcache at 0xffff9c0f79d0>,\n",
       " <leancloud.object_.Faceboxcache at 0xffff9c0f7be0>,\n",
       " <leancloud.object_.Faceboxcache at 0xffff9c0f7df0>,\n",
       " <leancloud.object_.Faceboxcache at 0xffff9c0f7fa0>,\n",
       " <leancloud.object_.Faceboxcache at 0xffff9c07a250>,\n",
       " <leancloud.object_.Faceboxcache at 0xffff9c07a490>,\n",
       " <leancloud.object_.Faceboxcache at 0xffff9c07a6a0>,\n",
       " <leancloud.object_.Faceboxcache at 0xffff9c07a8b0>,\n",
       " <leancloud.object_.Faceboxcache at 0xffff9c07aac0>,\n",
       " <leancloud.object_.Faceboxcache at 0xffff9c07acd0>,\n",
       " <leancloud.object_.Faceboxcache at 0xffff9c07aee0>,\n",
       " <leancloud.object_.Faceboxcache at 0xffff9c07ac70>,\n",
       " <leancloud.object_.Faceboxcache at 0xffff9c07d340>,\n",
       " <leancloud.object_.Faceboxcache at 0xffff9c07d550>,\n",
       " <leancloud.object_.Faceboxcache at 0xffff9c07d760>,\n",
       " <leancloud.object_.Faceboxcache at 0xffff9c07d970>,\n",
       " <leancloud.object_.Faceboxcache at 0xffff9c07db80>,\n",
       " <leancloud.object_.Faceboxcache at 0xffff9c07ddc0>,\n",
       " <leancloud.object_.Faceboxcache at 0xffff9c07dfd0>,\n",
       " <leancloud.object_.Faceboxcache at 0xffff9c07d910>,\n",
       " <leancloud.object_.Faceboxcache at 0xffff9c07e430>,\n",
       " <leancloud.object_.Faceboxcache at 0xffff9c07e640>,\n",
       " <leancloud.object_.Faceboxcache at 0xffff9c07e850>,\n",
       " <leancloud.object_.Faceboxcache at 0xffff9c07ea60>,\n",
       " <leancloud.object_.Faceboxcache at 0xffff9c07ec70>,\n",
       " <leancloud.object_.Faceboxcache at 0xffff9c07ee80>,\n",
       " <leancloud.object_.Faceboxcache at 0xffff9c07ee20>,\n",
       " <leancloud.object_.Faceboxcache at 0xffff9c0812e0>,\n",
       " <leancloud.object_.Faceboxcache at 0xffff9c0814f0>,\n",
       " <leancloud.object_.Faceboxcache at 0xffff9c081700>,\n",
       " <leancloud.object_.Faceboxcache at 0xffff9c081910>,\n",
       " <leancloud.object_.Faceboxcache at 0xffff9c081b20>,\n",
       " <leancloud.object_.Faceboxcache at 0xffff9c081d30>,\n",
       " <leancloud.object_.Faceboxcache at 0xffff9c081f40>,\n",
       " <leancloud.object_.Faceboxcache at 0xffff9c081cd0>,\n",
       " <leancloud.object_.Faceboxcache at 0xffff9c0833a0>,\n",
       " <leancloud.object_.Faceboxcache at 0xffff9c0835b0>,\n",
       " <leancloud.object_.Faceboxcache at 0xffff9c0837c0>,\n",
       " <leancloud.object_.Faceboxcache at 0xffff9c0839d0>,\n",
       " <leancloud.object_.Faceboxcache at 0xffff9c083be0>,\n",
       " <leancloud.object_.Faceboxcache at 0xffff9c083df0>,\n",
       " <leancloud.object_.Faceboxcache at 0xffff9c083fa0>,\n",
       " <leancloud.object_.Faceboxcache at 0xffff9c085250>,\n",
       " <leancloud.object_.Faceboxcache at 0xffff9c085460>,\n",
       " <leancloud.object_.Faceboxcache at 0xffff9c085670>,\n",
       " <leancloud.object_.Faceboxcache at 0xffff9c085880>,\n",
       " <leancloud.object_.Faceboxcache at 0xffff9c085a90>,\n",
       " <leancloud.object_.Faceboxcache at 0xffff9c085ca0>,\n",
       " <leancloud.object_.Faceboxcache at 0xffff9c085eb0>]"
      ]
     },
     "execution_count": 4,
     "metadata": {},
     "output_type": "execute_result"
    }
   ],
   "source": [
    "faceboxcachelist()"
   ]
  },
  {
   "cell_type": "code",
   "execution_count": 5,
   "id": "regular-attendance",
   "metadata": {},
   "outputs": [],
   "source": [
    "import arrow"
   ]
  },
  {
   "cell_type": "code",
   "execution_count": 18,
   "id": "preceding-musician",
   "metadata": {},
   "outputs": [
    {
     "data": {
      "text/plain": [
       "1633858061000"
      ]
     },
     "execution_count": 18,
     "metadata": {},
     "output_type": "execute_result"
    },
    {
     "name": "stdout",
     "output_type": "stream",
     "text": [
      "dates= ['2021-10-01', '2021-10-02', '2021-10-03', '2021-10-04', '2021-10-05', '2021-10-07', '2021-10-06', '2021-10-08', '2021-10-09', '2021-10-10']\n",
      "dates= ['2021-10-01', '2021-10-02', '2021-10-03', '2021-10-04', '2021-10-05', '2021-10-06', '2021-10-07', '2021-10-08', '2021-10-09', '2021-10-10']\n",
      "dates= ['2021-10-01', '2021-10-02', '2021-10-03', '2021-10-04', '2021-10-05', '2021-10-06', '2021-10-07', '2021-10-08', '2021-10-09', '2021-10-10']\n",
      "dates= ['2021-10-01', '2021-10-02', '2021-10-03', '2021-10-04', '2021-10-05', '2021-10-06', '2021-10-07', '2021-10-08', '2021-10-09', '2021-10-10']\n",
      "dates= ['2021-10-01', '2021-10-10', '2021-10-03', '2021-10-04', '2021-10-05', '2021-10-06', '2021-10-08', '2021-10-09', '2021-10-02', '2021-10-07']\n",
      "dates= ['2021-10-01', '2021-10-10', '2021-10-03', '2021-10-04', '2021-10-05', '2021-10-06', '2021-10-07', '2021-10-08', '2021-10-09', '2021-10-02']\n",
      "dates= ['2021-10-01', '2021-10-02', '2021-10-03', '2021-10-04', '2021-10-05', '2021-10-06', '2021-10-07', '2021-10-08', '2021-10-09', '2021-10-10']\n",
      "dates= ['2021-10-04', '2021-10-05', '2021-10-06', '2021-10-07', '2021-10-08', '2021-10-09', '2021-10-10', '2021-10-03', '2021-10-01', '2021-10-02']\n",
      "dates= ['2021-09-27', '2021-09-28', '2021-09-29', '2021-09-30', '2021-10-01', '2021-10-02', '2021-10-03', '2021-10-04', '2021-10-05', '2021-10-06', '2021-10-07', '2021-10-08', '2021-10-09', '2021-10-10']\n",
      "dates= ['2021-09-27', '2021-09-28', '2021-09-29', '2021-09-30', '2021-10-08', '2021-10-09', '2021-10-07', '2021-10-10', '2021-10-03', '2021-10-04', '2021-10-05', '2021-10-06', '2021-10-01', '2021-10-02']\n",
      "todaylessoonv []\n"
     ]
    }
   ],
   "source": [
    "boxtime=arrow.get(1633858061695)\n",
    "arrow.get(1633858061695).timestamp*1000"
   ]
  },
  {
   "cell_type": "code",
   "execution_count": 9,
   "id": "numerical-pennsylvania",
   "metadata": {},
   "outputs": [
    {
     "data": {
      "text/plain": [
       "<Arrow [2021-10-10T09:22:41.695000+00:00]>"
      ]
     },
     "execution_count": 9,
     "metadata": {},
     "output_type": "execute_result"
    }
   ],
   "source": [
    "boxtime.shift(minutes=-5)"
   ]
  },
  {
   "cell_type": "code",
   "execution_count": 10,
   "id": "criminal-diabetes",
   "metadata": {},
   "outputs": [
    {
     "name": "stdout",
     "output_type": "stream",
     "text": [
      "2021-10-10T09:27:41.695000+00:00\n"
     ]
    }
   ],
   "source": [
    "print(boxtime)"
   ]
  },
  {
   "cell_type": "code",
   "execution_count": 13,
   "id": "final-skiing",
   "metadata": {},
   "outputs": [
    {
     "name": "stdout",
     "output_type": "stream",
     "text": [
      "dates= ['2021-10-01', '2021-10-02', '2021-10-03', '2021-10-04', '2021-10-05', '2021-10-07', '2021-10-06', '2021-10-08', '2021-10-09', '2021-10-10']\n",
      "dates= ['2021-10-01', '2021-10-02', '2021-10-03', '2021-10-04', '2021-10-05', '2021-10-06', '2021-10-07', '2021-10-08', '2021-10-09', '2021-10-10']\n",
      "dates= ['2021-10-01', '2021-10-02', '2021-10-03', '2021-10-04', '2021-10-05', '2021-10-06', '2021-10-07', '2021-10-08', '2021-10-09', '2021-10-10']\n",
      "dates= ['2021-10-01', '2021-10-02', '2021-10-03', '2021-10-04', '2021-10-05', '2021-10-06', '2021-10-07', '2021-10-08', '2021-10-09', '2021-10-10']\n",
      "dates= ['2021-10-01', '2021-10-10', '2021-10-03', '2021-10-04', '2021-10-05', '2021-10-06', '2021-10-08', '2021-10-09', '2021-10-02', '2021-10-07']\n",
      "dates= ['2021-10-01', '2021-10-10', '2021-10-03', '2021-10-04', '2021-10-05', '2021-10-06', '2021-10-07', '2021-10-08', '2021-10-09', '2021-10-02']\n",
      "dates= ['2021-10-01', '2021-10-02', '2021-10-03', '2021-10-04', '2021-10-05', '2021-10-06', '2021-10-07', '2021-10-08', '2021-10-09', '2021-10-10']\n",
      "dates= ['2021-10-04', '2021-10-05', '2021-10-06', '2021-10-07', '2021-10-08', '2021-10-09', '2021-10-10', '2021-10-03', '2021-10-01', '2021-10-02']\n",
      "dates= ['2021-09-27', '2021-09-28', '2021-09-29', '2021-09-30', '2021-10-01', '2021-10-02', '2021-10-03', '2021-10-04', '2021-10-05', '2021-10-06', '2021-10-07', '2021-10-08', '2021-10-09', '2021-10-10']\n",
      "dates= ['2021-09-27', '2021-09-28', '2021-09-29', '2021-09-30', '2021-10-08', '2021-10-09', '2021-10-07', '2021-10-10', '2021-10-03', '2021-10-04', '2021-10-05', '2021-10-06', '2021-10-01', '2021-10-02']\n",
      "todaylessoonv []\n",
      "dates= ['2021-10-01', '2021-10-02', '2021-10-03', '2021-10-04', '2021-10-05', '2021-10-07', '2021-10-06', '2021-10-08', '2021-10-09', '2021-10-10']\n",
      "dates= ['2021-10-01', '2021-10-02', '2021-10-03', '2021-10-04', '2021-10-05', '2021-10-06', '2021-10-07', '2021-10-08', '2021-10-09', '2021-10-10']\n",
      "dates= ['2021-10-01', '2021-10-02', '2021-10-03', '2021-10-04', '2021-10-05', '2021-10-06', '2021-10-07', '2021-10-08', '2021-10-09', '2021-10-10']\n",
      "dates= ['2021-10-01', '2021-10-02', '2021-10-03', '2021-10-04', '2021-10-05', '2021-10-06', '2021-10-07', '2021-10-08', '2021-10-09', '2021-10-10']\n",
      "dates= ['2021-10-01', '2021-10-10', '2021-10-03', '2021-10-04', '2021-10-05', '2021-10-06', '2021-10-08', '2021-10-09', '2021-10-02', '2021-10-07']\n",
      "dates= ['2021-10-01', '2021-10-10', '2021-10-03', '2021-10-04', '2021-10-05', '2021-10-06', '2021-10-07', '2021-10-08', '2021-10-09', '2021-10-02']\n",
      "dates= ['2021-10-01', '2021-10-02', '2021-10-03', '2021-10-04', '2021-10-05', '2021-10-06', '2021-10-07', '2021-10-08', '2021-10-09', '2021-10-10']\n",
      "dates= ['2021-10-04', '2021-10-05', '2021-10-06', '2021-10-07', '2021-10-08', '2021-10-09', '2021-10-10', '2021-10-03', '2021-10-01', '2021-10-02']\n",
      "dates= ['2021-09-27', '2021-09-28', '2021-09-29', '2021-09-30', '2021-10-01', '2021-10-02', '2021-10-03', '2021-10-04', '2021-10-05', '2021-10-06', '2021-10-07', '2021-10-08', '2021-10-09', '2021-10-10']\n",
      "dates= ['2021-09-27', '2021-09-28', '2021-09-29', '2021-09-30', '2021-10-08', '2021-10-09', '2021-10-07', '2021-10-10', '2021-10-03', '2021-10-04', '2021-10-05', '2021-10-06', '2021-10-01', '2021-10-02']\n",
      "todaylessoonv []\n",
      "dates= ['2021-10-01', '2021-10-02', '2021-10-03', '2021-10-04', '2021-10-05', '2021-10-07', '2021-10-06', '2021-10-08', '2021-10-09', '2021-10-10']\n",
      "dates= ['2021-10-01', '2021-10-02', '2021-10-03', '2021-10-04', '2021-10-05', '2021-10-06', '2021-10-07', '2021-10-08', '2021-10-09', '2021-10-10']\n",
      "dates= ['2021-10-01', '2021-10-02', '2021-10-03', '2021-10-04', '2021-10-05', '2021-10-06', '2021-10-07', '2021-10-08', '2021-10-09', '2021-10-10']\n",
      "dates= ['2021-10-01', '2021-10-02', '2021-10-03', '2021-10-04', '2021-10-05', '2021-10-06', '2021-10-07', '2021-10-08', '2021-10-09', '2021-10-10']\n",
      "dates= ['2021-10-01', '2021-10-10', '2021-10-03', '2021-10-04', '2021-10-05', '2021-10-06', '2021-10-08', '2021-10-09', '2021-10-02', '2021-10-07']\n",
      "dates= ['2021-10-01', '2021-10-10', '2021-10-03', '2021-10-04', '2021-10-05', '2021-10-06', '2021-10-07', '2021-10-08', '2021-10-09', '2021-10-02']\n",
      "dates= ['2021-10-01', '2021-10-02', '2021-10-03', '2021-10-04', '2021-10-05', '2021-10-06', '2021-10-07', '2021-10-08', '2021-10-09', '2021-10-10']\n",
      "dates= ['2021-10-04', '2021-10-05', '2021-10-06', '2021-10-07', '2021-10-08', '2021-10-09', '2021-10-10', '2021-10-03', '2021-10-01', '2021-10-02']\n",
      "dates= ['2021-09-27', '2021-09-28', '2021-09-29', '2021-09-30', '2021-10-01', '2021-10-02', '2021-10-03', '2021-10-04', '2021-10-05', '2021-10-06', '2021-10-07', '2021-10-08', '2021-10-09', '2021-10-10']\n",
      "dates= ['2021-09-27', '2021-09-28', '2021-09-29', '2021-09-30', '2021-10-08', '2021-10-09', '2021-10-07', '2021-10-10', '2021-10-03', '2021-10-04', '2021-10-05', '2021-10-06', '2021-10-01', '2021-10-02']\n",
      "todaylessoonv []\n",
      "dates= ['2021-10-01', '2021-10-02', '2021-10-03', '2021-10-04', '2021-10-05', '2021-10-07', '2021-10-06', '2021-10-08', '2021-10-09', '2021-10-10']\n",
      "dates= ['2021-10-01', '2021-10-02', '2021-10-03', '2021-10-04', '2021-10-05', '2021-10-06', '2021-10-07', '2021-10-08', '2021-10-09', '2021-10-10']\n",
      "dates= ['2021-10-01', '2021-10-02', '2021-10-03', '2021-10-04', '2021-10-05', '2021-10-06', '2021-10-07', '2021-10-08', '2021-10-09', '2021-10-10']\n",
      "dates= ['2021-10-01', '2021-10-02', '2021-10-03', '2021-10-04', '2021-10-05', '2021-10-06', '2021-10-07', '2021-10-08', '2021-10-09', '2021-10-10']\n",
      "dates= ['2021-10-01', '2021-10-10', '2021-10-03', '2021-10-04', '2021-10-05', '2021-10-06', '2021-10-08', '2021-10-09', '2021-10-02', '2021-10-07']\n",
      "dates= ['2021-10-01', '2021-10-10', '2021-10-03', '2021-10-04', '2021-10-05', '2021-10-06', '2021-10-07', '2021-10-08', '2021-10-09', '2021-10-02']\n",
      "dates= ['2021-10-01', '2021-10-02', '2021-10-03', '2021-10-04', '2021-10-05', '2021-10-06', '2021-10-07', '2021-10-08', '2021-10-09', '2021-10-10']\n",
      "dates= ['2021-10-04', '2021-10-05', '2021-10-06', '2021-10-07', '2021-10-08', '2021-10-09', '2021-10-10', '2021-10-03', '2021-10-01', '2021-10-02']\n",
      "dates= ['2021-09-27', '2021-09-28', '2021-09-29', '2021-09-30', '2021-10-01', '2021-10-02', '2021-10-03', '2021-10-04', '2021-10-05', '2021-10-06', '2021-10-07', '2021-10-08', '2021-10-09', '2021-10-10']\n",
      "dates= ['2021-09-27', '2021-09-28', '2021-09-29', '2021-09-30', '2021-10-08', '2021-10-09', '2021-10-07', '2021-10-10', '2021-10-03', '2021-10-04', '2021-10-05', '2021-10-06', '2021-10-01', '2021-10-02']\n",
      "todaylessoonv []\n"
     ]
    }
   ],
   "source": [
    "import lessonboxopenclosestatus\n"
   ]
  },
  {
   "cell_type": "code",
   "execution_count": 63,
   "id": "operational-synthetic",
   "metadata": {},
   "outputs": [],
   "source": [
    "def faceboxlistlast5(lessontime,lessontime1):\n",
    "    Todo = leancloud.Object.extend('Faceboxcache')\n",
    "    query = Todo.query\n",
    "    query.less_than(\"boxtime\",lessontime)\n",
    "    query.greater_than(\"boxtime\",lessontime1)\n",
    "    query.descending('boxtime')\n",
    "    print(\"lessontime1=\",lessontime1)\n",
    "    query_result = query.find()\n",
    "    conv=[]\n",
    "    for item in query_result:\n",
    "        print(item)\n",
    "        value=encode(item,dump_objects=True)\n",
    "        print(value)\n",
    "        conv.append(item)\n",
    "    return conv\n",
    "def get_unique_numbers(numbers):\n",
    "    unique = []\n",
    "    uniquename=[]\n",
    "    for number in numbers:\n",
    "        name=number.get(\"name\")\n",
    "        print(name)\n",
    "        if number in uniquename:\n",
    "            continue\n",
    "        else:\n",
    "            unique.append(number)\n",
    "    return unique\n",
    "def get_unique_numbersleancloud(numbers):\n",
    "    unique = []\n",
    "    uniquename=[]\n",
    "    for number in numbers:\n",
    "        name=number.get(\"name\")\n",
    "        print(name)\n",
    "        if name in uniquename:\n",
    "            number.set(\"boxstatus\",\"kai\")\n",
    "            number.save()\n",
    "        else:\n",
    "            number.set(\"boxstatus\",\"cun\")\n",
    "            number.save()     \n",
    "            uniquename.append(name)\n",
    "            unique.append(number)\n",
    "    return unique\n",
    "def get_unique_numbersleancloudext(numbers,activedevicev):\n",
    "    unique = []\n",
    "    uniquename=[]\n",
    "    for number in numbers:\n",
    "        name=number.get(\"name\")\n",
    "        print(name)\n",
    "        if name in uniquename:\n",
    "            if name in activedevicev:\n",
    "                number.set(\"boxstatus\",\"kai\")\n",
    "                number.save()\n",
    "            else:\n",
    "                number.set(\"boxstatus\",\"kai\")\n",
    "                number.save()                \n",
    "        else:\n",
    "            number.set(\"boxstatus\",\"cun\")\n",
    "            number.save()     \n",
    "            uniquename.append(name)\n",
    "            unique.append(number)\n",
    "    return unique\n"
   ]
  },
  {
   "cell_type": "code",
   "execution_count": 65,
   "id": "frozen-bernard",
   "metadata": {},
   "outputs": [
    {
     "name": "stdout",
     "output_type": "stream",
     "text": [
      "lessontime1= 1633576584000\n",
      "<leancloud.object_.Faceboxcache object at 0xffff9555e310>\n",
      "{'name': '张荣荣', 'boxresult': '取箱11', 'boxtime': 1633858061695, 'type': 1, 'createdAt': {'__type': 'Date', 'iso': '2021-10-12T02:23:08.349Z'}, 'updatedAt': {'__type': 'Date', 'iso': '2021-10-12T03:16:21.371Z'}, 'boxstatus': 'cun', 'objectId': '6164f18c21cb229d32d178bf', '__type': 'Object', 'className': 'Faceboxcache'}\n",
      "<leancloud.object_.Faceboxcache object at 0xffff94419af0>\n",
      "{'name': '张荣荣', 'boxresult': '取箱11', 'boxtime': 1633858055259, 'type': 1, 'createdAt': {'__type': 'Date', 'iso': '2021-10-12T02:23:08.454Z'}, 'updatedAt': {'__type': 'Date', 'iso': '2021-10-12T03:16:21.390Z'}, 'boxstatus': 'kai', 'objectId': '6164f18c21cb229d32d178c0', '__type': 'Object', 'className': 'Faceboxcache'}\n",
      "box [<leancloud.object_.Faceboxcache object at 0xffff9555e310>, <leancloud.object_.Faceboxcache object at 0xffff94419af0>]\n",
      "张荣荣\n",
      "张荣荣\n",
      "[<leancloud.object_.Faceboxcache object at 0xffff9555e310>]\n",
      "dates= ['2021-10-01', '2021-10-02', '2021-10-03', '2021-10-04', '2021-10-05', '2021-10-07', '2021-10-06', '2021-10-08', '2021-10-09', '2021-10-10']\n",
      "dates= ['2021-10-01', '2021-10-02', '2021-10-03', '2021-10-04', '2021-10-05', '2021-10-06', '2021-10-07', '2021-10-08', '2021-10-09', '2021-10-10']\n",
      "dates= ['2021-10-01', '2021-10-02', '2021-10-03', '2021-10-04', '2021-10-05', '2021-10-06', '2021-10-07', '2021-10-08', '2021-10-09', '2021-10-10']\n",
      "dates= ['2021-10-01', '2021-10-02', '2021-10-03', '2021-10-04', '2021-10-05', '2021-10-06', '2021-10-07', '2021-10-08', '2021-10-09', '2021-10-10']\n",
      "dates= ['2021-10-01', '2021-10-10', '2021-10-03', '2021-10-04', '2021-10-05', '2021-10-06', '2021-10-08', '2021-10-09', '2021-10-02', '2021-10-07']\n",
      "dates= ['2021-10-01', '2021-10-10', '2021-10-03', '2021-10-04', '2021-10-05', '2021-10-06', '2021-10-07', '2021-10-08', '2021-10-09', '2021-10-02']\n",
      "dates= ['2021-10-01', '2021-10-02', '2021-10-03', '2021-10-04', '2021-10-05', '2021-10-06', '2021-10-07', '2021-10-08', '2021-10-09', '2021-10-10']\n",
      "dates= ['2021-10-04', '2021-10-05', '2021-10-06', '2021-10-07', '2021-10-08', '2021-10-09', '2021-10-10', '2021-10-03', '2021-10-01', '2021-10-02']\n",
      "dates= ['2021-09-27', '2021-09-28', '2021-09-29', '2021-09-30', '2021-10-01', '2021-10-02', '2021-10-03', '2021-10-04', '2021-10-05', '2021-10-06', '2021-10-07', '2021-10-08', '2021-10-09', '2021-10-10']\n",
      "dates= ['2021-09-27', '2021-09-28', '2021-09-29', '2021-09-30', '2021-10-08', '2021-10-09', '2021-10-07', '2021-10-10', '2021-10-03', '2021-10-04', '2021-10-05', '2021-10-06', '2021-10-01', '2021-10-02']\n",
      "todaylessoonv []\n",
      "dates= ['2021-10-01', '2021-10-02', '2021-10-03', '2021-10-04', '2021-10-05', '2021-10-07', '2021-10-06', '2021-10-08', '2021-10-09', '2021-10-10']\n",
      "dates= ['2021-10-01', '2021-10-02', '2021-10-03', '2021-10-04', '2021-10-05', '2021-10-06', '2021-10-07', '2021-10-08', '2021-10-09', '2021-10-10']\n",
      "dates= ['2021-10-01', '2021-10-02', '2021-10-03', '2021-10-04', '2021-10-05', '2021-10-06', '2021-10-07', '2021-10-08', '2021-10-09', '2021-10-10']\n",
      "dates= ['2021-10-01', '2021-10-02', '2021-10-03', '2021-10-04', '2021-10-05', '2021-10-06', '2021-10-07', '2021-10-08', '2021-10-09', '2021-10-10']\n",
      "dates= ['2021-10-01', '2021-10-10', '2021-10-03', '2021-10-04', '2021-10-05', '2021-10-06', '2021-10-08', '2021-10-09', '2021-10-02', '2021-10-07']\n",
      "dates= ['2021-10-01', '2021-10-10', '2021-10-03', '2021-10-04', '2021-10-05', '2021-10-06', '2021-10-07', '2021-10-08', '2021-10-09', '2021-10-02']\n",
      "dates= ['2021-10-01', '2021-10-02', '2021-10-03', '2021-10-04', '2021-10-05', '2021-10-06', '2021-10-07', '2021-10-08', '2021-10-09', '2021-10-10']\n",
      "dates= ['2021-10-04', '2021-10-05', '2021-10-06', '2021-10-07', '2021-10-08', '2021-10-09', '2021-10-10', '2021-10-03', '2021-10-01', '2021-10-02']\n",
      "dates= ['2021-09-27', '2021-09-28', '2021-09-29', '2021-09-30', '2021-10-01', '2021-10-02', '2021-10-03', '2021-10-04', '2021-10-05', '2021-10-06', '2021-10-07', '2021-10-08', '2021-10-09', '2021-10-10']\n",
      "dates= ['2021-09-27', '2021-09-28', '2021-09-29', '2021-09-30', '2021-10-08', '2021-10-09', '2021-10-07', '2021-10-10', '2021-10-03', '2021-10-04', '2021-10-05', '2021-10-06', '2021-10-01', '2021-10-02']\n",
      "todaylessoonv []\n",
      "dates= ['2021-10-01', '2021-10-02', '2021-10-03', '2021-10-04', '2021-10-05', '2021-10-07', '2021-10-06', '2021-10-08', '2021-10-09', '2021-10-10']\n",
      "dates= ['2021-10-01', '2021-10-02', '2021-10-03', '2021-10-04', '2021-10-05', '2021-10-06', '2021-10-07', '2021-10-08', '2021-10-09', '2021-10-10']\n",
      "dates= ['2021-10-01', '2021-10-02', '2021-10-03', '2021-10-04', '2021-10-05', '2021-10-06', '2021-10-07', '2021-10-08', '2021-10-09', '2021-10-10']\n",
      "dates= ['2021-10-01', '2021-10-02', '2021-10-03', '2021-10-04', '2021-10-05', '2021-10-06', '2021-10-07', '2021-10-08', '2021-10-09', '2021-10-10']\n",
      "dates= ['2021-10-01', '2021-10-10', '2021-10-03', '2021-10-04', '2021-10-05', '2021-10-06', '2021-10-08', '2021-10-09', '2021-10-02', '2021-10-07']\n",
      "dates= ['2021-10-01', '2021-10-10', '2021-10-03', '2021-10-04', '2021-10-05', '2021-10-06', '2021-10-07', '2021-10-08', '2021-10-09', '2021-10-02']\n",
      "dates= ['2021-10-01', '2021-10-02', '2021-10-03', '2021-10-04', '2021-10-05', '2021-10-06', '2021-10-07', '2021-10-08', '2021-10-09', '2021-10-10']\n",
      "dates= ['2021-10-04', '2021-10-05', '2021-10-06', '2021-10-07', '2021-10-08', '2021-10-09', '2021-10-10', '2021-10-03', '2021-10-01', '2021-10-02']\n",
      "dates= ['2021-09-27', '2021-09-28', '2021-09-29', '2021-09-30', '2021-10-01', '2021-10-02', '2021-10-03', '2021-10-04', '2021-10-05', '2021-10-06', '2021-10-07', '2021-10-08', '2021-10-09', '2021-10-10']\n",
      "dates= ['2021-09-27', '2021-09-28', '2021-09-29', '2021-09-30', '2021-10-08', '2021-10-09', '2021-10-07', '2021-10-10', '2021-10-03', '2021-10-04', '2021-10-05', '2021-10-06', '2021-10-01', '2021-10-02']\n",
      "todaylessoonv []\n",
      "dates= ['2021-10-01', '2021-10-02', '2021-10-03', '2021-10-04', '2021-10-05', '2021-10-07', '2021-10-06', '2021-10-08', '2021-10-09', '2021-10-10']\n",
      "dates= ['2021-10-01', '2021-10-02', '2021-10-03', '2021-10-04', '2021-10-05', '2021-10-06', '2021-10-07', '2021-10-08', '2021-10-09', '2021-10-10']\n",
      "dates= ['2021-10-01', '2021-10-02', '2021-10-03', '2021-10-04', '2021-10-05', '2021-10-06', '2021-10-07', '2021-10-08', '2021-10-09', '2021-10-10']\n",
      "dates= ['2021-10-01', '2021-10-02', '2021-10-03', '2021-10-04', '2021-10-05', '2021-10-06', '2021-10-07', '2021-10-08', '2021-10-09', '2021-10-10']\n",
      "dates= ['2021-10-01', '2021-10-10', '2021-10-03', '2021-10-04', '2021-10-05', '2021-10-06', '2021-10-08', '2021-10-09', '2021-10-02', '2021-10-07']\n",
      "dates= ['2021-10-01', '2021-10-10', '2021-10-03', '2021-10-04', '2021-10-05', '2021-10-06', '2021-10-07', '2021-10-08', '2021-10-09', '2021-10-02']\n",
      "dates= ['2021-10-01', '2021-10-02', '2021-10-03', '2021-10-04', '2021-10-05', '2021-10-06', '2021-10-07', '2021-10-08', '2021-10-09', '2021-10-10']\n",
      "dates= ['2021-10-04', '2021-10-05', '2021-10-06', '2021-10-07', '2021-10-08', '2021-10-09', '2021-10-10', '2021-10-03', '2021-10-01', '2021-10-02']\n",
      "dates= ['2021-09-27', '2021-09-28', '2021-09-29', '2021-09-30', '2021-10-01', '2021-10-02', '2021-10-03', '2021-10-04', '2021-10-05', '2021-10-06', '2021-10-07', '2021-10-08', '2021-10-09', '2021-10-10']\n",
      "dates= ['2021-09-27', '2021-09-28', '2021-09-29', '2021-09-30', '2021-10-08', '2021-10-09', '2021-10-07', '2021-10-10', '2021-10-03', '2021-10-04', '2021-10-05', '2021-10-06', '2021-10-01', '2021-10-02']\n",
      "todaylessoonv []\n",
      "dates= ['2021-10-01', '2021-10-02', '2021-10-03', '2021-10-04', '2021-10-05', '2021-10-07', '2021-10-06', '2021-10-08', '2021-10-09', '2021-10-10']\n",
      "dates= ['2021-10-01', '2021-10-02', '2021-10-03', '2021-10-04', '2021-10-05', '2021-10-06', '2021-10-07', '2021-10-08', '2021-10-09', '2021-10-10']\n",
      "dates= ['2021-10-01', '2021-10-02', '2021-10-03', '2021-10-04', '2021-10-05', '2021-10-06', '2021-10-07', '2021-10-08', '2021-10-09', '2021-10-10']\n",
      "dates= ['2021-10-01', '2021-10-02', '2021-10-03', '2021-10-04', '2021-10-05', '2021-10-06', '2021-10-07', '2021-10-08', '2021-10-09', '2021-10-10']\n",
      "dates= ['2021-10-01', '2021-10-10', '2021-10-03', '2021-10-04', '2021-10-05', '2021-10-06', '2021-10-08', '2021-10-09', '2021-10-02', '2021-10-07']\n",
      "dates= ['2021-10-01', '2021-10-10', '2021-10-03', '2021-10-04', '2021-10-05', '2021-10-06', '2021-10-07', '2021-10-08', '2021-10-09', '2021-10-02']\n",
      "dates= ['2021-10-01', '2021-10-02', '2021-10-03', '2021-10-04', '2021-10-05', '2021-10-06', '2021-10-07', '2021-10-08', '2021-10-09', '2021-10-10']\n",
      "dates= ['2021-10-04', '2021-10-05', '2021-10-06', '2021-10-07', '2021-10-08', '2021-10-09', '2021-10-10', '2021-10-03', '2021-10-01', '2021-10-02']\n",
      "dates= ['2021-09-27', '2021-09-28', '2021-09-29', '2021-09-30', '2021-10-01', '2021-10-02', '2021-10-03', '2021-10-04', '2021-10-05', '2021-10-06', '2021-10-07', '2021-10-08', '2021-10-09', '2021-10-10']\n",
      "dates= ['2021-09-27', '2021-09-28', '2021-09-29', '2021-09-30', '2021-10-08', '2021-10-09', '2021-10-07', '2021-10-10', '2021-10-03', '2021-10-04', '2021-10-05', '2021-10-06', '2021-10-01', '2021-10-02']\n",
      "todaylessoonv []\n"
     ]
    },
    {
     "name": "stdout",
     "output_type": "stream",
     "text": [
      "dates= ['2021-10-01', '2021-10-02', '2021-10-03', '2021-10-04', '2021-10-05', '2021-10-07', '2021-10-06', '2021-10-08', '2021-10-09', '2021-10-10']\n",
      "dates= ['2021-10-01', '2021-10-02', '2021-10-03', '2021-10-04', '2021-10-05', '2021-10-06', '2021-10-07', '2021-10-08', '2021-10-09', '2021-10-10']\n",
      "dates= ['2021-10-01', '2021-10-02', '2021-10-03', '2021-10-04', '2021-10-05', '2021-10-06', '2021-10-07', '2021-10-08', '2021-10-09', '2021-10-10']\n",
      "dates= ['2021-10-01', '2021-10-02', '2021-10-03', '2021-10-04', '2021-10-05', '2021-10-06', '2021-10-07', '2021-10-08', '2021-10-09', '2021-10-10']\n",
      "dates= ['2021-10-01', '2021-10-10', '2021-10-03', '2021-10-04', '2021-10-05', '2021-10-06', '2021-10-08', '2021-10-09', '2021-10-02', '2021-10-07']\n",
      "dates= ['2021-10-01', '2021-10-10', '2021-10-03', '2021-10-04', '2021-10-05', '2021-10-06', '2021-10-07', '2021-10-08', '2021-10-09', '2021-10-02']\n",
      "dates= ['2021-10-01', '2021-10-02', '2021-10-03', '2021-10-04', '2021-10-05', '2021-10-06', '2021-10-07', '2021-10-08', '2021-10-09', '2021-10-10']\n",
      "dates= ['2021-10-04', '2021-10-05', '2021-10-06', '2021-10-07', '2021-10-08', '2021-10-09', '2021-10-10', '2021-10-03', '2021-10-01', '2021-10-02']\n",
      "dates= ['2021-09-27', '2021-09-28', '2021-09-29', '2021-09-30', '2021-10-01', '2021-10-02', '2021-10-03', '2021-10-04', '2021-10-05', '2021-10-06', '2021-10-07', '2021-10-08', '2021-10-09', '2021-10-10']\n",
      "dates= ['2021-09-27', '2021-09-28', '2021-09-29', '2021-09-30', '2021-10-08', '2021-10-09', '2021-10-07', '2021-10-10', '2021-10-03', '2021-10-04', '2021-10-05', '2021-10-06', '2021-10-01', '2021-10-02']\n",
      "todaylessoonv []\n",
      "dates= ['2021-10-01', '2021-10-02', '2021-10-03', '2021-10-04', '2021-10-05', '2021-10-07', '2021-10-06', '2021-10-08', '2021-10-09', '2021-10-10']\n",
      "dates= ['2021-10-01', '2021-10-02', '2021-10-03', '2021-10-04', '2021-10-05', '2021-10-06', '2021-10-07', '2021-10-08', '2021-10-09', '2021-10-10']\n",
      "dates= ['2021-10-01', '2021-10-02', '2021-10-03', '2021-10-04', '2021-10-05', '2021-10-06', '2021-10-07', '2021-10-08', '2021-10-09', '2021-10-10']\n",
      "dates= ['2021-10-01', '2021-10-02', '2021-10-03', '2021-10-04', '2021-10-05', '2021-10-06', '2021-10-07', '2021-10-08', '2021-10-09', '2021-10-10']\n",
      "dates= ['2021-10-01', '2021-10-10', '2021-10-03', '2021-10-04', '2021-10-05', '2021-10-06', '2021-10-08', '2021-10-09', '2021-10-02', '2021-10-07']\n",
      "dates= ['2021-10-01', '2021-10-10', '2021-10-03', '2021-10-04', '2021-10-05', '2021-10-06', '2021-10-07', '2021-10-08', '2021-10-09', '2021-10-02']\n",
      "dates= ['2021-10-01', '2021-10-02', '2021-10-03', '2021-10-04', '2021-10-05', '2021-10-06', '2021-10-07', '2021-10-08', '2021-10-09', '2021-10-10']\n",
      "dates= ['2021-10-04', '2021-10-05', '2021-10-06', '2021-10-07', '2021-10-08', '2021-10-09', '2021-10-10', '2021-10-03', '2021-10-01', '2021-10-02']\n",
      "dates= ['2021-09-27', '2021-09-28', '2021-09-29', '2021-09-30', '2021-10-01', '2021-10-02', '2021-10-03', '2021-10-04', '2021-10-05', '2021-10-06', '2021-10-07', '2021-10-08', '2021-10-09', '2021-10-10']\n",
      "dates= ['2021-09-27', '2021-09-28', '2021-09-29', '2021-09-30', '2021-10-08', '2021-10-09', '2021-10-07', '2021-10-10', '2021-10-03', '2021-10-04', '2021-10-05', '2021-10-06', '2021-10-01', '2021-10-02']\n",
      "todaylessoonv []\n",
      "dates= ['2021-10-01', '2021-10-02', '2021-10-03', '2021-10-04', '2021-10-05', '2021-10-07', '2021-10-06', '2021-10-08', '2021-10-09', '2021-10-10']\n",
      "dates= ['2021-10-01', '2021-10-02', '2021-10-03', '2021-10-04', '2021-10-05', '2021-10-06', '2021-10-07', '2021-10-08', '2021-10-09', '2021-10-10']\n",
      "dates= ['2021-10-01', '2021-10-02', '2021-10-03', '2021-10-04', '2021-10-05', '2021-10-06', '2021-10-07', '2021-10-08', '2021-10-09', '2021-10-10']\n",
      "dates= ['2021-10-01', '2021-10-02', '2021-10-03', '2021-10-04', '2021-10-05', '2021-10-06', '2021-10-07', '2021-10-08', '2021-10-09', '2021-10-10']\n",
      "dates= ['2021-10-01', '2021-10-10', '2021-10-03', '2021-10-04', '2021-10-05', '2021-10-06', '2021-10-08', '2021-10-09', '2021-10-02', '2021-10-07']\n",
      "dates= ['2021-10-01', '2021-10-10', '2021-10-03', '2021-10-04', '2021-10-05', '2021-10-06', '2021-10-07', '2021-10-08', '2021-10-09', '2021-10-02']\n",
      "dates= ['2021-10-01', '2021-10-02', '2021-10-03', '2021-10-04', '2021-10-05', '2021-10-06', '2021-10-07', '2021-10-08', '2021-10-09', '2021-10-10']\n",
      "dates= ['2021-10-04', '2021-10-05', '2021-10-06', '2021-10-07', '2021-10-08', '2021-10-09', '2021-10-10', '2021-10-03', '2021-10-01', '2021-10-02']\n",
      "dates= ['2021-09-27', '2021-09-28', '2021-09-29', '2021-09-30', '2021-10-01', '2021-10-02', '2021-10-03', '2021-10-04', '2021-10-05', '2021-10-06', '2021-10-07', '2021-10-08', '2021-10-09', '2021-10-10']\n",
      "dates= ['2021-09-27', '2021-09-28', '2021-09-29', '2021-09-30', '2021-10-08', '2021-10-09', '2021-10-07', '2021-10-10', '2021-10-03', '2021-10-04', '2021-10-05', '2021-10-06', '2021-10-01', '2021-10-02']\n",
      "todaylessoonv []\n"
     ]
    }
   ],
   "source": [
    "lasttime=arrow.utcnow()\n",
    "lasttime=lasttime.shift(days=-5)\n",
    "boxv=faceboxlistlast5(arrow.utcnow().timestamp*1000,lasttime.timestamp*1000)\n",
    "print(\"box\",boxv)\n",
    "uniqueboxv=get_unique_numbersleancloud(boxv)\n",
    "print(uniqueboxv)\n"
   ]
  },
  {
   "cell_type": "code",
   "execution_count": 3,
   "id": "classified-causing",
   "metadata": {},
   "outputs": [],
   "source": [
    "import lessonboxopenclosestatus"
   ]
  },
  {
   "cell_type": "code",
   "execution_count": 68,
   "id": "collect-break",
   "metadata": {},
   "outputs": [
    {
     "ename": "TypeError",
     "evalue": "processlessonbygroup() missing 1 required positional argument: 'newlesson'",
     "output_type": "error",
     "traceback": [
      "\u001b[0;31m---------------------------------------------------------------------------\u001b[0m",
      "\u001b[0;31mTypeError\u001b[0m                                 Traceback (most recent call last)",
      "\u001b[0;32m<ipython-input-68-a2ab70e60aa3>\u001b[0m in \u001b[0;36m<module>\u001b[0;34m\u001b[0m\n\u001b[0;32m----> 1\u001b[0;31m \u001b[0mlessonboxopenclosestatus\u001b[0m\u001b[0;34m.\u001b[0m\u001b[0mprocesslessonbygroup\u001b[0m\u001b[0;34m(\u001b[0m\u001b[0;34m)\u001b[0m\u001b[0;34m\u001b[0m\u001b[0;34m\u001b[0m\u001b[0m\n\u001b[0m",
      "\u001b[0;31mTypeError\u001b[0m: processlessonbygroup() missing 1 required positional argument: 'newlesson'"
     ]
    },
    {
     "name": "stdout",
     "output_type": "stream",
     "text": [
      "dates= ['2021-10-01', '2021-10-02', '2021-10-03', '2021-10-04', '2021-10-05', '2021-10-07', '2021-10-06', '2021-10-08', '2021-10-09', '2021-10-10']\n",
      "dates= ['2021-10-01', '2021-10-02', '2021-10-03', '2021-10-04', '2021-10-05', '2021-10-06', '2021-10-07', '2021-10-08', '2021-10-09', '2021-10-10']\n",
      "dates= ['2021-10-01', '2021-10-02', '2021-10-03', '2021-10-04', '2021-10-05', '2021-10-06', '2021-10-07', '2021-10-08', '2021-10-09', '2021-10-10']\n",
      "dates= ['2021-10-01', '2021-10-02', '2021-10-03', '2021-10-04', '2021-10-05', '2021-10-06', '2021-10-07', '2021-10-08', '2021-10-09', '2021-10-10']\n",
      "dates= ['2021-10-01', '2021-10-10', '2021-10-03', '2021-10-04', '2021-10-05', '2021-10-06', '2021-10-08', '2021-10-09', '2021-10-02', '2021-10-07']\n",
      "dates= ['2021-10-01', '2021-10-10', '2021-10-03', '2021-10-04', '2021-10-05', '2021-10-06', '2021-10-07', '2021-10-08', '2021-10-09', '2021-10-02']\n",
      "dates= ['2021-10-01', '2021-10-02', '2021-10-03', '2021-10-04', '2021-10-05', '2021-10-06', '2021-10-07', '2021-10-08', '2021-10-09', '2021-10-10']\n",
      "dates= ['2021-10-04', '2021-10-05', '2021-10-06', '2021-10-07', '2021-10-08', '2021-10-09', '2021-10-10', '2021-10-03', '2021-10-01', '2021-10-02']\n",
      "dates= ['2021-09-27', '2021-09-28', '2021-09-29', '2021-09-30', '2021-10-01', '2021-10-02', '2021-10-03', '2021-10-04', '2021-10-05', '2021-10-06', '2021-10-07', '2021-10-08', '2021-10-09', '2021-10-10']\n",
      "dates= ['2021-09-27', '2021-09-28', '2021-09-29', '2021-09-30', '2021-10-08', '2021-10-09', '2021-10-07', '2021-10-10', '2021-10-03', '2021-10-04', '2021-10-05', '2021-10-06', '2021-10-01', '2021-10-02']\n",
      "todaylessoonv []\n"
     ]
    }
   ],
   "source": [
    "lessonboxopenclosestatus.processlessonbygroup()"
   ]
  },
  {
   "cell_type": "code",
   "execution_count": 72,
   "id": "thick-patch",
   "metadata": {},
   "outputs": [
    {
     "data": {
      "text/plain": [
       "[<leancloud.object_.Lesson at 0xffff943bbf40>,\n",
       " <leancloud.object_.Lesson at 0xffff943bba00>,\n",
       " <leancloud.object_.Lesson at 0xffff954baf10>,\n",
       " <leancloud.object_.Lesson at 0xffff9c7586a0>,\n",
       " <leancloud.object_.Lesson at 0xffff9c73aa00>,\n",
       " <leancloud.object_.Lesson at 0xffff95461550>,\n",
       " <leancloud.object_.Lesson at 0xffff95461790>,\n",
       " <leancloud.object_.Lesson at 0xffff954618e0>,\n",
       " <leancloud.object_.Lesson at 0xffff9440e6a0>,\n",
       " <leancloud.object_.Lesson at 0xffff9440e040>]"
      ]
     },
     "execution_count": 72,
     "metadata": {},
     "output_type": "execute_result"
    }
   ],
   "source": [
    "lessonlist()"
   ]
  },
  {
   "cell_type": "code",
   "execution_count": 3,
   "id": "protected-space",
   "metadata": {},
   "outputs": [],
   "source": [
    "lv= lessonlist()"
   ]
  },
  {
   "cell_type": "code",
   "execution_count": 4,
   "id": "relative-andrews",
   "metadata": {},
   "outputs": [
    {
     "name": "stdout",
     "output_type": "stream",
     "text": [
      "[<leancloud.object_.Lesson object at 0xffff764f7340>, <leancloud.object_.Lesson object at 0xffff764f7fa0>, <leancloud.object_.Lesson object at 0xffff764f7e20>, <leancloud.object_.Lesson object at 0xffff764f7ca0>, <leancloud.object_.Lesson object at 0xffff842a0700>, <leancloud.object_.Lesson object at 0xffff842a0d90>, <leancloud.object_.Lesson object at 0xffff842a0d00>, <leancloud.object_.Lesson object at 0xffff842a06d0>, <leancloud.object_.Lesson object at 0xffff84253760>, <leancloud.object_.Lesson object at 0xffff84253580>]\n"
     ]
    }
   ],
   "source": [
    "print(lv)"
   ]
  },
  {
   "cell_type": "code",
   "execution_count": 5,
   "id": "typical-accommodation",
   "metadata": {},
   "outputs": [],
   "source": [
    "lesson1=lv[0]"
   ]
  },
  {
   "cell_type": "code",
   "execution_count": 77,
   "id": "future-faith",
   "metadata": {},
   "outputs": [
    {
     "name": "stdout",
     "output_type": "stream",
     "text": [
      "<leancloud.object_.Student object at 0xffff9548edc0>\n",
      "<leancloud.object_.Student object at 0xffff9440dd30>\n",
      "<leancloud.object_.Student object at 0xffff9c758670>\n",
      "serialdiict {'R58MA0PDHXR': '韩', 'PNXGAM5891406481': '蔡', 'A7QDU18825002314': '张荣'}\n",
      "memberv= []\n",
      "<leancloud.object_.Androiddevice object at 0xffff954a6fd0>\n",
      "{'serial': '50b54900', 'status': 'device', 'model': 'MI NOTE LTE', 'createdAt': {'__type': 'Date', 'iso': '2021-03-04T17:51:42.399Z'}, 'updatedAt': {'__type': 'Date', 'iso': '2021-03-06T08:27:15.268Z'}, 'objectId': '60411e2ea3518d8eee5802b5', '__type': 'Object', 'className': 'Androiddevice'}\n",
      "<leancloud.object_.Androiddevice object at 0xffff943c6be0>\n",
      "{'serial': 'A7QDU18825002314', 'status': 'device', 'model': 'BKL-AL20', 'createdAt': {'__type': 'Date', 'iso': '2021-09-09T08:00:55.719Z'}, 'updatedAt': {'__type': 'Date', 'iso': '2021-09-09T08:00:55.719Z'}, 'objectId': '6139bf37bea6ed3ebdcb06c7', '__type': 'Object', 'className': 'Androiddevice'}\n",
      "serial= 50b54900\n",
      "serial= A7QDU18825002314\n",
      "joindevicev ['张荣']\n",
      "set()\n",
      "no join= set()\n",
      "dates= ['2021-10-01', '2021-10-02', '2021-10-03', '2021-10-04', '2021-10-05', '2021-10-06', '2021-10-07', '2021-10-08', '2021-10-09', '2021-10-10']\n",
      "dates= ['2021-10-01', '2021-10-02', '2021-10-03', '2021-10-04', '2021-10-05', '2021-10-06', '2021-10-07', '2021-10-08', '2021-10-09', '2021-10-10']\n",
      "dates= ['2021-10-01', '2021-10-02', '2021-10-03', '2021-10-04', '2021-10-05', '2021-10-06', '2021-10-07', '2021-10-08', '2021-10-09', '2021-10-10']\n",
      "dates= ['2021-10-01', '2021-10-10', '2021-10-03', '2021-10-04', '2021-10-05', '2021-10-06', '2021-10-08', '2021-10-09', '2021-10-02', '2021-10-07']\n",
      "dates= ['2021-10-01', '2021-10-10', '2021-10-03', '2021-10-04', '2021-10-05', '2021-10-06', '2021-10-07', '2021-10-08', '2021-10-09', '2021-10-02']\n",
      "dates= ['2021-10-01', '2021-10-02', '2021-10-03', '2021-10-04', '2021-10-05', '2021-10-06', '2021-10-07', '2021-10-08', '2021-10-09', '2021-10-10']\n",
      "dates= ['2021-10-04', '2021-10-05', '2021-10-06', '2021-10-07', '2021-10-08', '2021-10-09', '2021-10-10', '2021-10-03', '2021-10-01', '2021-10-02']\n",
      "dates= ['2021-09-27', '2021-09-28', '2021-09-29', '2021-09-30', '2021-10-01', '2021-10-02', '2021-10-03', '2021-10-04', '2021-10-05', '2021-10-06', '2021-10-07', '2021-10-08', '2021-10-09', '2021-10-10']\n",
      "dates= ['2021-09-27', '2021-09-28', '2021-09-29', '2021-09-30', '2021-10-08', '2021-10-09', '2021-10-07', '2021-10-10', '2021-10-03', '2021-10-04', '2021-10-05', '2021-10-06', '2021-10-01', '2021-10-02']\n",
      "todaylessoonv []\n",
      "dates= ['2021-10-01', '2021-10-02', '2021-10-03', '2021-10-04', '2021-10-05', '2021-10-06', '2021-10-07', '2021-10-08', '2021-10-09', '2021-10-10']\n",
      "dates= ['2021-10-01', '2021-10-02', '2021-10-03', '2021-10-04', '2021-10-05', '2021-10-06', '2021-10-07', '2021-10-08', '2021-10-09', '2021-10-10']\n",
      "dates= ['2021-10-01', '2021-10-02', '2021-10-03', '2021-10-04', '2021-10-05', '2021-10-06', '2021-10-07', '2021-10-08', '2021-10-09', '2021-10-10']\n",
      "dates= ['2021-10-01', '2021-10-10', '2021-10-03', '2021-10-04', '2021-10-05', '2021-10-06', '2021-10-08', '2021-10-09', '2021-10-02', '2021-10-07']\n",
      "dates= ['2021-10-01', '2021-10-10', '2021-10-03', '2021-10-04', '2021-10-05', '2021-10-06', '2021-10-07', '2021-10-08', '2021-10-09', '2021-10-02']\n",
      "dates= ['2021-10-01', '2021-10-02', '2021-10-03', '2021-10-04', '2021-10-05', '2021-10-06', '2021-10-07', '2021-10-08', '2021-10-09', '2021-10-10']\n",
      "dates= ['2021-10-04', '2021-10-05', '2021-10-06', '2021-10-07', '2021-10-08', '2021-10-09', '2021-10-10', '2021-10-03', '2021-10-01', '2021-10-02']\n",
      "dates= ['2021-09-27', '2021-09-28', '2021-09-29', '2021-09-30', '2021-10-01', '2021-10-02', '2021-10-03', '2021-10-04', '2021-10-05', '2021-10-06', '2021-10-07', '2021-10-08', '2021-10-09', '2021-10-10']\n",
      "dates= ['2021-09-27', '2021-09-28', '2021-09-29', '2021-09-30', '2021-10-08', '2021-10-09', '2021-10-07', '2021-10-10', '2021-10-03', '2021-10-04', '2021-10-05', '2021-10-06', '2021-10-01', '2021-10-02']\n",
      "todaylessoonv []\n"
     ]
    }
   ],
   "source": [
    "lessonboxopenclosestatus.processlessonbygroup(lesson1)"
   ]
  },
  {
   "cell_type": "code",
   "execution_count": 79,
   "id": "monetary-belfast",
   "metadata": {},
   "outputs": [
    {
     "name": "stdout",
     "output_type": "stream",
     "text": [
      "<leancloud.object_.Lesson object at 0xffff9c758250>\n",
      "122连\n",
      "<leancloud.object_.Lesson object at 0xffff94412dc0>\n",
      "122连\n",
      "<leancloud.object_.Lesson object at 0xffff943bbfa0>\n",
      "122连\n",
      "<leancloud.object_.Lesson object at 0xffff943b9d60>\n",
      "122连\n",
      "<leancloud.object_.Lesson object at 0xffff943c1ca0>\n",
      "122连\n",
      "<leancloud.object_.Lesson object at 0xffff943c1220>\n",
      "122连\n",
      "<leancloud.object_.Lesson object at 0xffff943c1f10>\n",
      "122连\n",
      "<leancloud.object_.Lesson object at 0xffff943c1a60>\n",
      "122连\n",
      "<leancloud.object_.Lesson object at 0xffff943cce20>\n",
      "122连\n",
      "<leancloud.object_.Lesson object at 0xffff95458be0>\n",
      "122连\n",
      "dates= ['2021-10-01', '2021-10-02', '2021-10-03', '2021-10-04', '2021-10-05', '2021-10-06', '2021-10-07', '2021-10-08', '2021-10-09', '2021-10-10']\n",
      "dates= ['2021-10-01', '2021-10-02', '2021-10-03', '2021-10-04', '2021-10-05', '2021-10-06', '2021-10-07', '2021-10-08', '2021-10-09', '2021-10-10']\n",
      "dates= ['2021-10-01', '2021-10-02', '2021-10-03', '2021-10-04', '2021-10-05', '2021-10-06', '2021-10-07', '2021-10-08', '2021-10-09', '2021-10-10']\n",
      "dates= ['2021-10-01', '2021-10-10', '2021-10-03', '2021-10-04', '2021-10-05', '2021-10-06', '2021-10-08', '2021-10-09', '2021-10-02', '2021-10-07']\n",
      "dates= ['2021-10-01', '2021-10-10', '2021-10-03', '2021-10-04', '2021-10-05', '2021-10-06', '2021-10-07', '2021-10-08', '2021-10-09', '2021-10-02']\n",
      "dates= ['2021-10-01', '2021-10-02', '2021-10-03', '2021-10-04', '2021-10-05', '2021-10-06', '2021-10-07', '2021-10-08', '2021-10-09', '2021-10-10']\n",
      "dates= ['2021-10-04', '2021-10-05', '2021-10-06', '2021-10-07', '2021-10-08', '2021-10-09', '2021-10-10', '2021-10-03', '2021-10-01', '2021-10-02']\n",
      "dates= ['2021-09-27', '2021-09-28', '2021-09-29', '2021-09-30', '2021-10-01', '2021-10-02', '2021-10-03', '2021-10-04', '2021-10-05', '2021-10-06', '2021-10-07', '2021-10-08', '2021-10-09', '2021-10-10']\n",
      "dates= ['2021-09-27', '2021-09-28', '2021-09-29', '2021-09-30', '2021-10-08', '2021-10-09', '2021-10-07', '2021-10-10', '2021-10-03', '2021-10-04', '2021-10-05', '2021-10-06', '2021-10-01', '2021-10-02']\n",
      "todaylessoonv []\n",
      "dates= ['2021-10-01', '2021-10-02', '2021-10-03', '2021-10-04', '2021-10-05', '2021-10-06', '2021-10-07', '2021-10-08', '2021-10-09', '2021-10-10']\n",
      "dates= ['2021-10-01', '2021-10-02', '2021-10-03', '2021-10-04', '2021-10-05', '2021-10-06', '2021-10-07', '2021-10-08', '2021-10-09', '2021-10-10']\n",
      "dates= ['2021-10-01', '2021-10-02', '2021-10-03', '2021-10-04', '2021-10-05', '2021-10-06', '2021-10-07', '2021-10-08', '2021-10-09', '2021-10-10']\n",
      "dates= ['2021-10-01', '2021-10-10', '2021-10-03', '2021-10-04', '2021-10-05', '2021-10-06', '2021-10-08', '2021-10-09', '2021-10-02', '2021-10-07']\n",
      "dates= ['2021-10-01', '2021-10-10', '2021-10-03', '2021-10-04', '2021-10-05', '2021-10-06', '2021-10-07', '2021-10-08', '2021-10-09', '2021-10-02']\n",
      "dates= ['2021-10-01', '2021-10-02', '2021-10-03', '2021-10-04', '2021-10-05', '2021-10-06', '2021-10-07', '2021-10-08', '2021-10-09', '2021-10-10']\n",
      "dates= ['2021-10-04', '2021-10-05', '2021-10-06', '2021-10-07', '2021-10-08', '2021-10-09', '2021-10-10', '2021-10-03', '2021-10-01', '2021-10-02']\n",
      "dates= ['2021-09-27', '2021-09-28', '2021-09-29', '2021-09-30', '2021-10-01', '2021-10-02', '2021-10-03', '2021-10-04', '2021-10-05', '2021-10-06', '2021-10-07', '2021-10-08', '2021-10-09', '2021-10-10']\n",
      "dates= ['2021-09-27', '2021-09-28', '2021-09-29', '2021-09-30', '2021-10-08', '2021-10-09', '2021-10-07', '2021-10-10', '2021-10-03', '2021-10-04', '2021-10-05', '2021-10-06', '2021-10-01', '2021-10-02']\n",
      "todaylessoonv []\n"
     ]
    }
   ],
   "source": [
    "for item in lv:\n",
    "    print(item)\n",
    "    print(item.get(\"group\"))"
   ]
  },
  {
   "cell_type": "code",
   "execution_count": 84,
   "id": "revised-driver",
   "metadata": {},
   "outputs": [
    {
     "ename": "NameError",
     "evalue": "name 'userlevel' is not defined",
     "output_type": "error",
     "traceback": [
      "\u001b[0;31m---------------------------------------------------------------------------\u001b[0m",
      "\u001b[0;31mNameError\u001b[0m                                 Traceback (most recent call last)",
      "\u001b[0;32m<ipython-input-84-d66e85824131>\u001b[0m in \u001b[0;36m<module>\u001b[0;34m\u001b[0m\n\u001b[0;32m----> 1\u001b[0;31m \u001b[0mlessonboxopenclosestatus\u001b[0m\u001b[0;34m.\u001b[0m\u001b[0mgetMembervbygroup\u001b[0m\u001b[0;34m(\u001b[0m\u001b[0;34m\"122连\"\u001b[0m\u001b[0;34m)\u001b[0m\u001b[0;34m\u001b[0m\u001b[0;34m\u001b[0m\u001b[0m\n\u001b[0m",
      "\u001b[0;32m~/boxtest/lessonboxopenclosestatus.py\u001b[0m in \u001b[0;36mgetMembervbygroup\u001b[0;34m(userlevel)\u001b[0m\n\u001b[1;32m    168\u001b[0m         \u001b[0;32mreturn\u001b[0m \u001b[0mlist\u001b[0m\u001b[0;34m(\u001b[0m\u001b[0mmemberv\u001b[0m\u001b[0;34m)\u001b[0m\u001b[0;34m\u001b[0m\u001b[0;34m\u001b[0m\u001b[0m\n\u001b[1;32m    169\u001b[0m \u001b[0;32mdef\u001b[0m \u001b[0mgetMembervbygroup\u001b[0m\u001b[0;34m(\u001b[0m\u001b[0mgroup\u001b[0m\u001b[0;34m)\u001b[0m\u001b[0;34m:\u001b[0m\u001b[0;34m\u001b[0m\u001b[0;34m\u001b[0m\u001b[0m\n\u001b[0;32m--> 170\u001b[0;31m         \u001b[0mstudentv\u001b[0m \u001b[0;34m=\u001b[0m \u001b[0mstudentlistbygroup\u001b[0m\u001b[0;34m(\u001b[0m\u001b[0mgroup\u001b[0m\u001b[0;34m)\u001b[0m\u001b[0;34m\u001b[0m\u001b[0;34m\u001b[0m\u001b[0m\n\u001b[0m\u001b[1;32m    171\u001b[0m         \u001b[0mmemberv\u001b[0m \u001b[0;34m=\u001b[0m \u001b[0mmap\u001b[0m\u001b[0;34m(\u001b[0m\u001b[0;32mlambda\u001b[0m \u001b[0mitem\u001b[0m\u001b[0;34m:\u001b[0m \u001b[0mitem\u001b[0m\u001b[0;34m.\u001b[0m\u001b[0mget\u001b[0m\u001b[0;34m(\u001b[0m\u001b[0;34m\"name\"\u001b[0m\u001b[0;34m)\u001b[0m\u001b[0;34m,\u001b[0m\u001b[0mstudentv\u001b[0m\u001b[0;34m)\u001b[0m\u001b[0;34m\u001b[0m\u001b[0;34m\u001b[0m\u001b[0m\n\u001b[1;32m    172\u001b[0m         \u001b[0;32mreturn\u001b[0m \u001b[0mlist\u001b[0m\u001b[0;34m(\u001b[0m\u001b[0mmemberv\u001b[0m\u001b[0;34m)\u001b[0m\u001b[0;34m\u001b[0m\u001b[0;34m\u001b[0m\u001b[0m\n",
      "\u001b[0;32m~/boxtest/lessonboxopenclosestatus.py\u001b[0m in \u001b[0;36mstudentlistbygroup\u001b[0;34m(group)\u001b[0m\n\u001b[1;32m    116\u001b[0m     \u001b[0mTodo\u001b[0m \u001b[0;34m=\u001b[0m \u001b[0mleancloud\u001b[0m\u001b[0;34m.\u001b[0m\u001b[0mObject\u001b[0m\u001b[0;34m.\u001b[0m\u001b[0mextend\u001b[0m\u001b[0;34m(\u001b[0m\u001b[0;34m'Student'\u001b[0m\u001b[0;34m)\u001b[0m\u001b[0;34m\u001b[0m\u001b[0;34m\u001b[0m\u001b[0m\n\u001b[1;32m    117\u001b[0m     \u001b[0mquery\u001b[0m \u001b[0;34m=\u001b[0m \u001b[0mTodo\u001b[0m\u001b[0;34m.\u001b[0m\u001b[0mquery\u001b[0m\u001b[0;34m\u001b[0m\u001b[0;34m\u001b[0m\u001b[0m\n\u001b[0;32m--> 118\u001b[0;31m     \u001b[0mquery\u001b[0m\u001b[0;34m.\u001b[0m\u001b[0mequal_to\u001b[0m\u001b[0;34m(\u001b[0m\u001b[0;34m\"group\"\u001b[0m\u001b[0;34m,\u001b[0m\u001b[0mgroup\u001b[0m\u001b[0;34m)\u001b[0m\u001b[0;34m\u001b[0m\u001b[0;34m\u001b[0m\u001b[0m\n\u001b[0m\u001b[1;32m    119\u001b[0m \u001b[0;34m\u001b[0m\u001b[0m\n\u001b[1;32m    120\u001b[0m     \u001b[0mquery_result\u001b[0m \u001b[0;34m=\u001b[0m \u001b[0mquery\u001b[0m\u001b[0;34m.\u001b[0m\u001b[0mfind\u001b[0m\u001b[0;34m(\u001b[0m\u001b[0;34m)\u001b[0m\u001b[0;34m\u001b[0m\u001b[0;34m\u001b[0m\u001b[0m\n",
      "\u001b[0;31mNameError\u001b[0m: name 'userlevel' is not defined"
     ]
    },
    {
     "name": "stdout",
     "output_type": "stream",
     "text": [
      "dates= ['2021-10-01', '2021-10-02', '2021-10-03', '2021-10-04', '2021-10-05', '2021-10-06', '2021-10-07', '2021-10-08', '2021-10-09', '2021-10-10']\n",
      "dates= ['2021-10-01', '2021-10-02', '2021-10-03', '2021-10-04', '2021-10-05', '2021-10-06', '2021-10-07', '2021-10-08', '2021-10-09', '2021-10-10']\n",
      "dates= ['2021-10-01', '2021-10-02', '2021-10-03', '2021-10-04', '2021-10-05', '2021-10-06', '2021-10-07', '2021-10-08', '2021-10-09', '2021-10-10']\n",
      "dates= ['2021-10-01', '2021-10-10', '2021-10-03', '2021-10-04', '2021-10-05', '2021-10-06', '2021-10-08', '2021-10-09', '2021-10-02', '2021-10-07']\n",
      "dates= ['2021-10-01', '2021-10-10', '2021-10-03', '2021-10-04', '2021-10-05', '2021-10-06', '2021-10-07', '2021-10-08', '2021-10-09', '2021-10-02']\n",
      "dates= ['2021-10-01', '2021-10-02', '2021-10-03', '2021-10-04', '2021-10-05', '2021-10-06', '2021-10-07', '2021-10-08', '2021-10-09', '2021-10-10']\n",
      "dates= ['2021-10-04', '2021-10-05', '2021-10-06', '2021-10-07', '2021-10-08', '2021-10-09', '2021-10-10', '2021-10-03', '2021-10-01', '2021-10-02']\n",
      "dates= ['2021-09-27', '2021-09-28', '2021-09-29', '2021-09-30', '2021-10-01', '2021-10-02', '2021-10-03', '2021-10-04', '2021-10-05', '2021-10-06', '2021-10-07', '2021-10-08', '2021-10-09', '2021-10-10']\n",
      "dates= ['2021-09-27', '2021-09-28', '2021-09-29', '2021-09-30', '2021-10-08', '2021-10-09', '2021-10-07', '2021-10-10', '2021-10-03', '2021-10-04', '2021-10-05', '2021-10-06', '2021-10-01', '2021-10-02']\n",
      "todaylessoonv []\n",
      "dates= ['2021-10-01', '2021-10-02', '2021-10-03', '2021-10-04', '2021-10-05', '2021-10-06', '2021-10-07', '2021-10-08', '2021-10-09', '2021-10-10']\n",
      "dates= ['2021-10-01', '2021-10-02', '2021-10-03', '2021-10-04', '2021-10-05', '2021-10-06', '2021-10-07', '2021-10-08', '2021-10-09', '2021-10-10']\n",
      "dates= ['2021-10-01', '2021-10-02', '2021-10-03', '2021-10-04', '2021-10-05', '2021-10-06', '2021-10-07', '2021-10-08', '2021-10-09', '2021-10-10']\n",
      "dates= ['2021-10-01', '2021-10-10', '2021-10-03', '2021-10-04', '2021-10-05', '2021-10-06', '2021-10-08', '2021-10-09', '2021-10-02', '2021-10-07']\n",
      "dates= ['2021-10-01', '2021-10-10', '2021-10-03', '2021-10-04', '2021-10-05', '2021-10-06', '2021-10-07', '2021-10-08', '2021-10-09', '2021-10-02']\n",
      "dates= ['2021-10-01', '2021-10-02', '2021-10-03', '2021-10-04', '2021-10-05', '2021-10-06', '2021-10-07', '2021-10-08', '2021-10-09', '2021-10-10']\n",
      "dates= ['2021-10-04', '2021-10-05', '2021-10-06', '2021-10-07', '2021-10-08', '2021-10-09', '2021-10-10', '2021-10-03', '2021-10-01', '2021-10-02']\n",
      "dates= ['2021-09-27', '2021-09-28', '2021-09-29', '2021-09-30', '2021-10-01', '2021-10-02', '2021-10-03', '2021-10-04', '2021-10-05', '2021-10-06', '2021-10-07', '2021-10-08', '2021-10-09', '2021-10-10']\n",
      "dates= ['2021-09-27', '2021-09-28', '2021-09-29', '2021-09-30', '2021-10-08', '2021-10-09', '2021-10-07', '2021-10-10', '2021-10-03', '2021-10-04', '2021-10-05', '2021-10-06', '2021-10-01', '2021-10-02']\n",
      "todaylessoonv []\n"
     ]
    }
   ],
   "source": [
    "lessonboxopenclosestatus.getMembervbygroup(\"122连\")"
   ]
  },
  {
   "cell_type": "code",
   "execution_count": 4,
   "id": "removable-jonathan",
   "metadata": {},
   "outputs": [
    {
     "name": "stdout",
     "output_type": "stream",
     "text": [
      "<leancloud.object_.Student object at 0xffff856d5880>\n",
      "<leancloud.object_.Student object at 0xffff8c489a90>\n",
      "<leancloud.object_.Student object at 0xffff8c489280>\n"
     ]
    },
    {
     "data": {
      "text/plain": [
       "[<leancloud.object_.Student at 0xffff856d5880>,\n",
       " <leancloud.object_.Student at 0xffff8c489a90>,\n",
       " <leancloud.object_.Student at 0xffff8c489280>]"
      ]
     },
     "execution_count": 4,
     "metadata": {},
     "output_type": "execute_result"
    }
   ],
   "source": [
    "lessonboxopenclosestatus.studentlistbygroup(\"122连\")"
   ]
  },
  {
   "cell_type": "code",
   "execution_count": 8,
   "id": "silver-overview",
   "metadata": {},
   "outputs": [
    {
     "name": "stdout",
     "output_type": "stream",
     "text": [
      "<leancloud.object_.Student object at 0xffff8c45cf10>\n",
      "<leancloud.object_.Student object at 0xffff85313b50>\n",
      "<leancloud.object_.Student object at 0xffff85313a60>\n",
      "serialdiict {'R58MA0PDHXR': '韩', 'PNXGAM5891406481': '蔡', 'A7QDU18825002314': '张荣'}\n",
      "<leancloud.object_.Student object at 0xffff852abeb0>\n",
      "<leancloud.object_.Student object at 0xffff852abd60>\n",
      "<leancloud.object_.Student object at 0xffff852cf760>\n",
      "memberv= ['韩', '蔡', '张荣']\n",
      "<leancloud.object_.Androiddevice object at 0xffff8c477f40>\n",
      "{'serial': '50b54900', 'status': 'device', 'model': 'MI NOTE LTE', 'createdAt': {'__type': 'Date', 'iso': '2021-03-04T17:51:42.399Z'}, 'updatedAt': {'__type': 'Date', 'iso': '2021-03-06T08:27:15.268Z'}, 'objectId': '60411e2ea3518d8eee5802b5', '__type': 'Object', 'className': 'Androiddevice'}\n",
      "<leancloud.object_.Androiddevice object at 0xffff8c46c0d0>\n",
      "{'serial': 'A7QDU18825002314', 'status': 'device', 'model': 'BKL-AL20', 'createdAt': {'__type': 'Date', 'iso': '2021-09-09T08:00:55.719Z'}, 'updatedAt': {'__type': 'Date', 'iso': '2021-09-09T08:00:55.719Z'}, 'objectId': '6139bf37bea6ed3ebdcb06c7', '__type': 'Object', 'className': 'Androiddevice'}\n",
      "serial= 50b54900\n",
      "serial= A7QDU18825002314\n",
      "joindevicev ['张荣']\n",
      "{'韩', '蔡'}\n",
      "no join= {'韩', '蔡'}\n"
     ]
    }
   ],
   "source": [
    "lessonboxopenclosestatus.processlessonbygroup(lesson1)"
   ]
  },
  {
   "cell_type": "code",
   "execution_count": 3,
   "id": "single-intranet",
   "metadata": {},
   "outputs": [
    {
     "name": "stdout",
     "output_type": "stream",
     "text": [
      "<leancloud.object_.Student object at 0xffff808059d0>\n",
      "<leancloud.object_.Student object at 0xffff6b677e50>\n",
      "<leancloud.object_.Student object at 0xffff6b677c70>\n",
      "serialdiict {'R58MA0PDHXR': '韩', 'PNXGAM5891406481': '蔡', 'A7QDU18825002314': '张荣'}\n",
      "<leancloud.object_.Student object at 0xffff6b60ed30>\n",
      "<leancloud.object_.Student object at 0xffff6b60ef40>\n",
      "<leancloud.object_.Student object at 0xffff6b60ed00>\n",
      "memberv= ['韩', '蔡', '张荣']\n",
      "<leancloud.object_.Androiddevice object at 0xffff6b60ecd0>\n",
      "{'serial': '50b54900', 'status': 'device', 'model': 'MI NOTE LTE', 'createdAt': {'__type': 'Date', 'iso': '2021-03-04T17:51:42.399Z'}, 'updatedAt': {'__type': 'Date', 'iso': '2021-03-06T08:27:15.268Z'}, 'objectId': '60411e2ea3518d8eee5802b5', '__type': 'Object', 'className': 'Androiddevice'}\n",
      "<leancloud.object_.Androiddevice object at 0xffff6b60ec10>\n",
      "{'serial': 'A7QDU18825002314', 'status': 'device', 'model': 'BKL-AL20', 'createdAt': {'__type': 'Date', 'iso': '2021-09-09T08:00:55.719Z'}, 'updatedAt': {'__type': 'Date', 'iso': '2021-09-09T08:00:55.719Z'}, 'objectId': '6139bf37bea6ed3ebdcb06c7', '__type': 'Object', 'className': 'Androiddevice'}\n",
      "serial= 50b54900\n",
      "serial= A7QDU18825002314\n",
      "devicev= [<leancloud.object_.Androiddevice object at 0xffff6b60ecd0>, <leancloud.object_.Androiddevice object at 0xffff6b60ec10>]\n",
      "joindevicev ['张荣']\n",
      "{'蔡', '韩'}\n",
      "no join= {'蔡', '韩'}\n",
      "lessontime1= 1634008705000\n"
     ]
    },
    {
     "ename": "NameError",
     "evalue": "name 'priint' is not defined",
     "output_type": "error",
     "traceback": [
      "\u001b[0;31m---------------------------------------------------------------------------\u001b[0m",
      "\u001b[0;31mNameError\u001b[0m                                 Traceback (most recent call last)",
      "\u001b[0;32m<ipython-input-3-484b3285a793>\u001b[0m in \u001b[0;36m<module>\u001b[0;34m\u001b[0m\n\u001b[1;32m      2\u001b[0m \u001b[0mlv\u001b[0m\u001b[0;34m=\u001b[0m\u001b[0mlessonlist\u001b[0m\u001b[0;34m(\u001b[0m\u001b[0;34m)\u001b[0m\u001b[0;34m\u001b[0m\u001b[0;34m\u001b[0m\u001b[0m\n\u001b[1;32m      3\u001b[0m \u001b[0mlesson1\u001b[0m\u001b[0;34m=\u001b[0m\u001b[0mlv\u001b[0m\u001b[0;34m[\u001b[0m\u001b[0;36m0\u001b[0m\u001b[0;34m]\u001b[0m\u001b[0;34m\u001b[0m\u001b[0;34m\u001b[0m\u001b[0m\n\u001b[0;32m----> 4\u001b[0;31m \u001b[0mlessonboxopenclosestatus\u001b[0m\u001b[0;34m.\u001b[0m\u001b[0mprocesslessonbygroup\u001b[0m\u001b[0;34m(\u001b[0m\u001b[0mlesson1\u001b[0m\u001b[0;34m)\u001b[0m\u001b[0;34m\u001b[0m\u001b[0;34m\u001b[0m\u001b[0m\n\u001b[0m",
      "\u001b[0;32m~/boxtest/lessonboxopenclosestatus.py\u001b[0m in \u001b[0;36mprocesslessonbygroup\u001b[0;34m(newlesson)\u001b[0m\n\u001b[1;32m    224\u001b[0m     \u001b[0mlessontime30\u001b[0m \u001b[0;34m=\u001b[0m \u001b[0mlessontime\u001b[0m\u001b[0;34m.\u001b[0m\u001b[0mshift\u001b[0m\u001b[0;34m(\u001b[0m\u001b[0mminutes\u001b[0m\u001b[0;34m=\u001b[0m\u001b[0;34m-\u001b[0m\u001b[0;36m30\u001b[0m\u001b[0;34m)\u001b[0m\u001b[0;34m\u001b[0m\u001b[0;34m\u001b[0m\u001b[0m\n\u001b[1;32m    225\u001b[0m     \u001b[0mfaceboxcachev\u001b[0m\u001b[0;34m=\u001b[0m\u001b[0mfaceboxlistlast5\u001b[0m\u001b[0;34m(\u001b[0m\u001b[0mlessontime\u001b[0m\u001b[0;34m.\u001b[0m\u001b[0mtimestamp\u001b[0m\u001b[0;34m*\u001b[0m\u001b[0;36m1000\u001b[0m\u001b[0;34m,\u001b[0m\u001b[0mlessontime30\u001b[0m\u001b[0;34m.\u001b[0m\u001b[0mtimestamp\u001b[0m\u001b[0;34m*\u001b[0m\u001b[0;36m1000\u001b[0m\u001b[0;34m)\u001b[0m\u001b[0;34m\u001b[0m\u001b[0;34m\u001b[0m\u001b[0m\n\u001b[0;32m--> 226\u001b[0;31m     \u001b[0mpriint\u001b[0m\u001b[0;34m(\u001b[0m\u001b[0;34m\"faceboxcachev\"\u001b[0m\u001b[0;34m,\u001b[0m\u001b[0mfaceboxcachev\u001b[0m\u001b[0;34m)\u001b[0m\u001b[0;34m\u001b[0m\u001b[0;34m\u001b[0m\u001b[0m\n\u001b[0m\u001b[1;32m    227\u001b[0m     \u001b[0mtoday1\u001b[0m \u001b[0;34m=\u001b[0m \u001b[0marrow\u001b[0m\u001b[0;34m.\u001b[0m\u001b[0mutcnow\u001b[0m\u001b[0;34m(\u001b[0m\u001b[0;34m)\u001b[0m\u001b[0;34m\u001b[0m\u001b[0;34m\u001b[0m\u001b[0m\n\u001b[1;32m    228\u001b[0m     \u001b[0mtoday\u001b[0m\u001b[0;34m=\u001b[0m\u001b[0mtoday1\u001b[0m\u001b[0;34m.\u001b[0m\u001b[0mto\u001b[0m\u001b[0;34m(\u001b[0m\u001b[0;34m'Asia/Shanghai'\u001b[0m\u001b[0;34m)\u001b[0m\u001b[0;34m\u001b[0m\u001b[0;34m\u001b[0m\u001b[0m\n",
      "\u001b[0;31mNameError\u001b[0m: name 'priint' is not defined"
     ]
    }
   ],
   "source": [
    "import lessonboxopenclosestatus\n",
    "lv=lessonlist()\n",
    "lesson1=lv[0]\n",
    "lessonboxopenclosestatus.processlessonbygroup(lesson1)"
   ]
  },
  {
   "cell_type": "code",
   "execution_count": 3,
   "id": "diagnostic-devices",
   "metadata": {},
   "outputs": [
    {
     "name": "stdout",
     "output_type": "stream",
     "text": [
      "<leancloud.object_.Student object at 0xffff80227070>\n",
      "<leancloud.object_.Student object at 0xffff790b5e50>\n",
      "<leancloud.object_.Student object at 0xffff790b5c70>\n",
      "serialdiict {'R58MA0PDHXR': '韩', 'PNXGAM5891406481': '蔡', 'A7QDU18825002314': '张荣'}\n",
      "<leancloud.object_.Student object at 0xffff801f8ac0>\n",
      "<leancloud.object_.Student object at 0xffff7904ae50>\n",
      "<leancloud.object_.Student object at 0xffff7904ae20>\n",
      "memberv= ['韩', '蔡', '张荣']\n",
      "<leancloud.object_.Androiddevice object at 0xffff801f8ac0>\n",
      "{'serial': '50b54900', 'status': 'device', 'model': 'MI NOTE LTE', 'createdAt': {'__type': 'Date', 'iso': '2021-03-04T17:51:42.399Z'}, 'updatedAt': {'__type': 'Date', 'iso': '2021-03-06T08:27:15.268Z'}, 'objectId': '60411e2ea3518d8eee5802b5', '__type': 'Object', 'className': 'Androiddevice'}\n",
      "<leancloud.object_.Androiddevice object at 0xffff7904aee0>\n",
      "{'serial': 'A7QDU18825002314', 'status': 'device', 'model': 'BKL-AL20', 'createdAt': {'__type': 'Date', 'iso': '2021-09-09T08:00:55.719Z'}, 'updatedAt': {'__type': 'Date', 'iso': '2021-09-09T08:00:55.719Z'}, 'objectId': '6139bf37bea6ed3ebdcb06c7', '__type': 'Object', 'className': 'Androiddevice'}\n",
      "serial= 50b54900\n",
      "serial= A7QDU18825002314\n",
      "devicev= [<leancloud.object_.Androiddevice object at 0xffff801f8ac0>, <leancloud.object_.Androiddevice object at 0xffff7904aee0>]\n",
      "joindevicev ['张荣']\n",
      "{'韩', '蔡'}\n",
      "no join= {'韩', '蔡'}\n",
      "lessontime1= 1634008766000\n",
      "faceboxcachev []\n"
     ]
    }
   ],
   "source": [
    "import lessonboxopenclosestatus\n",
    "lv=lessonlist()\n",
    "lesson1=lv[0]\n",
    "lessonboxopenclosestatus.processlessonbygroup(lesson1)"
   ]
  },
  {
   "cell_type": "code",
   "execution_count": null,
   "id": "alpha-mainstream",
   "metadata": {},
   "outputs": [],
   "source": []
  }
 ],
 "metadata": {
  "kernelspec": {
   "display_name": "Python 3",
   "language": "python",
   "name": "python3"
  },
  "language_info": {
   "codemirror_mode": {
    "name": "ipython",
    "version": 3
   },
   "file_extension": ".py",
   "mimetype": "text/x-python",
   "name": "python",
   "nbconvert_exporter": "python",
   "pygments_lexer": "ipython3",
   "version": "3.8.10"
  }
 },
 "nbformat": 4,
 "nbformat_minor": 5
}
