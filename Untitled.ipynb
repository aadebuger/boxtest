{
 "cells": [
  {
   "cell_type": "code",
   "execution_count": 1,
   "id": "broken-guest",
   "metadata": {},
   "outputs": [],
   "source": [
    "import time\n",
    "\n",
    "import json\n",
    "import sys\n",
    "import requests\n",
    "import arrow\n",
    "import os\n",
    "url=\"http://192.168.124.43:8088/sendData\"\n",
    "headers = {\n",
    "    \"Content-Type\": \"application/json; charset=UTF-8\"\n",
    "    }"
   ]
  },
  {
   "cell_type": "code",
   "execution_count": null,
   "id": "adjacent-michael",
   "metadata": {},
   "outputs": [],
   "source": []
  },
  {
   "cell_type": "code",
   "execution_count": 30,
   "id": "narrative-fourth",
   "metadata": {},
   "outputs": [],
   "source": [
    "def boxlog(name):\n",
    "    url=\"http://192.168.124.43:8088/sendData\"\n",
    "    value=[name]\n",
    "    payload={\n",
    "        \"serialNumber\": os.environ.get(\"BOX_ID\",\"270443b125bbab521\"),\n",
    "        \"devicepass\": \"626364\",\n",
    "        \"tasktype\": \"16\",\n",
    "        \"data\": json.dumps(value)\n",
    "    }\n",
    "    response = requests.post(url, data=json.dumps(payload), headers=headers).text\n",
    "#    print(response)\n",
    "    print(\"hello\")\n",
    "    logv = json.loads(response)\n",
    "    print(logv['code'])\n",
    "#    print(logv['data'])\n",
    "    logdatav = logv['data']\n",
    "    retv=[]\n",
    "    for logitem in logdatav:\n",
    "#        print(logitem)\n",
    "        print(logitem['result'])\n",
    "        print(logitem['time'])\n",
    "        logtime= arrow.get(logitem['time'])\n",
    "        print(logtime)\n",
    "        print(logtime.strftime('%Y-%m-%dT%H:%M:%S.%f')[:-3]+\"Z\")\n",
    "        retv.append({\"boxresult\":logitem['result'],\"createdAt\":logtime.strftime('%Y-%m-%dT%H:%M:%S.%f')[:-3]+\"Z\"})\n",
    "    return retv"
   ]
  },
  {
   "cell_type": "code",
   "execution_count": 31,
   "id": "innocent-delaware",
   "metadata": {},
   "outputs": [
    {
     "name": "stdout",
     "output_type": "stream",
     "text": [
      "hello\n",
      "1\n",
      "取箱9\n",
      "1629388575680\n",
      "2021-08-19T15:56:15.680000+00:00\n",
      "2021-08-19T15:56:15.680Z\n",
      "取箱9\n",
      "1629388544326\n",
      "2021-08-19T15:55:44.326000+00:00\n",
      "2021-08-19T15:55:44.326Z\n",
      "取箱9\n",
      "1629388535388\n",
      "2021-08-19T15:55:35.388000+00:00\n",
      "2021-08-19T15:55:35.388Z\n",
      "取箱9\n",
      "1629388498911\n",
      "2021-08-19T15:54:58.911000+00:00\n",
      "2021-08-19T15:54:58.911Z\n",
      "取箱9\n",
      "1629388492537\n",
      "2021-08-19T15:54:52.537000+00:00\n",
      "2021-08-19T15:54:52.537Z\n",
      "取箱9\n",
      "1629388442703\n",
      "2021-08-19T15:54:02.703000+00:00\n",
      "2021-08-19T15:54:02.703Z\n",
      "中途取件9\n",
      "1629388384206\n",
      "2021-08-19T15:53:04.206000+00:00\n",
      "2021-08-19T15:53:04.206Z\n",
      "取箱9\n",
      "1629388312751\n",
      "2021-08-19T15:51:52.751000+00:00\n",
      "2021-08-19T15:51:52.751Z\n",
      "取箱9\n",
      "1629388295729\n",
      "2021-08-19T15:51:35.729000+00:00\n",
      "2021-08-19T15:51:35.729Z\n",
      "取箱9\n",
      "1629388276746\n",
      "2021-08-19T15:51:16.746000+00:00\n",
      "2021-08-19T15:51:16.746Z\n"
     ]
    },
    {
     "data": {
      "text/plain": [
       "[{'boxresult': '取箱9', 'logtime': '2021-08-19T15:56:15.680Z'},\n",
       " {'boxresult': '取箱9', 'logtime': '2021-08-19T15:55:44.326Z'},\n",
       " {'boxresult': '取箱9', 'logtime': '2021-08-19T15:55:35.388Z'},\n",
       " {'boxresult': '取箱9', 'logtime': '2021-08-19T15:54:58.911Z'},\n",
       " {'boxresult': '取箱9', 'logtime': '2021-08-19T15:54:52.537Z'},\n",
       " {'boxresult': '取箱9', 'logtime': '2021-08-19T15:54:02.703Z'},\n",
       " {'boxresult': '中途取件9', 'logtime': '2021-08-19T15:53:04.206Z'},\n",
       " {'boxresult': '取箱9', 'logtime': '2021-08-19T15:51:52.751Z'},\n",
       " {'boxresult': '取箱9', 'logtime': '2021-08-19T15:51:35.729Z'},\n",
       " {'boxresult': '取箱9', 'logtime': '2021-08-19T15:51:16.746Z'}]"
      ]
     },
     "execution_count": 31,
     "metadata": {},
     "output_type": "execute_result"
    }
   ],
   "source": [
    "boxlog('蔡')"
   ]
  },
  {
   "cell_type": "code",
   "execution_count": 1,
   "id": "occupational-fancy",
   "metadata": {},
   "outputs": [],
   "source": [
    "import arrow\n"
   ]
  },
  {
   "cell_type": "code",
   "execution_count": 2,
   "id": "further-kernel",
   "metadata": {},
   "outputs": [
    {
     "data": {
      "text/plain": [
       "<Arrow [2019-12-31T16:00:00+00:00]>"
      ]
     },
     "execution_count": 2,
     "metadata": {},
     "output_type": "execute_result"
    }
   ],
   "source": [
    "arrow.get(1577808000000)"
   ]
  },
  {
   "cell_type": "code",
   "execution_count": 3,
   "id": "isolated-tennessee",
   "metadata": {},
   "outputs": [
    {
     "data": {
      "text/plain": [
       "<Arrow [2021-12-28T16:00:00+00:00]>"
      ]
     },
     "execution_count": 3,
     "metadata": {},
     "output_type": "execute_result"
    }
   ],
   "source": [
    "arrow.get(1640707200000)"
   ]
  },
  {
   "cell_type": "code",
   "execution_count": 49,
   "id": "public-belly",
   "metadata": {},
   "outputs": [],
   "source": [
    "def boxlogbypage(first,end,firstt,endt,flag):\n",
    "    url=\"http://192.168.124.43:8088/sendData\"\n",
    "    value=[first,end,firstt,endt,flag]\n",
    "    payload={\n",
    "        \"serialNumber\": os.environ.get(\"BOX_ID\",\"270443b125bbab521\"),\n",
    "        \"devicepass\": \"626364\",\n",
    "        \"tasktype\": \"15\",\n",
    "        \"data\": json.dumps(value)\n",
    "    }\n",
    "    response = requests.post(url, data=json.dumps(payload), headers=headers).text\n",
    "#    print(response)\n",
    "    print(\"hello\")\n",
    "    logv = json.loads(response)\n",
    "    print(logv['code'])\n",
    "#    print(logv['data'])\n",
    "    logdatav = logv['data']\n",
    "    retv=[]\n",
    "    for logitem in logdatav:\n",
    "#        print(logitem)\n",
    "\n",
    "#        print(logitem['result'])\n",
    "#        print(logitem['time'])\n",
    "#        print(logitem['name'])\n",
    "        logtime= arrow.get(logitem['time'])\n",
    "#        print(logtime)\n",
    "#        print(logtime.strftime('%Y-%m-%dT%H:%M:%S.%f')[:-3]+\"Z\")\n",
    "        retv.append({\"name\":logitem['name'],\"boxresult\":logitem['result'],\"boxtime\":logitem['time'],\"createdAt1\":logtime.strftime('%Y-%m-%dT%H:%M:%S.%f')[:-3]+\"Z\"})\n",
    "    return retv"
   ]
  },
  {
   "cell_type": "code",
   "execution_count": 43,
   "id": "therapeutic-pantyhose",
   "metadata": {},
   "outputs": [
    {
     "name": "stdout",
     "output_type": "stream",
     "text": [
      "hello\n",
      "1\n",
      "取箱9\n",
      "1631280118846\n",
      "蔡\n",
      "2021-09-10T13:21:58.846000+00:00\n",
      "2021-09-10T13:21:58.846Z\n",
      "取箱9\n",
      "1631280105050\n",
      "蔡\n",
      "2021-09-10T13:21:45.050000+00:00\n",
      "2021-09-10T13:21:45.050Z\n",
      "取箱11\n",
      "1631239956876\n",
      "张荣荣\n",
      "2021-09-10T02:12:36.876000+00:00\n",
      "2021-09-10T02:12:36.876Z\n",
      "取箱11\n",
      "1631239950526\n",
      "张荣荣\n",
      "2021-09-10T02:12:30.526000+00:00\n",
      "2021-09-10T02:12:30.526Z\n",
      "取箱9\n",
      "1631069086847\n",
      "蔡\n",
      "2021-09-08T02:44:46.847000+00:00\n",
      "2021-09-08T02:44:46.847Z\n",
      "取箱9\n",
      "1631069082758\n",
      "蔡\n",
      "2021-09-08T02:44:42.758000+00:00\n",
      "2021-09-08T02:44:42.758Z\n",
      "取箱9\n",
      "1631069067861\n",
      "蔡\n",
      "2021-09-08T02:44:27.861000+00:00\n",
      "2021-09-08T02:44:27.861Z\n",
      "取箱9\n",
      "1631069061947\n",
      "蔡\n",
      "2021-09-08T02:44:21.947000+00:00\n",
      "2021-09-08T02:44:21.947Z\n",
      "取箱9\n",
      "1631069033673\n",
      "蔡\n",
      "2021-09-08T02:43:53.673000+00:00\n",
      "2021-09-08T02:43:53.673Z\n",
      "取箱11\n",
      "1631067681442\n",
      "张荣荣\n",
      "2021-09-08T02:21:21.442000+00:00\n",
      "2021-09-08T02:21:21.442Z\n"
     ]
    },
    {
     "data": {
      "text/plain": [
       "[{'name': '蔡',\n",
       "  'boxresult': '取箱9',\n",
       "  'boxtime': <Arrow [2021-09-10T13:21:58.846000+00:00]>,\n",
       "  'createdAt1': '2021-09-10T13:21:58.846Z'},\n",
       " {'name': '蔡',\n",
       "  'boxresult': '取箱9',\n",
       "  'boxtime': <Arrow [2021-09-10T13:21:45.050000+00:00]>,\n",
       "  'createdAt1': '2021-09-10T13:21:45.050Z'},\n",
       " {'name': '张荣荣',\n",
       "  'boxresult': '取箱11',\n",
       "  'boxtime': <Arrow [2021-09-10T02:12:36.876000+00:00]>,\n",
       "  'createdAt1': '2021-09-10T02:12:36.876Z'},\n",
       " {'name': '张荣荣',\n",
       "  'boxresult': '取箱11',\n",
       "  'boxtime': <Arrow [2021-09-10T02:12:30.526000+00:00]>,\n",
       "  'createdAt1': '2021-09-10T02:12:30.526Z'},\n",
       " {'name': '蔡',\n",
       "  'boxresult': '取箱9',\n",
       "  'boxtime': <Arrow [2021-09-08T02:44:46.847000+00:00]>,\n",
       "  'createdAt1': '2021-09-08T02:44:46.847Z'},\n",
       " {'name': '蔡',\n",
       "  'boxresult': '取箱9',\n",
       "  'boxtime': <Arrow [2021-09-08T02:44:42.758000+00:00]>,\n",
       "  'createdAt1': '2021-09-08T02:44:42.758Z'},\n",
       " {'name': '蔡',\n",
       "  'boxresult': '取箱9',\n",
       "  'boxtime': <Arrow [2021-09-08T02:44:27.861000+00:00]>,\n",
       "  'createdAt1': '2021-09-08T02:44:27.861Z'},\n",
       " {'name': '蔡',\n",
       "  'boxresult': '取箱9',\n",
       "  'boxtime': <Arrow [2021-09-08T02:44:21.947000+00:00]>,\n",
       "  'createdAt1': '2021-09-08T02:44:21.947Z'},\n",
       " {'name': '蔡',\n",
       "  'boxresult': '取箱9',\n",
       "  'boxtime': <Arrow [2021-09-08T02:43:53.673000+00:00]>,\n",
       "  'createdAt1': '2021-09-08T02:43:53.673Z'},\n",
       " {'name': '张荣荣',\n",
       "  'boxresult': '取箱11',\n",
       "  'boxtime': <Arrow [2021-09-08T02:21:21.442000+00:00]>,\n",
       "  'createdAt1': '2021-09-08T02:21:21.442Z'}]"
      ]
     },
     "execution_count": 43,
     "metadata": {},
     "output_type": "execute_result"
    }
   ],
   "source": [
    "boxlogbypage(0,10,1577808000000,1640707200000,-1)"
   ]
  },
  {
   "cell_type": "code",
   "execution_count": 7,
   "id": "considered-product",
   "metadata": {},
   "outputs": [],
   "source": [
    "def boxlogbypage(first,end,firstt,endt,flag):\n",
    "    url=\"http://192.168.124.43:8088/sendData\"\n",
    "    value=[first,end,firstt,endt,flag]\n",
    "    payload={\n",
    "        \"serialNumber\": os.environ.get(\"BOX_ID\",\"270443b125bbab521\"),\n",
    "        \"devicepass\":  os.environ.get(\"devicepass\",\"626364\"),\n",
    "        \"tasktype\": \"15\",\n",
    "        \"data\": json.dumps(value)\n",
    "    }\n",
    "    response = requests.post(url, data=json.dumps(payload), headers=headers).text\n",
    "#    print(response)\n",
    "    print(\"hello\")\n",
    "    logv = json.loads(response)\n",
    "    print(logv['code'])\n",
    "#    print(logv['data'])\n",
    "    logdatav = logv['data']\n",
    "    retv=[]\n",
    "    for logitem in logdatav:\n",
    "#        print(logitem)\n",
    "\n",
    "        print(logitem['result'])\n",
    "        print(logitem['time'])\n",
    "        print(logitem['name'])\n",
    "        print(logitem['type'])\n",
    "        logtime= arrow.get(logitem['time'])\n",
    "        print(logtime)\n",
    "        print(logtime.strftime('%Y-%m-%dT%H:%M:%S.%f')[:-3]+\"Z\")\n",
    "        retv.append({\"type\":logitem['type'],\"name\":logitem['name'],\"boxresult\":logitem['result'],\"createdAt\":logtime.strftime('%Y-%m-%dT%H:%M:%S.%f')[:-3]+\"Z\"})\n",
    "    return retv"
   ]
  },
  {
   "cell_type": "code",
   "execution_count": 5,
   "id": "criminal-walker",
   "metadata": {},
   "outputs": [
    {
     "name": "stdout",
     "output_type": "stream",
     "text": [
      "hello\n",
      "1\n",
      "取箱9\n",
      "1631280118846\n",
      "蔡\n",
      "2021-09-10T13:21:58.846000+00:00\n",
      "2021-09-10T13:21:58.846Z\n",
      "取箱9\n",
      "1631280105050\n",
      "蔡\n",
      "2021-09-10T13:21:45.050000+00:00\n",
      "2021-09-10T13:21:45.050Z\n",
      "取箱11\n",
      "1631239956876\n",
      "张荣荣\n",
      "2021-09-10T02:12:36.876000+00:00\n",
      "2021-09-10T02:12:36.876Z\n",
      "取箱11\n",
      "1631239950526\n",
      "张荣荣\n",
      "2021-09-10T02:12:30.526000+00:00\n",
      "2021-09-10T02:12:30.526Z\n",
      "取箱9\n",
      "1631069086847\n",
      "蔡\n",
      "2021-09-08T02:44:46.847000+00:00\n",
      "2021-09-08T02:44:46.847Z\n",
      "取箱9\n",
      "1631069082758\n",
      "蔡\n",
      "2021-09-08T02:44:42.758000+00:00\n",
      "2021-09-08T02:44:42.758Z\n",
      "取箱9\n",
      "1631069067861\n",
      "蔡\n",
      "2021-09-08T02:44:27.861000+00:00\n",
      "2021-09-08T02:44:27.861Z\n",
      "取箱9\n",
      "1631069061947\n",
      "蔡\n",
      "2021-09-08T02:44:21.947000+00:00\n",
      "2021-09-08T02:44:21.947Z\n",
      "取箱9\n",
      "1631069033673\n",
      "蔡\n",
      "2021-09-08T02:43:53.673000+00:00\n",
      "2021-09-08T02:43:53.673Z\n",
      "取箱11\n",
      "1631067681442\n",
      "张荣荣\n",
      "2021-09-08T02:21:21.442000+00:00\n",
      "2021-09-08T02:21:21.442Z\n"
     ]
    },
    {
     "data": {
      "text/plain": [
       "[{'name': '蔡', 'boxresult': '取箱9', 'createdAt': '2021-09-10T13:21:58.846Z'},\n",
       " {'name': '蔡', 'boxresult': '取箱9', 'createdAt': '2021-09-10T13:21:45.050Z'},\n",
       " {'name': '张荣荣', 'boxresult': '取箱11', 'createdAt': '2021-09-10T02:12:36.876Z'},\n",
       " {'name': '张荣荣', 'boxresult': '取箱11', 'createdAt': '2021-09-10T02:12:30.526Z'},\n",
       " {'name': '蔡', 'boxresult': '取箱9', 'createdAt': '2021-09-08T02:44:46.847Z'},\n",
       " {'name': '蔡', 'boxresult': '取箱9', 'createdAt': '2021-09-08T02:44:42.758Z'},\n",
       " {'name': '蔡', 'boxresult': '取箱9', 'createdAt': '2021-09-08T02:44:27.861Z'},\n",
       " {'name': '蔡', 'boxresult': '取箱9', 'createdAt': '2021-09-08T02:44:21.947Z'},\n",
       " {'name': '蔡', 'boxresult': '取箱9', 'createdAt': '2021-09-08T02:43:53.673Z'},\n",
       " {'name': '张荣荣', 'boxresult': '取箱11', 'createdAt': '2021-09-08T02:21:21.442Z'}]"
      ]
     },
     "execution_count": 5,
     "metadata": {},
     "output_type": "execute_result"
    }
   ],
   "source": [
    "boxlogbypage(0,20,1577808000000,1640707200000,-1)"
   ]
  },
  {
   "cell_type": "code",
   "execution_count": 7,
   "id": "stock-sessions",
   "metadata": {},
   "outputs": [
    {
     "data": {
      "text/plain": [
       "<Arrow [2019-12-31T16:00:00+00:00]>"
      ]
     },
     "execution_count": 7,
     "metadata": {},
     "output_type": "execute_result"
    }
   ],
   "source": [
    "arrow.get(1577808000000)"
   ]
  },
  {
   "cell_type": "code",
   "execution_count": 8,
   "id": "arabic-ontario",
   "metadata": {},
   "outputs": [
    {
     "data": {
      "text/plain": [
       "<Arrow [2021-12-28T16:00:00+00:00]>"
      ]
     },
     "execution_count": 8,
     "metadata": {},
     "output_type": "execute_result"
    }
   ],
   "source": [
    "arrow.get(1640707200000)"
   ]
  },
  {
   "cell_type": "code",
   "execution_count": 9,
   "id": "leading-hamilton",
   "metadata": {},
   "outputs": [
    {
     "data": {
      "text/plain": [
       "<Arrow [2021-09-08T02:21:21.442000+00:00]>"
      ]
     },
     "execution_count": 9,
     "metadata": {},
     "output_type": "execute_result"
    }
   ],
   "source": [
    "arrow.get('2021-09-08T02:21:21.442Z')"
   ]
  },
  {
   "cell_type": "code",
   "execution_count": 10,
   "id": "seventh-outside",
   "metadata": {},
   "outputs": [
    {
     "data": {
      "text/plain": [
       "<Arrow [2021-09-08T02:21:21.442000+00:00]>"
      ]
     },
     "execution_count": 10,
     "metadata": {},
     "output_type": "execute_result"
    }
   ],
   "source": [
    "arrow.get(1631067681442)"
   ]
  },
  {
   "cell_type": "code",
   "execution_count": 11,
   "id": "precious-insert",
   "metadata": {},
   "outputs": [
    {
     "name": "stdout",
     "output_type": "stream",
     "text": [
      "hello\n",
      "1\n",
      "取箱9\n",
      "1631280118846\n",
      "蔡\n",
      "2021-09-10T13:21:58.846000+00:00\n",
      "2021-09-10T13:21:58.846Z\n",
      "取箱9\n",
      "1631280105050\n",
      "蔡\n",
      "2021-09-10T13:21:45.050000+00:00\n",
      "2021-09-10T13:21:45.050Z\n",
      "取箱11\n",
      "1631239956876\n",
      "张荣荣\n",
      "2021-09-10T02:12:36.876000+00:00\n",
      "2021-09-10T02:12:36.876Z\n",
      "取箱11\n",
      "1631239950526\n",
      "张荣荣\n",
      "2021-09-10T02:12:30.526000+00:00\n",
      "2021-09-10T02:12:30.526Z\n",
      "取箱9\n",
      "1631069086847\n",
      "蔡\n",
      "2021-09-08T02:44:46.847000+00:00\n",
      "2021-09-08T02:44:46.847Z\n",
      "取箱9\n",
      "1631069082758\n",
      "蔡\n",
      "2021-09-08T02:44:42.758000+00:00\n",
      "2021-09-08T02:44:42.758Z\n",
      "取箱9\n",
      "1631069067861\n",
      "蔡\n",
      "2021-09-08T02:44:27.861000+00:00\n",
      "2021-09-08T02:44:27.861Z\n",
      "取箱9\n",
      "1631069061947\n",
      "蔡\n",
      "2021-09-08T02:44:21.947000+00:00\n",
      "2021-09-08T02:44:21.947Z\n",
      "取箱9\n",
      "1631069033673\n",
      "蔡\n",
      "2021-09-08T02:43:53.673000+00:00\n",
      "2021-09-08T02:43:53.673Z\n",
      "取箱11\n",
      "1631067681442\n",
      "张荣荣\n",
      "2021-09-08T02:21:21.442000+00:00\n",
      "2021-09-08T02:21:21.442Z\n",
      "取箱8\n",
      "1631007565786\n",
      "大众型\n",
      "2021-09-07T09:39:25.786000+00:00\n",
      "2021-09-07T09:39:25.786Z\n",
      "取箱9\n",
      "1630920072117\n",
      "蔡\n",
      "2021-09-06T09:21:12.117000+00:00\n",
      "2021-09-06T09:21:12.117Z\n",
      "取箱9\n",
      "1630919905527\n",
      "蔡\n",
      "2021-09-06T09:18:25.527000+00:00\n",
      "2021-09-06T09:18:25.527Z\n",
      "取箱9\n",
      "1629388575680\n",
      "蔡\n",
      "2021-08-19T15:56:15.680000+00:00\n",
      "2021-08-19T15:56:15.680Z\n",
      "取箱9\n",
      "1629388544326\n",
      "蔡\n",
      "2021-08-19T15:55:44.326000+00:00\n",
      "2021-08-19T15:55:44.326Z\n",
      "取箱9\n",
      "1629388535388\n",
      "蔡\n",
      "2021-08-19T15:55:35.388000+00:00\n",
      "2021-08-19T15:55:35.388Z\n",
      "取箱9\n",
      "1629388498911\n",
      "蔡\n",
      "2021-08-19T15:54:58.911000+00:00\n",
      "2021-08-19T15:54:58.911Z\n",
      "取箱9\n",
      "1629388492537\n",
      "蔡\n",
      "2021-08-19T15:54:52.537000+00:00\n",
      "2021-08-19T15:54:52.537Z\n",
      "取箱9\n",
      "1629388442703\n",
      "蔡\n",
      "2021-08-19T15:54:02.703000+00:00\n",
      "2021-08-19T15:54:02.703Z\n",
      "中途取件9\n",
      "1629388384206\n",
      "蔡\n",
      "2021-08-19T15:53:04.206000+00:00\n",
      "2021-08-19T15:53:04.206Z\n"
     ]
    },
    {
     "data": {
      "text/plain": [
       "[{'name': '蔡', 'boxresult': '取箱9', 'createdAt': '2021-09-10T13:21:58.846Z'},\n",
       " {'name': '蔡', 'boxresult': '取箱9', 'createdAt': '2021-09-10T13:21:45.050Z'},\n",
       " {'name': '张荣荣', 'boxresult': '取箱11', 'createdAt': '2021-09-10T02:12:36.876Z'},\n",
       " {'name': '张荣荣', 'boxresult': '取箱11', 'createdAt': '2021-09-10T02:12:30.526Z'},\n",
       " {'name': '蔡', 'boxresult': '取箱9', 'createdAt': '2021-09-08T02:44:46.847Z'},\n",
       " {'name': '蔡', 'boxresult': '取箱9', 'createdAt': '2021-09-08T02:44:42.758Z'},\n",
       " {'name': '蔡', 'boxresult': '取箱9', 'createdAt': '2021-09-08T02:44:27.861Z'},\n",
       " {'name': '蔡', 'boxresult': '取箱9', 'createdAt': '2021-09-08T02:44:21.947Z'},\n",
       " {'name': '蔡', 'boxresult': '取箱9', 'createdAt': '2021-09-08T02:43:53.673Z'},\n",
       " {'name': '张荣荣', 'boxresult': '取箱11', 'createdAt': '2021-09-08T02:21:21.442Z'},\n",
       " {'name': '大众型', 'boxresult': '取箱8', 'createdAt': '2021-09-07T09:39:25.786Z'},\n",
       " {'name': '蔡', 'boxresult': '取箱9', 'createdAt': '2021-09-06T09:21:12.117Z'},\n",
       " {'name': '蔡', 'boxresult': '取箱9', 'createdAt': '2021-09-06T09:18:25.527Z'},\n",
       " {'name': '蔡', 'boxresult': '取箱9', 'createdAt': '2021-08-19T15:56:15.680Z'},\n",
       " {'name': '蔡', 'boxresult': '取箱9', 'createdAt': '2021-08-19T15:55:44.326Z'},\n",
       " {'name': '蔡', 'boxresult': '取箱9', 'createdAt': '2021-08-19T15:55:35.388Z'},\n",
       " {'name': '蔡', 'boxresult': '取箱9', 'createdAt': '2021-08-19T15:54:58.911Z'},\n",
       " {'name': '蔡', 'boxresult': '取箱9', 'createdAt': '2021-08-19T15:54:52.537Z'},\n",
       " {'name': '蔡', 'boxresult': '取箱9', 'createdAt': '2021-08-19T15:54:02.703Z'},\n",
       " {'name': '蔡', 'boxresult': '中途取件9', 'createdAt': '2021-08-19T15:53:04.206Z'}]"
      ]
     },
     "execution_count": 11,
     "metadata": {},
     "output_type": "execute_result"
    }
   ],
   "source": [
    "boxlogbypage(0,20,1577808000000,1640707200000,-1)"
   ]
  },
  {
   "cell_type": "code",
   "execution_count": 12,
   "id": "direct-seating",
   "metadata": {},
   "outputs": [
    {
     "data": {
      "text/plain": [
       "1631067681"
      ]
     },
     "execution_count": 12,
     "metadata": {},
     "output_type": "execute_result"
    }
   ],
   "source": [
    "arrow.get('2021-09-08T02:21:21.442Z').timestamp"
   ]
  },
  {
   "cell_type": "code",
   "execution_count": 14,
   "id": "entitled-musical",
   "metadata": {},
   "outputs": [
    {
     "data": {
      "text/plain": [
       "1631067681442.0"
      ]
     },
     "execution_count": 14,
     "metadata": {},
     "output_type": "execute_result"
    }
   ],
   "source": [
    "arrow.get('2021-09-08T02:21:21.442Z').float_timestamp*1000"
   ]
  },
  {
   "cell_type": "code",
   "execution_count": 15,
   "id": "critical-webcam",
   "metadata": {},
   "outputs": [
    {
     "data": {
      "text/plain": [
       "1631067681442"
      ]
     },
     "execution_count": 15,
     "metadata": {},
     "output_type": "execute_result"
    }
   ],
   "source": [
    "int(arrow.get('2021-09-08T02:21:21.442Z').float_timestamp*1000)"
   ]
  },
  {
   "cell_type": "code",
   "execution_count": 17,
   "id": "physical-lemon",
   "metadata": {},
   "outputs": [
    {
     "data": {
      "text/plain": [
       "<Arrow [2021-09-11T13:29:15.965353+08:00]>"
      ]
     },
     "execution_count": 17,
     "metadata": {},
     "output_type": "execute_result"
    }
   ],
   "source": [
    "arrow.now()\n"
   ]
  },
  {
   "cell_type": "code",
   "execution_count": 18,
   "id": "italian-warrant",
   "metadata": {},
   "outputs": [
    {
     "data": {
      "text/plain": [
       "1631338175528"
      ]
     },
     "execution_count": 18,
     "metadata": {},
     "output_type": "execute_result"
    }
   ],
   "source": [
    "int(arrow.now().float_timestamp*1000)"
   ]
  },
  {
   "cell_type": "code",
   "execution_count": 10,
   "id": "diverse-organ",
   "metadata": {},
   "outputs": [],
   "source": [
    "timeseg=1577808000000,1640707200000\n",
    "def boxlogall(timeseg):\n",
    "    btime,endtime=timeseg\n",
    "    bContinue=True\n",
    "    begini =0 \n",
    "    \n",
    "    endi = begini + 20\n",
    "    while bContinue:\n",
    "        \n",
    "        retv=boxlogbypage(begini,endi,btime,endtime,-1)\n",
    "        print(\"len retv\",len(retv))\n",
    "        for item in retv:\n",
    "            newFaceboxcache(item['name'],item['boxresult'],item['boxtime'],item['type'])\n",
    "        print(retv)\n",
    "        if len(retv)<20:\n",
    "            bContinue=False\n",
    "        begini = begini +20\n",
    "        endi = endi + 20 \n",
    "        "
   ]
  },
  {
   "cell_type": "code",
   "execution_count": 32,
   "id": "focused-asthma",
   "metadata": {},
   "outputs": [
    {
     "name": "stdout",
     "output_type": "stream",
     "text": [
      "hello\n",
      "1\n",
      "取箱9\n",
      "1631280118846\n",
      "蔡\n",
      "2021-09-10T13:21:58.846000+00:00\n",
      "2021-09-10T13:21:58.846Z\n",
      "取箱9\n",
      "1631280105050\n",
      "蔡\n",
      "2021-09-10T13:21:45.050000+00:00\n",
      "2021-09-10T13:21:45.050Z\n",
      "取箱11\n",
      "1631239956876\n",
      "张荣荣\n",
      "2021-09-10T02:12:36.876000+00:00\n",
      "2021-09-10T02:12:36.876Z\n",
      "取箱11\n",
      "1631239950526\n",
      "张荣荣\n",
      "2021-09-10T02:12:30.526000+00:00\n",
      "2021-09-10T02:12:30.526Z\n",
      "取箱9\n",
      "1631069086847\n",
      "蔡\n",
      "2021-09-08T02:44:46.847000+00:00\n",
      "2021-09-08T02:44:46.847Z\n",
      "取箱9\n",
      "1631069082758\n",
      "蔡\n",
      "2021-09-08T02:44:42.758000+00:00\n",
      "2021-09-08T02:44:42.758Z\n",
      "取箱9\n",
      "1631069067861\n",
      "蔡\n",
      "2021-09-08T02:44:27.861000+00:00\n",
      "2021-09-08T02:44:27.861Z\n",
      "取箱9\n",
      "1631069061947\n",
      "蔡\n",
      "2021-09-08T02:44:21.947000+00:00\n",
      "2021-09-08T02:44:21.947Z\n",
      "取箱9\n",
      "1631069033673\n",
      "蔡\n",
      "2021-09-08T02:43:53.673000+00:00\n",
      "2021-09-08T02:43:53.673Z\n",
      "取箱11\n",
      "1631067681442\n",
      "张荣荣\n",
      "2021-09-08T02:21:21.442000+00:00\n",
      "2021-09-08T02:21:21.442Z\n",
      "取箱8\n",
      "1631007565786\n",
      "大众型\n",
      "2021-09-07T09:39:25.786000+00:00\n",
      "2021-09-07T09:39:25.786Z\n",
      "取箱9\n",
      "1630920072117\n",
      "蔡\n",
      "2021-09-06T09:21:12.117000+00:00\n",
      "2021-09-06T09:21:12.117Z\n",
      "取箱9\n",
      "1630919905527\n",
      "蔡\n",
      "2021-09-06T09:18:25.527000+00:00\n",
      "2021-09-06T09:18:25.527Z\n",
      "取箱9\n",
      "1629388575680\n",
      "蔡\n",
      "2021-08-19T15:56:15.680000+00:00\n",
      "2021-08-19T15:56:15.680Z\n",
      "取箱9\n",
      "1629388544326\n",
      "蔡\n",
      "2021-08-19T15:55:44.326000+00:00\n",
      "2021-08-19T15:55:44.326Z\n"
     ]
    },
    {
     "data": {
      "text/plain": [
       "[{'name': '蔡', 'boxresult': '取箱9', 'createdAt': '2021-09-10T13:21:58.846Z'},\n",
       " {'name': '蔡', 'boxresult': '取箱9', 'createdAt': '2021-09-10T13:21:45.050Z'},\n",
       " {'name': '张荣荣', 'boxresult': '取箱11', 'createdAt': '2021-09-10T02:12:36.876Z'},\n",
       " {'name': '张荣荣', 'boxresult': '取箱11', 'createdAt': '2021-09-10T02:12:30.526Z'},\n",
       " {'name': '蔡', 'boxresult': '取箱9', 'createdAt': '2021-09-08T02:44:46.847Z'},\n",
       " {'name': '蔡', 'boxresult': '取箱9', 'createdAt': '2021-09-08T02:44:42.758Z'},\n",
       " {'name': '蔡', 'boxresult': '取箱9', 'createdAt': '2021-09-08T02:44:27.861Z'},\n",
       " {'name': '蔡', 'boxresult': '取箱9', 'createdAt': '2021-09-08T02:44:21.947Z'},\n",
       " {'name': '蔡', 'boxresult': '取箱9', 'createdAt': '2021-09-08T02:43:53.673Z'},\n",
       " {'name': '张荣荣', 'boxresult': '取箱11', 'createdAt': '2021-09-08T02:21:21.442Z'},\n",
       " {'name': '大众型', 'boxresult': '取箱8', 'createdAt': '2021-09-07T09:39:25.786Z'},\n",
       " {'name': '蔡', 'boxresult': '取箱9', 'createdAt': '2021-09-06T09:21:12.117Z'},\n",
       " {'name': '蔡', 'boxresult': '取箱9', 'createdAt': '2021-09-06T09:18:25.527Z'},\n",
       " {'name': '蔡', 'boxresult': '取箱9', 'createdAt': '2021-08-19T15:56:15.680Z'},\n",
       " {'name': '蔡', 'boxresult': '取箱9', 'createdAt': '2021-08-19T15:55:44.326Z'}]"
      ]
     },
     "execution_count": 32,
     "metadata": {},
     "output_type": "execute_result"
    }
   ],
   "source": [
    "boxlogbypage(0,15,1577808000000,1640707200000,-1)"
   ]
  },
  {
   "cell_type": "code",
   "execution_count": 24,
   "id": "respective-cambodia",
   "metadata": {},
   "outputs": [
    {
     "name": "stdout",
     "output_type": "stream",
     "text": [
      "hello\n",
      "1\n",
      "取箱8\n",
      "1631007565786\n",
      "大众型\n",
      "2021-09-07T09:39:25.786000+00:00\n",
      "2021-09-07T09:39:25.786Z\n",
      "取箱9\n",
      "1630920072117\n",
      "蔡\n",
      "2021-09-06T09:21:12.117000+00:00\n",
      "2021-09-06T09:21:12.117Z\n",
      "取箱9\n",
      "1630919905527\n",
      "蔡\n",
      "2021-09-06T09:18:25.527000+00:00\n",
      "2021-09-06T09:18:25.527Z\n",
      "取箱9\n",
      "1629388575680\n",
      "蔡\n",
      "2021-08-19T15:56:15.680000+00:00\n",
      "2021-08-19T15:56:15.680Z\n",
      "取箱9\n",
      "1629388544326\n",
      "蔡\n",
      "2021-08-19T15:55:44.326000+00:00\n",
      "2021-08-19T15:55:44.326Z\n",
      "取箱9\n",
      "1629388535388\n",
      "蔡\n",
      "2021-08-19T15:55:35.388000+00:00\n",
      "2021-08-19T15:55:35.388Z\n",
      "取箱9\n",
      "1629388498911\n",
      "蔡\n",
      "2021-08-19T15:54:58.911000+00:00\n",
      "2021-08-19T15:54:58.911Z\n",
      "取箱9\n",
      "1629388492537\n",
      "蔡\n",
      "2021-08-19T15:54:52.537000+00:00\n",
      "2021-08-19T15:54:52.537Z\n",
      "取箱9\n",
      "1629388442703\n",
      "蔡\n",
      "2021-08-19T15:54:02.703000+00:00\n",
      "2021-08-19T15:54:02.703Z\n",
      "中途取件9\n",
      "1629388384206\n",
      "蔡\n",
      "2021-08-19T15:53:04.206000+00:00\n",
      "2021-08-19T15:53:04.206Z\n"
     ]
    },
    {
     "data": {
      "text/plain": [
       "[{'name': '大众型', 'boxresult': '取箱8', 'createdAt': '2021-09-07T09:39:25.786Z'},\n",
       " {'name': '蔡', 'boxresult': '取箱9', 'createdAt': '2021-09-06T09:21:12.117Z'},\n",
       " {'name': '蔡', 'boxresult': '取箱9', 'createdAt': '2021-09-06T09:18:25.527Z'},\n",
       " {'name': '蔡', 'boxresult': '取箱9', 'createdAt': '2021-08-19T15:56:15.680Z'},\n",
       " {'name': '蔡', 'boxresult': '取箱9', 'createdAt': '2021-08-19T15:55:44.326Z'},\n",
       " {'name': '蔡', 'boxresult': '取箱9', 'createdAt': '2021-08-19T15:55:35.388Z'},\n",
       " {'name': '蔡', 'boxresult': '取箱9', 'createdAt': '2021-08-19T15:54:58.911Z'},\n",
       " {'name': '蔡', 'boxresult': '取箱9', 'createdAt': '2021-08-19T15:54:52.537Z'},\n",
       " {'name': '蔡', 'boxresult': '取箱9', 'createdAt': '2021-08-19T15:54:02.703Z'},\n",
       " {'name': '蔡', 'boxresult': '中途取件9', 'createdAt': '2021-08-19T15:53:04.206Z'}]"
      ]
     },
     "execution_count": 24,
     "metadata": {},
     "output_type": "execute_result"
    }
   ],
   "source": [
    "boxlogbypage(10,10,1577808000000,1640707200000,-1)"
   ]
  },
  {
   "cell_type": "code",
   "execution_count": 76,
   "id": "suspended-african",
   "metadata": {},
   "outputs": [
    {
     "name": "stdout",
     "output_type": "stream",
     "text": [
      "hello\n",
      "1\n",
      "len retv 20\n",
      "<leancloud.object_.Faceboxcache object at 0xffff7dd8c8b0>\n",
      "<leancloud.object_.Faceboxcache object at 0xffff7dd8c8b0>\n",
      "<leancloud.object_.Faceboxcache object at 0xffff7dd8c8b0>\n",
      "<leancloud.object_.Faceboxcache object at 0xffff7dd8c8b0>\n",
      "<leancloud.object_.Faceboxcache object at 0xffff7dd8c8b0>\n",
      "<leancloud.object_.Faceboxcache object at 0xffff7dd8c8b0>\n",
      "<leancloud.object_.Faceboxcache object at 0xffff7dd8c8b0>\n",
      "<leancloud.object_.Faceboxcache object at 0xffff7dd8c8b0>\n",
      "<leancloud.object_.Faceboxcache object at 0xffff7dd8c8b0>\n",
      "<leancloud.object_.Faceboxcache object at 0xffff7dd8c8b0>\n",
      "<leancloud.object_.Faceboxcache object at 0xffff7dd8c8b0>\n",
      "<leancloud.object_.Faceboxcache object at 0xffff7dd8c8b0>\n",
      "<leancloud.object_.Faceboxcache object at 0xffff7dd8c8b0>\n",
      "<leancloud.object_.Faceboxcache object at 0xffff7dd8c8b0>\n",
      "<leancloud.object_.Faceboxcache object at 0xffff7dd8c8b0>\n",
      "<leancloud.object_.Faceboxcache object at 0xffff7dd8c8b0>\n",
      "<leancloud.object_.Faceboxcache object at 0xffff7dd8c8b0>\n",
      "<leancloud.object_.Faceboxcache object at 0xffff7dd8c8b0>\n",
      "<leancloud.object_.Faceboxcache object at 0xffff7dd8c8b0>\n",
      "<leancloud.object_.Faceboxcache object at 0xffff7dd8c8b0>\n",
      "[{'name': '蔡', 'boxresult': '取箱9', 'boxtime': 1631280118846, 'createdAt1': '2021-09-10T13:21:58.846Z'}, {'name': '蔡', 'boxresult': '取箱9', 'boxtime': 1631280105050, 'createdAt1': '2021-09-10T13:21:45.050Z'}, {'name': '张荣荣', 'boxresult': '取箱11', 'boxtime': 1631239956876, 'createdAt1': '2021-09-10T02:12:36.876Z'}, {'name': '张荣荣', 'boxresult': '取箱11', 'boxtime': 1631239950526, 'createdAt1': '2021-09-10T02:12:30.526Z'}, {'name': '蔡', 'boxresult': '取箱9', 'boxtime': 1631069086847, 'createdAt1': '2021-09-08T02:44:46.847Z'}, {'name': '蔡', 'boxresult': '取箱9', 'boxtime': 1631069082758, 'createdAt1': '2021-09-08T02:44:42.758Z'}, {'name': '蔡', 'boxresult': '取箱9', 'boxtime': 1631069067861, 'createdAt1': '2021-09-08T02:44:27.861Z'}, {'name': '蔡', 'boxresult': '取箱9', 'boxtime': 1631069061947, 'createdAt1': '2021-09-08T02:44:21.947Z'}, {'name': '蔡', 'boxresult': '取箱9', 'boxtime': 1631069033673, 'createdAt1': '2021-09-08T02:43:53.673Z'}, {'name': '张荣荣', 'boxresult': '取箱11', 'boxtime': 1631067681442, 'createdAt1': '2021-09-08T02:21:21.442Z'}, {'name': '大众型', 'boxresult': '取箱8', 'boxtime': 1631007565786, 'createdAt1': '2021-09-07T09:39:25.786Z'}, {'name': '蔡', 'boxresult': '取箱9', 'boxtime': 1630920072117, 'createdAt1': '2021-09-06T09:21:12.117Z'}, {'name': '蔡', 'boxresult': '取箱9', 'boxtime': 1630919905527, 'createdAt1': '2021-09-06T09:18:25.527Z'}, {'name': '蔡', 'boxresult': '取箱9', 'boxtime': 1629388575680, 'createdAt1': '2021-08-19T15:56:15.680Z'}, {'name': '蔡', 'boxresult': '取箱9', 'boxtime': 1629388544326, 'createdAt1': '2021-08-19T15:55:44.326Z'}, {'name': '蔡', 'boxresult': '取箱9', 'boxtime': 1629388535388, 'createdAt1': '2021-08-19T15:55:35.388Z'}, {'name': '蔡', 'boxresult': '取箱9', 'boxtime': 1629388498911, 'createdAt1': '2021-08-19T15:54:58.911Z'}, {'name': '蔡', 'boxresult': '取箱9', 'boxtime': 1629388492537, 'createdAt1': '2021-08-19T15:54:52.537Z'}, {'name': '蔡', 'boxresult': '取箱9', 'boxtime': 1629388442703, 'createdAt1': '2021-08-19T15:54:02.703Z'}, {'name': '蔡', 'boxresult': '中途取件9', 'boxtime': 1629388384206, 'createdAt1': '2021-08-19T15:53:04.206Z'}]\n",
      "hello\n",
      "1\n",
      "len retv 10\n",
      "<leancloud.object_.Faceboxcache object at 0xffff75599f70>\n",
      "<leancloud.object_.Faceboxcache object at 0xffff7c52e8b0>\n",
      "<leancloud.object_.Faceboxcache object at 0xffff7c52e8b0>\n",
      "<leancloud.object_.Faceboxcache object at 0xffff7c52e8b0>\n",
      "<leancloud.object_.Faceboxcache object at 0xffff7c52e8b0>\n",
      "<leancloud.object_.Faceboxcache object at 0xffff7c52e8b0>\n",
      "<leancloud.object_.Faceboxcache object at 0xffff7c52e8b0>\n",
      "<leancloud.object_.Faceboxcache object at 0xffff7c52e8b0>\n",
      "<leancloud.object_.Faceboxcache object at 0xffff7c52e8b0>\n",
      "<leancloud.object_.Faceboxcache object at 0xffff7c52e8b0>\n",
      "[{'name': '蔡', 'boxresult': '取箱9', 'boxtime': 1629388312751, 'createdAt1': '2021-08-19T15:51:52.751Z'}, {'name': '蔡', 'boxresult': '取箱9', 'boxtime': 1629388295729, 'createdAt1': '2021-08-19T15:51:35.729Z'}, {'name': '蔡', 'boxresult': '取箱9', 'boxtime': 1629388276746, 'createdAt1': '2021-08-19T15:51:16.746Z'}, {'name': '大众型', 'boxresult': '取箱18', 'boxtime': 1624523638559, 'createdAt1': '2021-06-24T08:33:58.559Z'}, {'name': '大众型', 'boxresult': '存箱18', 'boxtime': 1624523622653, 'createdAt1': '2021-06-24T08:33:42.653Z'}, {'name': '大众型', 'boxresult': '存箱8', 'boxtime': 1624523609074, 'createdAt1': '2021-06-24T08:33:29.074Z'}, {'name': '大众型', 'boxresult': '取箱18', 'boxtime': 1624523566463, 'createdAt1': '2021-06-24T08:32:46.463Z'}, {'name': '大众型', 'boxresult': '存箱18', 'boxtime': 1624523552012, 'createdAt1': '2021-06-24T08:32:32.012Z'}, {'name': '大众型', 'boxresult': '取箱6', 'boxtime': 1622600497056, 'createdAt1': '2021-06-02T02:21:37.056Z'}, {'name': '大众型', 'boxresult': '存箱6', 'boxtime': 1622600487345, 'createdAt1': '2021-06-02T02:21:27.345Z'}]\n"
     ]
    }
   ],
   "source": [
    "boxlogall(timeseg)"
   ]
  },
  {
   "cell_type": "code",
   "execution_count": 14,
   "id": "bright-concert",
   "metadata": {},
   "outputs": [
    {
     "name": "stdout",
     "output_type": "stream",
     "text": [
      "leancloud init success with app_id: rGngnUit9fqERRVjQMfzQhWg-gzGzoHsz, app_key: xWQ3c4CoLPXIlRd6UxLRGndX, region: CN\n"
     ]
    }
   ],
   "source": [
    "import os\n",
    "import json\n",
    "import leancloud\n",
    "from leancloud.utils import encode\n",
    "def init_leancloud_client():\n",
    "    import os\n",
    "\n",
    "    LEANCLOUD_APP_ID = os.environ.get(\"LEANCLOUD_APP_ID\", \"rGngnUit9fqERRVjQMfzQhWg-gzGzoHsz\")\n",
    "    LEANCLOUD_APP_KEY = os.environ.get(\"LEANCLOUD_APP_KEY\", \"xWQ3c4CoLPXIlRd6UxLRGndX\")\n",
    "    LEANCLOUD_MASTER_KEY = os.environ.get(\"LEANCLOUD_MASTER_KEY\", \"x3cl6OYR2mC6dDQsW0dMeceJ\")\n",
    "    LEANCLOUD_REGION = os.environ.get(\"LEANCLOUD_REGION\", \"CN\")\n",
    "    leancloud.init(app_id=LEANCLOUD_APP_ID, app_key=LEANCLOUD_APP_KEY, master_key=LEANCLOUD_MASTER_KEY)\n",
    "    leancloud.use_region(LEANCLOUD_REGION)\n",
    "    print(\"leancloud init success with app_id: {}, app_key: {}, region: {}\".format(LEANCLOUD_APP_ID, LEANCLOUD_APP_KEY,\n",
    "                                                                                   LEANCLOUD_REGION))\n",
    "\n",
    "    \n",
    "os.environ['LEANCLOUD_API_SERVER'] = os.environ.get('LEANCLOUD_API_SERVER',\"http://192.168.124.48:7000\")\n",
    "\n",
    "init_leancloud_client()"
   ]
  },
  {
   "cell_type": "code",
   "execution_count": 9,
   "id": "tired-tomorrow",
   "metadata": {},
   "outputs": [],
   "source": [
    "def newFaceboxcache(name,boxresult,boxtime,type1):\n",
    "\n",
    "    TestObject = leancloud.Object.extend('Faceboxcache')\n",
    "    test_object = TestObject()\n",
    "\n",
    "\n",
    "    test_object.set('name',boxresult)  \n",
    "    test_object.set('boxresult',boxresult)  \n",
    "    test_object.set('boxtime',boxtime)  \n",
    "    test_object.set('type',type1)  \n",
    "    test_object.save()\n",
    "    print(test_object)"
   ]
  },
  {
   "cell_type": "code",
   "execution_count": 12,
   "id": "isolated-norwegian",
   "metadata": {},
   "outputs": [],
   "source": [
    "def faceboxcachelist():\n",
    "    Todo = leancloud.Object.extend('Faceboxcache')\n",
    "    query = Todo.query\n",
    "    query.descending('boxtime')\n",
    "#mytest\n",
    "#    query.ascending('boxtime')\n",
    "\n",
    "    query_result = query.find()\n",
    "    conv=[]\n",
    "    for item in query_result:\n",
    "        print(item)\n",
    "        value=encode(item,dump_objects=True)\n",
    "        print(value)\n",
    "        conv.append(item)\n",
    "    return list(conv)\n",
    "def faceboxcachedestroy():\n",
    "    Todo = leancloud.Object.extend('Faceboxcache')\n",
    "    query = Todo.query\n",
    "    query.descending('boxtime')\n",
    "#mytest\n",
    "#    query.ascending('boxtime')\n",
    "\n",
    "    query_result = query.find()\n",
    "    conv=[]\n",
    "    for item in query_result:\n",
    "        print(item)\n",
    "        item.destroy()\n",
    "\n",
    "def faceboxcachelatest():\n",
    "    Todo = leancloud.Object.extend('Faceboxcache')\n",
    "    query = Todo.query\n",
    "    query.descending('boxtime')\n",
    "#mytest\n",
    "#    query.ascending('boxtime'\n",
    "\n",
    "    try:\n",
    "        query_result = query.first()\n",
    "    except Exception as e:\n",
    "            print(\"except \",e)\n",
    "            return None\n",
    "    return query_result.get(\"boxtime\")"
   ]
  },
  {
   "cell_type": "code",
   "execution_count": 70,
   "id": "tutorial-water",
   "metadata": {},
   "outputs": [
    {
     "data": {
      "text/plain": [
       "[]"
      ]
     },
     "execution_count": 70,
     "metadata": {},
     "output_type": "execute_result"
    }
   ],
   "source": [
    "faceboxcachelist()"
   ]
  },
  {
   "cell_type": "code",
   "execution_count": 77,
   "id": "handed-saturn",
   "metadata": {},
   "outputs": [
    {
     "name": "stdout",
     "output_type": "stream",
     "text": [
      "1631280118846\n"
     ]
    }
   ],
   "source": [
    "ret=faceboxcachelatest()\n",
    "print(ret)"
   ]
  },
  {
   "cell_type": "code",
   "execution_count": 15,
   "id": "invalid-microphone",
   "metadata": {},
   "outputs": [
    {
     "name": "stdout",
     "output_type": "stream",
     "text": [
      "<leancloud.object_.Faceboxcache object at 0xffff95013bb0>\n",
      "<leancloud.object_.Faceboxcache object at 0xffff95007f40>\n",
      "<leancloud.object_.Faceboxcache object at 0xffff950333a0>\n",
      "<leancloud.object_.Faceboxcache object at 0xffff95033df0>\n",
      "<leancloud.object_.Faceboxcache object at 0xffff95018370>\n",
      "<leancloud.object_.Faceboxcache object at 0xffff944681c0>\n",
      "<leancloud.object_.Faceboxcache object at 0xffff944684f0>\n",
      "<leancloud.object_.Faceboxcache object at 0xffff94468430>\n",
      "<leancloud.object_.Faceboxcache object at 0xffff94468880>\n",
      "<leancloud.object_.Faceboxcache object at 0xffff94468490>\n",
      "<leancloud.object_.Faceboxcache object at 0xffff941c2f10>\n",
      "<leancloud.object_.Faceboxcache object at 0xffff9415c400>\n",
      "<leancloud.object_.Faceboxcache object at 0xffff9415c610>\n",
      "<leancloud.object_.Faceboxcache object at 0xffff9415c820>\n",
      "<leancloud.object_.Faceboxcache object at 0xffff9415ca30>\n",
      "<leancloud.object_.Faceboxcache object at 0xffff9415cc40>\n",
      "<leancloud.object_.Faceboxcache object at 0xffff9415ce50>\n",
      "<leancloud.object_.Faceboxcache object at 0xffff9415cfa0>\n",
      "<leancloud.object_.Faceboxcache object at 0xffff9415d2b0>\n",
      "<leancloud.object_.Faceboxcache object at 0xffff9415d4c0>\n",
      "<leancloud.object_.Faceboxcache object at 0xffff9415d6d0>\n",
      "<leancloud.object_.Faceboxcache object at 0xffff9415d8e0>\n",
      "<leancloud.object_.Faceboxcache object at 0xffff9415daf0>\n",
      "<leancloud.object_.Faceboxcache object at 0xffff9415dd00>\n",
      "<leancloud.object_.Faceboxcache object at 0xffff9415df10>\n",
      "<leancloud.object_.Faceboxcache object at 0xffff9415dca0>\n",
      "<leancloud.object_.Faceboxcache object at 0xffff94160370>\n",
      "<leancloud.object_.Faceboxcache object at 0xffff94160580>\n",
      "<leancloud.object_.Faceboxcache object at 0xffff94160790>\n",
      "<leancloud.object_.Faceboxcache object at 0xffff941609a0>\n",
      "<leancloud.object_.Faceboxcache object at 0xffff94160bb0>\n",
      "<leancloud.object_.Faceboxcache object at 0xffff94160dc0>\n",
      "<leancloud.object_.Faceboxcache object at 0xffff94160fd0>\n",
      "<leancloud.object_.Faceboxcache object at 0xffff94160b50>\n",
      "<leancloud.object_.Faceboxcache object at 0xffff94163430>\n",
      "<leancloud.object_.Faceboxcache object at 0xffff94163640>\n",
      "<leancloud.object_.Faceboxcache object at 0xffff94163850>\n",
      "<leancloud.object_.Faceboxcache object at 0xffff94163a60>\n",
      "<leancloud.object_.Faceboxcache object at 0xffff94163c70>\n",
      "<leancloud.object_.Faceboxcache object at 0xffff94163e80>\n",
      "<leancloud.object_.Faceboxcache object at 0xffff94163e20>\n",
      "<leancloud.object_.Faceboxcache object at 0xffff941652e0>\n",
      "<leancloud.object_.Faceboxcache object at 0xffff941654f0>\n",
      "<leancloud.object_.Faceboxcache object at 0xffff94165700>\n",
      "<leancloud.object_.Faceboxcache object at 0xffff94165910>\n",
      "<leancloud.object_.Faceboxcache object at 0xffff94165b20>\n",
      "<leancloud.object_.Faceboxcache object at 0xffff94165d30>\n",
      "<leancloud.object_.Faceboxcache object at 0xffff94165f40>\n",
      "<leancloud.object_.Faceboxcache object at 0xffff94165cd0>\n",
      "<leancloud.object_.Faceboxcache object at 0xffff941673a0>\n",
      "<leancloud.object_.Faceboxcache object at 0xffff941675b0>\n",
      "<leancloud.object_.Faceboxcache object at 0xffff941677f0>\n",
      "<leancloud.object_.Faceboxcache object at 0xffff94167a00>\n",
      "<leancloud.object_.Faceboxcache object at 0xffff94167c10>\n",
      "<leancloud.object_.Faceboxcache object at 0xffff94167e20>\n",
      "<leancloud.object_.Faceboxcache object at 0xffff94167fd0>\n",
      "<leancloud.object_.Faceboxcache object at 0xffff94169280>\n",
      "<leancloud.object_.Faceboxcache object at 0xffff94169490>\n",
      "<leancloud.object_.Faceboxcache object at 0xffff941696a0>\n",
      "<leancloud.object_.Faceboxcache object at 0xffff941698b0>\n",
      "<leancloud.object_.Faceboxcache object at 0xffff94169ac0>\n",
      "<leancloud.object_.Faceboxcache object at 0xffff94169cd0>\n",
      "<leancloud.object_.Faceboxcache object at 0xffff94169ee0>\n",
      "<leancloud.object_.Faceboxcache object at 0xffff94169c70>\n",
      "<leancloud.object_.Faceboxcache object at 0xffff9416c340>\n",
      "<leancloud.object_.Faceboxcache object at 0xffff9416c550>\n"
     ]
    }
   ],
   "source": [
    "faceboxcachedestroy()"
   ]
  },
  {
   "cell_type": "code",
   "execution_count": 86,
   "id": "associate-relevance",
   "metadata": {},
   "outputs": [],
   "source": [
    "def sync():\n",
    "    begini=1577808000000\n",
    "    newi=faceboxcachelatest()\n",
    "    if newi is not None:\n",
    "        begini = newi \n",
    "    endi= int(arrow.utcnow().float_timestamp*1000)\n",
    "    timeseg=begini,endi\n",
    "    print(\"timeseg\",timeseg)\n",
    "    boxlogall(timeseg)"
   ]
  },
  {
   "cell_type": "code",
   "execution_count": 89,
   "id": "failing-inspector",
   "metadata": {},
   "outputs": [
    {
     "name": "stdout",
     "output_type": "stream",
     "text": [
      "timeseg (1631280118846, 1631342107370)\n",
      "hello\n",
      "1\n",
      "len retv 0\n",
      "[]\n"
     ]
    }
   ],
   "source": [
    "sync()"
   ]
  },
  {
   "cell_type": "code",
   "execution_count": 11,
   "id": "aerial-anthropology",
   "metadata": {},
   "outputs": [
    {
     "ename": "NameError",
     "evalue": "name 'faceboxcachedestroy' is not defined",
     "output_type": "error",
     "traceback": [
      "\u001b[0;31m---------------------------------------------------------------------------\u001b[0m",
      "\u001b[0;31mNameError\u001b[0m                                 Traceback (most recent call last)",
      "\u001b[0;32m<ipython-input-11-8e1e8c8d5a95>\u001b[0m in \u001b[0;36m<module>\u001b[0;34m\u001b[0m\n\u001b[0;32m----> 1\u001b[0;31m \u001b[0mfaceboxcachedestroy\u001b[0m\u001b[0;34m(\u001b[0m\u001b[0;34m)\u001b[0m\u001b[0;34m\u001b[0m\u001b[0;34m\u001b[0m\u001b[0m\n\u001b[0m",
      "\u001b[0;31mNameError\u001b[0m: name 'faceboxcachedestroy' is not defined"
     ]
    }
   ],
   "source": [
    "faceboxcachedestroy()"
   ]
  },
  {
   "cell_type": "code",
   "execution_count": 6,
   "id": "instrumental-theater",
   "metadata": {},
   "outputs": [
    {
     "name": "stdout",
     "output_type": "stream",
     "text": [
      "<leancloud.object_.Faceboxcache object at 0xffffa2f46070>\n",
      "{'name': '蔡', 'boxresult': '取箱9', 'boxtime': 1631280118846, 'createdAt': {'__type': 'Date', 'iso': '2021-09-12T14:46:07.528Z'}, 'updatedAt': {'__type': 'Date', 'iso': '2021-09-12T14:46:07.528Z'}, 'objectId': '613e12afa82c16b7344f700b', '__type': 'Object', 'className': 'Faceboxcache'}\n",
      "<leancloud.object_.Faceboxcache object at 0xffffa2f462e0>\n",
      "{'name': '蔡', 'boxresult': '取箱9', 'boxtime': 1631280105050, 'createdAt': {'__type': 'Date', 'iso': '2021-09-12T14:46:07.547Z'}, 'updatedAt': {'__type': 'Date', 'iso': '2021-09-12T14:46:07.547Z'}, 'objectId': '613e12afa82c16b7344f700c', '__type': 'Object', 'className': 'Faceboxcache'}\n",
      "<leancloud.object_.Faceboxcache object at 0xffffa2f460d0>\n",
      "{'name': '张荣荣', 'boxresult': '取箱11', 'boxtime': 1631239956876, 'createdAt': {'__type': 'Date', 'iso': '2021-09-12T14:46:07.564Z'}, 'updatedAt': {'__type': 'Date', 'iso': '2021-09-12T14:46:07.564Z'}, 'objectId': '613e12afa82c16b7344f700d', '__type': 'Object', 'className': 'Faceboxcache'}\n",
      "<leancloud.object_.Faceboxcache object at 0xffffb0295730>\n",
      "{'name': '张荣荣', 'boxresult': '取箱11', 'boxtime': 1631239950526, 'createdAt': {'__type': 'Date', 'iso': '2021-09-12T14:46:07.581Z'}, 'updatedAt': {'__type': 'Date', 'iso': '2021-09-12T14:46:07.581Z'}, 'objectId': '613e12afa82c16b7344f700e', '__type': 'Object', 'className': 'Faceboxcache'}\n",
      "<leancloud.object_.Faceboxcache object at 0xffffb02c53a0>\n",
      "{'name': '蔡', 'boxresult': '取箱9', 'boxtime': 1631069086847, 'createdAt': {'__type': 'Date', 'iso': '2021-09-12T14:46:07.597Z'}, 'updatedAt': {'__type': 'Date', 'iso': '2021-09-12T14:46:07.597Z'}, 'objectId': '613e12afa82c16b7344f700f', '__type': 'Object', 'className': 'Faceboxcache'}\n",
      "<leancloud.object_.Faceboxcache object at 0xffffb0030e80>\n",
      "{'name': '蔡', 'boxresult': '取箱9', 'boxtime': 1631069082758, 'createdAt': {'__type': 'Date', 'iso': '2021-09-12T14:46:07.614Z'}, 'updatedAt': {'__type': 'Date', 'iso': '2021-09-12T14:46:07.614Z'}, 'objectId': '613e12afa82c16b7344f7010', '__type': 'Object', 'className': 'Faceboxcache'}\n",
      "<leancloud.object_.Faceboxcache object at 0xffffa2c9de20>\n",
      "{'name': '蔡', 'boxresult': '取箱9', 'boxtime': 1631069067861, 'createdAt': {'__type': 'Date', 'iso': '2021-09-12T14:46:07.632Z'}, 'updatedAt': {'__type': 'Date', 'iso': '2021-09-12T14:46:07.632Z'}, 'objectId': '613e12afa82c16b7344f7011', '__type': 'Object', 'className': 'Faceboxcache'}\n",
      "<leancloud.object_.Faceboxcache object at 0xffffa2c9deb0>\n",
      "{'name': '蔡', 'boxresult': '取箱9', 'boxtime': 1631069061947, 'createdAt': {'__type': 'Date', 'iso': '2021-09-12T14:46:07.649Z'}, 'updatedAt': {'__type': 'Date', 'iso': '2021-09-12T14:46:07.649Z'}, 'objectId': '613e12afa82c16b7344f7012', '__type': 'Object', 'className': 'Faceboxcache'}\n",
      "<leancloud.object_.Faceboxcache object at 0xffffa2c9ddc0>\n",
      "{'name': '蔡', 'boxresult': '取箱9', 'boxtime': 1631069033673, 'createdAt': {'__type': 'Date', 'iso': '2021-09-12T14:46:07.665Z'}, 'updatedAt': {'__type': 'Date', 'iso': '2021-09-12T14:46:07.665Z'}, 'objectId': '613e12afa82c16b7344f7013', '__type': 'Object', 'className': 'Faceboxcache'}\n",
      "<leancloud.object_.Faceboxcache object at 0xffffa2fb5a90>\n",
      "{'name': '张荣荣', 'boxresult': '取箱11', 'boxtime': 1631067681442, 'createdAt': {'__type': 'Date', 'iso': '2021-09-12T14:46:07.682Z'}, 'updatedAt': {'__type': 'Date', 'iso': '2021-09-12T14:46:07.682Z'}, 'objectId': '613e12afa82c16b7344f7014', '__type': 'Object', 'className': 'Faceboxcache'}\n",
      "<leancloud.object_.Faceboxcache object at 0xffffa2fb5580>\n",
      "{'name': '大众型', 'boxresult': '取箱8', 'boxtime': 1631007565786, 'createdAt': {'__type': 'Date', 'iso': '2021-09-12T14:46:07.699Z'}, 'updatedAt': {'__type': 'Date', 'iso': '2021-09-12T14:46:07.699Z'}, 'objectId': '613e12afa82c16b7344f7015', '__type': 'Object', 'className': 'Faceboxcache'}\n",
      "<leancloud.object_.Faceboxcache object at 0xffffa2fb56a0>\n",
      "{'name': '蔡', 'boxresult': '取箱9', 'boxtime': 1630920072117, 'createdAt': {'__type': 'Date', 'iso': '2021-09-12T14:46:07.716Z'}, 'updatedAt': {'__type': 'Date', 'iso': '2021-09-12T14:46:07.716Z'}, 'objectId': '613e12afa82c16b7344f7016', '__type': 'Object', 'className': 'Faceboxcache'}\n",
      "<leancloud.object_.Faceboxcache object at 0xffffa2cfe1f0>\n",
      "{'name': '蔡', 'boxresult': '取箱9', 'boxtime': 1630919905527, 'createdAt': {'__type': 'Date', 'iso': '2021-09-12T14:46:07.733Z'}, 'updatedAt': {'__type': 'Date', 'iso': '2021-09-12T14:46:07.733Z'}, 'objectId': '613e12afa82c16b7344f7017', '__type': 'Object', 'className': 'Faceboxcache'}\n",
      "<leancloud.object_.Faceboxcache object at 0xffffa2cd5490>\n",
      "{'name': '蔡', 'boxresult': '取箱9', 'boxtime': 1629388575680, 'createdAt': {'__type': 'Date', 'iso': '2021-09-12T14:46:07.750Z'}, 'updatedAt': {'__type': 'Date', 'iso': '2021-09-12T14:46:07.750Z'}, 'objectId': '613e12afa82c16b7344f7018', '__type': 'Object', 'className': 'Faceboxcache'}\n",
      "<leancloud.object_.Faceboxcache object at 0xffffa2cd5250>\n",
      "{'name': '蔡', 'boxresult': '取箱9', 'boxtime': 1629388544326, 'createdAt': {'__type': 'Date', 'iso': '2021-09-12T14:46:07.767Z'}, 'updatedAt': {'__type': 'Date', 'iso': '2021-09-12T14:46:07.767Z'}, 'objectId': '613e12afa82c16b7344f7019', '__type': 'Object', 'className': 'Faceboxcache'}\n",
      "<leancloud.object_.Faceboxcache object at 0xffffa2cd5730>\n",
      "{'name': '蔡', 'boxresult': '取箱9', 'boxtime': 1629388535388, 'createdAt': {'__type': 'Date', 'iso': '2021-09-12T14:46:07.784Z'}, 'updatedAt': {'__type': 'Date', 'iso': '2021-09-12T14:46:07.784Z'}, 'objectId': '613e12afa82c16b7344f701a', '__type': 'Object', 'className': 'Faceboxcache'}\n",
      "<leancloud.object_.Faceboxcache object at 0xffffa2cd5940>\n",
      "{'name': '蔡', 'boxresult': '取箱9', 'boxtime': 1629388498911, 'createdAt': {'__type': 'Date', 'iso': '2021-09-12T14:46:07.801Z'}, 'updatedAt': {'__type': 'Date', 'iso': '2021-09-12T14:46:07.801Z'}, 'objectId': '613e12afa82c16b7344f701b', '__type': 'Object', 'className': 'Faceboxcache'}\n",
      "<leancloud.object_.Faceboxcache object at 0xffffa2cd5dc0>\n",
      "{'name': '蔡', 'boxresult': '取箱9', 'boxtime': 1629388492537, 'createdAt': {'__type': 'Date', 'iso': '2021-09-12T14:46:07.818Z'}, 'updatedAt': {'__type': 'Date', 'iso': '2021-09-12T14:46:07.818Z'}, 'objectId': '613e12afa82c16b7344f701c', '__type': 'Object', 'className': 'Faceboxcache'}\n",
      "<leancloud.object_.Faceboxcache object at 0xffffa2cd5c70>\n",
      "{'name': '蔡', 'boxresult': '取箱9', 'boxtime': 1629388442703, 'createdAt': {'__type': 'Date', 'iso': '2021-09-12T14:46:07.835Z'}, 'updatedAt': {'__type': 'Date', 'iso': '2021-09-12T14:46:07.835Z'}, 'objectId': '613e12afa82c16b7344f701d', '__type': 'Object', 'className': 'Faceboxcache'}\n",
      "<leancloud.object_.Faceboxcache object at 0xffffa2cd5910>\n",
      "{'name': '蔡', 'boxresult': '中途取件9', 'boxtime': 1629388384206, 'createdAt': {'__type': 'Date', 'iso': '2021-09-12T14:46:07.852Z'}, 'updatedAt': {'__type': 'Date', 'iso': '2021-09-12T14:46:07.852Z'}, 'objectId': '613e12afa82c16b7344f701e', '__type': 'Object', 'className': 'Faceboxcache'}\n",
      "<leancloud.object_.Faceboxcache object at 0xffffa2cd8430>\n",
      "{'name': '蔡', 'boxresult': '取箱9', 'boxtime': 1629388312751, 'createdAt': {'__type': 'Date', 'iso': '2021-09-12T14:46:07.948Z'}, 'updatedAt': {'__type': 'Date', 'iso': '2021-09-12T14:46:07.948Z'}, 'objectId': '613e12afa82c16b7344f701f', '__type': 'Object', 'className': 'Faceboxcache'}\n",
      "<leancloud.object_.Faceboxcache object at 0xffffa2cd8640>\n",
      "{'name': '蔡', 'boxresult': '取箱9', 'boxtime': 1629388295729, 'createdAt': {'__type': 'Date', 'iso': '2021-09-12T14:46:07.965Z'}, 'updatedAt': {'__type': 'Date', 'iso': '2021-09-12T14:46:07.965Z'}, 'objectId': '613e12afa82c16b7344f7020', '__type': 'Object', 'className': 'Faceboxcache'}\n",
      "<leancloud.object_.Faceboxcache object at 0xffffa2cd8850>\n",
      "{'name': '蔡', 'boxresult': '取箱9', 'boxtime': 1629388276746, 'createdAt': {'__type': 'Date', 'iso': '2021-09-12T14:46:07.982Z'}, 'updatedAt': {'__type': 'Date', 'iso': '2021-09-12T14:46:07.982Z'}, 'objectId': '613e12afa82c16b7344f7021', '__type': 'Object', 'className': 'Faceboxcache'}\n",
      "<leancloud.object_.Faceboxcache object at 0xffffa2cd8a60>\n",
      "{'name': '大众型', 'boxresult': '取箱18', 'boxtime': 1624523638559, 'createdAt': {'__type': 'Date', 'iso': '2021-09-12T14:46:07.999Z'}, 'updatedAt': {'__type': 'Date', 'iso': '2021-09-12T14:46:07.999Z'}, 'objectId': '613e12b0a82c16b7344f7022', '__type': 'Object', 'className': 'Faceboxcache'}\n",
      "<leancloud.object_.Faceboxcache object at 0xffffa2cd8c70>\n",
      "{'name': '大众型', 'boxresult': '存箱18', 'boxtime': 1624523622653, 'createdAt': {'__type': 'Date', 'iso': '2021-09-12T14:46:08.018Z'}, 'updatedAt': {'__type': 'Date', 'iso': '2021-09-12T14:46:08.018Z'}, 'objectId': '613e12b0a82c16b7344f7023', '__type': 'Object', 'className': 'Faceboxcache'}\n",
      "<leancloud.object_.Faceboxcache object at 0xffffa2cd8e80>\n",
      "{'name': '大众型', 'boxresult': '存箱8', 'boxtime': 1624523609074, 'createdAt': {'__type': 'Date', 'iso': '2021-09-12T14:46:08.035Z'}, 'updatedAt': {'__type': 'Date', 'iso': '2021-09-12T14:46:08.035Z'}, 'objectId': '613e12b0a82c16b7344f7024', '__type': 'Object', 'className': 'Faceboxcache'}\n",
      "<leancloud.object_.Faceboxcache object at 0xffffa2cd8e20>\n",
      "{'name': '大众型', 'boxresult': '取箱18', 'boxtime': 1624523566463, 'createdAt': {'__type': 'Date', 'iso': '2021-09-12T14:46:08.052Z'}, 'updatedAt': {'__type': 'Date', 'iso': '2021-09-12T14:46:08.052Z'}, 'objectId': '613e12b0a82c16b7344f7025', '__type': 'Object', 'className': 'Faceboxcache'}\n",
      "<leancloud.object_.Faceboxcache object at 0xffffa2cdc2e0>\n",
      "{'name': '大众型', 'boxresult': '存箱18', 'boxtime': 1624523552012, 'createdAt': {'__type': 'Date', 'iso': '2021-09-12T14:46:08.069Z'}, 'updatedAt': {'__type': 'Date', 'iso': '2021-09-12T14:46:08.069Z'}, 'objectId': '613e12b0a82c16b7344f7026', '__type': 'Object', 'className': 'Faceboxcache'}\n",
      "<leancloud.object_.Faceboxcache object at 0xffffa2cdc4f0>\n",
      "{'name': '大众型', 'boxresult': '取箱6', 'boxtime': 1622600497056, 'createdAt': {'__type': 'Date', 'iso': '2021-09-12T14:46:08.086Z'}, 'updatedAt': {'__type': 'Date', 'iso': '2021-09-12T14:46:08.086Z'}, 'objectId': '613e12b0a82c16b7344f7027', '__type': 'Object', 'className': 'Faceboxcache'}\n",
      "<leancloud.object_.Faceboxcache object at 0xffffa2cdc700>\n",
      "{'name': '大众型', 'boxresult': '存箱6', 'boxtime': 1622600487345, 'createdAt': {'__type': 'Date', 'iso': '2021-09-12T14:46:08.103Z'}, 'updatedAt': {'__type': 'Date', 'iso': '2021-09-12T14:46:08.103Z'}, 'objectId': '613e12b0a82c16b7344f7028', '__type': 'Object', 'className': 'Faceboxcache'}\n"
     ]
    },
    {
     "data": {
      "text/plain": [
       "[<leancloud.object_.Faceboxcache at 0xffffa2f46070>,\n",
       " <leancloud.object_.Faceboxcache at 0xffffa2f462e0>,\n",
       " <leancloud.object_.Faceboxcache at 0xffffa2f460d0>,\n",
       " <leancloud.object_.Faceboxcache at 0xffffb0295730>,\n",
       " <leancloud.object_.Faceboxcache at 0xffffb02c53a0>,\n",
       " <leancloud.object_.Faceboxcache at 0xffffb0030e80>,\n",
       " <leancloud.object_.Faceboxcache at 0xffffa2c9de20>,\n",
       " <leancloud.object_.Faceboxcache at 0xffffa2c9deb0>,\n",
       " <leancloud.object_.Faceboxcache at 0xffffa2c9ddc0>,\n",
       " <leancloud.object_.Faceboxcache at 0xffffa2fb5a90>,\n",
       " <leancloud.object_.Faceboxcache at 0xffffa2fb5580>,\n",
       " <leancloud.object_.Faceboxcache at 0xffffa2fb56a0>,\n",
       " <leancloud.object_.Faceboxcache at 0xffffa2cfe1f0>,\n",
       " <leancloud.object_.Faceboxcache at 0xffffa2cd5490>,\n",
       " <leancloud.object_.Faceboxcache at 0xffffa2cd5250>,\n",
       " <leancloud.object_.Faceboxcache at 0xffffa2cd5730>,\n",
       " <leancloud.object_.Faceboxcache at 0xffffa2cd5940>,\n",
       " <leancloud.object_.Faceboxcache at 0xffffa2cd5dc0>,\n",
       " <leancloud.object_.Faceboxcache at 0xffffa2cd5c70>,\n",
       " <leancloud.object_.Faceboxcache at 0xffffa2cd5910>,\n",
       " <leancloud.object_.Faceboxcache at 0xffffa2cd8430>,\n",
       " <leancloud.object_.Faceboxcache at 0xffffa2cd8640>,\n",
       " <leancloud.object_.Faceboxcache at 0xffffa2cd8850>,\n",
       " <leancloud.object_.Faceboxcache at 0xffffa2cd8a60>,\n",
       " <leancloud.object_.Faceboxcache at 0xffffa2cd8c70>,\n",
       " <leancloud.object_.Faceboxcache at 0xffffa2cd8e80>,\n",
       " <leancloud.object_.Faceboxcache at 0xffffa2cd8e20>,\n",
       " <leancloud.object_.Faceboxcache at 0xffffa2cdc2e0>,\n",
       " <leancloud.object_.Faceboxcache at 0xffffa2cdc4f0>,\n",
       " <leancloud.object_.Faceboxcache at 0xffffa2cdc700>]"
      ]
     },
     "execution_count": 6,
     "metadata": {},
     "output_type": "execute_result"
    }
   ],
   "source": [
    "faceboxcachelist()"
   ]
  },
  {
   "cell_type": "code",
   "execution_count": 8,
   "id": "streaming-stocks",
   "metadata": {},
   "outputs": [
    {
     "name": "stdout",
     "output_type": "stream",
     "text": [
      "hello\n",
      "1\n",
      "取箱6\n",
      "1631607369711\n",
      "危\n",
      "1\n",
      "2021-09-14T08:16:09.711000+00:00\n",
      "2021-09-14T08:16:09.711Z\n",
      "取箱11\n",
      "1631600200602\n",
      "张荣荣\n",
      "1\n",
      "2021-09-14T06:16:40.602000+00:00\n",
      "2021-09-14T06:16:40.602Z\n",
      "取箱11\n",
      "1631600194743\n",
      "张荣荣\n",
      "1\n",
      "2021-09-14T06:16:34.743000+00:00\n",
      "2021-09-14T06:16:34.743Z\n",
      "取箱6\n",
      "1631593498154\n",
      "危\n",
      "1\n",
      "2021-09-14T04:24:58.154000+00:00\n",
      "2021-09-14T04:24:58.154Z\n",
      "取箱6\n",
      "1631593492898\n",
      "危\n",
      "1\n",
      "2021-09-14T04:24:52.898000+00:00\n",
      "2021-09-14T04:24:52.898Z\n",
      "取箱6\n",
      "1631593477485\n",
      "危\n",
      "1\n",
      "2021-09-14T04:24:37.485000+00:00\n",
      "2021-09-14T04:24:37.485Z\n",
      "取箱7\n",
      "1631593455127\n",
      "韩\n",
      "1\n",
      "2021-09-14T04:24:15.127000+00:00\n",
      "2021-09-14T04:24:15.127Z\n",
      "取箱7\n",
      "1631593446791\n",
      "韩\n",
      "1\n",
      "2021-09-14T04:24:06.791000+00:00\n",
      "2021-09-14T04:24:06.791Z\n",
      "取箱6\n",
      "1631526156164\n",
      "危\n",
      "1\n",
      "2021-09-13T09:42:36.164000+00:00\n",
      "2021-09-13T09:42:36.164Z\n",
      "取箱11\n",
      "1631526143159\n",
      "张荣荣\n",
      "1\n",
      "2021-09-13T09:42:23.159000+00:00\n",
      "2021-09-13T09:42:23.159Z\n"
     ]
    },
    {
     "data": {
      "text/plain": [
       "[{'type': 1,\n",
       "  'name': '危',\n",
       "  'boxresult': '取箱6',\n",
       "  'createdAt': '2021-09-14T08:16:09.711Z'},\n",
       " {'type': 1,\n",
       "  'name': '张荣荣',\n",
       "  'boxresult': '取箱11',\n",
       "  'createdAt': '2021-09-14T06:16:40.602Z'},\n",
       " {'type': 1,\n",
       "  'name': '张荣荣',\n",
       "  'boxresult': '取箱11',\n",
       "  'createdAt': '2021-09-14T06:16:34.743Z'},\n",
       " {'type': 1,\n",
       "  'name': '危',\n",
       "  'boxresult': '取箱6',\n",
       "  'createdAt': '2021-09-14T04:24:58.154Z'},\n",
       " {'type': 1,\n",
       "  'name': '危',\n",
       "  'boxresult': '取箱6',\n",
       "  'createdAt': '2021-09-14T04:24:52.898Z'},\n",
       " {'type': 1,\n",
       "  'name': '危',\n",
       "  'boxresult': '取箱6',\n",
       "  'createdAt': '2021-09-14T04:24:37.485Z'},\n",
       " {'type': 1,\n",
       "  'name': '韩',\n",
       "  'boxresult': '取箱7',\n",
       "  'createdAt': '2021-09-14T04:24:15.127Z'},\n",
       " {'type': 1,\n",
       "  'name': '韩',\n",
       "  'boxresult': '取箱7',\n",
       "  'createdAt': '2021-09-14T04:24:06.791Z'},\n",
       " {'type': 1,\n",
       "  'name': '危',\n",
       "  'boxresult': '取箱6',\n",
       "  'createdAt': '2021-09-13T09:42:36.164Z'},\n",
       " {'type': 1,\n",
       "  'name': '张荣荣',\n",
       "  'boxresult': '取箱11',\n",
       "  'createdAt': '2021-09-13T09:42:23.159Z'}]"
      ]
     },
     "execution_count": 8,
     "metadata": {},
     "output_type": "execute_result"
    }
   ],
   "source": [
    "boxlogbypage(10,10,1577808000000,1640707200000,-1)"
   ]
  },
  {
   "cell_type": "code",
   "execution_count": null,
   "id": "promotional-round",
   "metadata": {},
   "outputs": [],
   "source": []
  }
 ],
 "metadata": {
  "kernelspec": {
   "display_name": "Python 3",
   "language": "python",
   "name": "python3"
  },
  "language_info": {
   "codemirror_mode": {
    "name": "ipython",
    "version": 3
   },
   "file_extension": ".py",
   "mimetype": "text/x-python",
   "name": "python",
   "nbconvert_exporter": "python",
   "pygments_lexer": "ipython3",
   "version": "3.8.10"
  }
 },
 "nbformat": 4,
 "nbformat_minor": 5
}
